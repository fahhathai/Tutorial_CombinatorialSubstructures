{
  "nbformat": 4,
  "nbformat_minor": 0,
  "metadata": {
    "colab": {
      "provenance": []
    },
    "kernelspec": {
      "name": "python3",
      "display_name": "Python 3"
    },
    "language_info": {
      "name": "python"
    }
  },
  "cells": [
    {
      "cell_type": "markdown",
      "source": [
        "# **Combinatorial Chemical Substructures** \n",
        "This combinatorial tutorial was created by Hathaichanok Chuntakaruk, Bioinformatics and Computational Biology, Chulalongkorn University, Thailand\n",
        "\n",
        "Edited in 13/03/2023\n"
      ],
      "metadata": {
        "id": "TCHVG4n5fvJJ"
      }
    },
    {
      "cell_type": "markdown",
      "source": [
        "## Mount google colab to google drive ###"
      ],
      "metadata": {
        "id": "tbNLNlbmuo72"
      }
    },
    {
      "cell_type": "code",
      "source": [
        "from google.colab import drive\n",
        "drive.mount('/content/drive')"
      ],
      "metadata": {
        "colab": {
          "base_uri": "https://localhost:8080/"
        },
        "id": "uv2a5AbXuVj3",
        "outputId": "9250af6c-10a8-466f-d09a-05e2eda03f9d"
      },
      "execution_count": 5,
      "outputs": [
        {
          "output_type": "stream",
          "name": "stdout",
          "text": [
            "Mounted at /content/drive\n"
          ]
        }
      ]
    },
    {
      "cell_type": "markdown",
      "source": [
        "## Install \"RDKit\" library \n",
        "RDKit is a collection of cheminformatics and machine-learning software written in C++ and Python.\n",
        "\n",
        "Ref: https://www.rdkit.org/ and https://colab.research.google.com/drive/1MAZyv3O4-TrI8c1MD4JVmwExDquaprRT?usp=sharing"
      ],
      "metadata": {
        "id": "A87554c4tJOo"
      }
    },
    {
      "cell_type": "code",
      "source": [
        "!pip install rdkit"
      ],
      "metadata": {
        "colab": {
          "base_uri": "https://localhost:8080/"
        },
        "id": "CPyvQN5olRuU",
        "outputId": "700b1d19-b0f9-43de-ee28-6ffac4b8090c"
      },
      "execution_count": 6,
      "outputs": [
        {
          "output_type": "stream",
          "name": "stdout",
          "text": [
            "Looking in indexes: https://pypi.org/simple, https://us-python.pkg.dev/colab-wheels/public/simple/\n",
            "Collecting rdkit\n",
            "  Downloading rdkit-2022.9.5-cp39-cp39-manylinux_2_17_x86_64.manylinux2014_x86_64.whl (29.4 MB)\n",
            "\u001b[2K     \u001b[90m━━━━━━━━━━━━━━━━━━━━━━━━━━━━━━━━━━━━━━━━\u001b[0m \u001b[32m29.4/29.4 MB\u001b[0m \u001b[31m27.7 MB/s\u001b[0m eta \u001b[36m0:00:00\u001b[0m\n",
            "\u001b[?25hRequirement already satisfied: Pillow in /usr/local/lib/python3.9/dist-packages (from rdkit) (8.4.0)\n",
            "Requirement already satisfied: numpy in /usr/local/lib/python3.9/dist-packages (from rdkit) (1.22.4)\n",
            "Installing collected packages: rdkit\n",
            "Successfully installed rdkit-2022.9.5\n"
          ]
        }
      ]
    },
    {
      "cell_type": "markdown",
      "source": [
        "## Install Open Babel \n",
        "Open Babel is a chemical toolbox designed to speak the many languages of chemical data.\n",
        "\n",
        "Ref: https://openbabel.org/docs/dev/Installation/install.html and Asst.Prof. Kowit Hengphasatporn, Center for Computational Sciences, University of Tsukuba"
      ],
      "metadata": {
        "id": "U9NMyov9CNoJ"
      }
    },
    {
      "cell_type": "code",
      "source": [
        "!wget -c https://repo.continuum.io/miniconda/Miniconda3-latest-Linux-x86_64.sh\n",
        "!chmod +x Miniconda3-latest-Linux-x86_64.sh\n",
        "!bash ./Miniconda3-latest-Linux-x86_64.sh -b -f -p /usr/local"
      ],
      "metadata": {
        "colab": {
          "base_uri": "https://localhost:8080/"
        },
        "id": "8qQwQhnfnm2K",
        "outputId": "bda9bb7b-38fb-4031-9836-abceee4bc3cf"
      },
      "execution_count": 7,
      "outputs": [
        {
          "output_type": "stream",
          "name": "stdout",
          "text": [
            "--2023-03-13 10:02:33--  https://repo.continuum.io/miniconda/Miniconda3-latest-Linux-x86_64.sh\n",
            "Resolving repo.continuum.io (repo.continuum.io)... 104.18.200.79, 104.18.201.79, 2606:4700::6812:c94f, ...\n",
            "Connecting to repo.continuum.io (repo.continuum.io)|104.18.200.79|:443... connected.\n",
            "HTTP request sent, awaiting response... 301 Moved Permanently\n",
            "Location: https://repo.anaconda.com/miniconda/Miniconda3-latest-Linux-x86_64.sh [following]\n",
            "--2023-03-13 10:02:33--  https://repo.anaconda.com/miniconda/Miniconda3-latest-Linux-x86_64.sh\n",
            "Resolving repo.anaconda.com (repo.anaconda.com)... 104.16.130.3, 104.16.131.3, 2606:4700::6810:8303, ...\n",
            "Connecting to repo.anaconda.com (repo.anaconda.com)|104.16.130.3|:443... connected.\n",
            "HTTP request sent, awaiting response... 200 OK\n",
            "Length: 74403966 (71M) [application/x-sh]\n",
            "Saving to: ‘Miniconda3-latest-Linux-x86_64.sh’\n",
            "\n",
            "Miniconda3-latest-L 100%[===================>]  70.96M   121MB/s    in 0.6s    \n",
            "\n",
            "2023-03-13 10:02:34 (121 MB/s) - ‘Miniconda3-latest-Linux-x86_64.sh’ saved [74403966/74403966]\n",
            "\n",
            "PREFIX=/usr/local\n",
            "Unpacking payload ...\n",
            "                                                                            \n",
            "Installing base environment...\n",
            "\n",
            "\n",
            "Downloading and Extracting Packages\n",
            "\n",
            "\n",
            "Downloading and Extracting Packages\n",
            "\n",
            "Preparing transaction: - \b\b\\ \b\b| \b\b/ \b\b- \b\b\\ \b\b| \b\b/ \b\b- \b\b\\ \b\b| \b\b/ \b\b- \b\b\\ \b\b| \b\b/ \b\b- \b\bdone\n",
            "Executing transaction: | \b\b/ \b\b- \b\b\\ \b\b| \b\b/ \b\b- \b\b\\ \b\b| \b\b/ \b\b- \b\b\\ \b\b| \b\b/ \b\b- \b\b\\ \b\b| \b\b/ \b\b- \b\b\\ \b\b| \b\b/ \b\b- \b\b\\ \b\b| \b\b/ \b\b- \b\b\\ \b\b| \b\b/ \b\b- \b\b\\ \b\b| \b\b/ \b\b- \b\b\\ \b\b| \b\b/ \b\b- \b\b\\ \b\b| \b\b/ \b\b- \b\b\\ \b\b| \b\b/ \b\b- \b\b\\ \b\b| \b\b/ \b\b- \b\b\\ \b\b| \b\b/ \b\b- \b\b\\ \b\b| \b\b/ \b\b- \b\bdone\n",
            "installation finished.\n",
            "WARNING:\n",
            "    You currently have a PYTHONPATH environment variable set. This may cause\n",
            "    unexpected behavior when running the Python interpreter in Miniconda3.\n",
            "    For best results, please verify that your PYTHONPATH only points to\n",
            "    directories of packages that are compatible with the Python interpreter\n",
            "    in Miniconda3: /usr/local\n"
          ]
        }
      ]
    },
    {
      "cell_type": "code",
      "source": [
        "!conda install -q -y -c conda-forge openbabel zlib --yes"
      ],
      "metadata": {
        "id": "cacQofEZqAZm",
        "colab": {
          "base_uri": "https://localhost:8080/"
        },
        "outputId": "19f3cef7-591f-4850-93da-4479a50a4be5"
      },
      "execution_count": 8,
      "outputs": [
        {
          "output_type": "stream",
          "name": "stdout",
          "text": [
            "Collecting package metadata (current_repodata.json): ...working... done\n",
            "Solving environment: ...working... done\n",
            "\n",
            "## Package Plan ##\n",
            "\n",
            "  environment location: /usr/local\n",
            "\n",
            "  added / updated specs:\n",
            "    - openbabel\n",
            "    - zlib\n",
            "\n",
            "\n",
            "The following packages will be downloaded:\n",
            "\n",
            "    package                    |            build\n",
            "    ---------------------------|-----------------\n",
            "    _libgcc_mutex-0.1          |      conda_forge           3 KB  conda-forge\n",
            "    _openmp_mutex-4.5          |       2_kmp_llvm           6 KB  conda-forge\n",
            "    ca-certificates-2022.12.7  |       ha878542_0         143 KB  conda-forge\n",
            "    cairo-1.16.0               |       hb05425b_3         1.2 MB\n",
            "    certifi-2022.12.7          |     pyhd8ed1ab_0         147 KB  conda-forge\n",
            "    conda-23.1.0               |  py310hff52083_0         918 KB  conda-forge\n",
            "    fontconfig-2.14.1          |       hef1e5e3_0         284 KB\n",
            "    freetype-2.12.1            |       hca18f0e_1         611 KB  conda-forge\n",
            "    glib-2.69.1                |       he621ea3_2         1.9 MB\n",
            "    icu-70.1                   |       h27087fc_0        13.5 MB  conda-forge\n",
            "    libgcc-ng-12.2.0           |      h65d4601_19         931 KB  conda-forge\n",
            "    libiconv-1.17              |       h166bdaf_0         1.4 MB  conda-forge\n",
            "    libpng-1.6.39              |       h753d276_0         276 KB  conda-forge\n",
            "    libxcb-1.15                |       h7f8727e_0         505 KB\n",
            "    libxml2-2.9.14             |       h22db469_4         771 KB  conda-forge\n",
            "    libzlib-1.2.13             |       h166bdaf_4          64 KB  conda-forge\n",
            "    llvm-openmp-15.0.7         |       h0cdce71_0         3.1 MB  conda-forge\n",
            "    openbabel-3.1.1            |  py310h154a6b4_3         5.6 MB  conda-forge\n",
            "    openssl-1.1.1t             |       h0b41bf4_0         1.9 MB  conda-forge\n",
            "    pcre-8.45                  |       h9c3ff4c_0         253 KB  conda-forge\n",
            "    pixman-0.40.0              |       h36c2ea0_0         627 KB  conda-forge\n",
            "    python_abi-3.10            |          2_cp310           4 KB  conda-forge\n",
            "    zlib-1.2.13                |       h166bdaf_4          92 KB  conda-forge\n",
            "    ------------------------------------------------------------\n",
            "                                           Total:        34.1 MB\n",
            "\n",
            "The following NEW packages will be INSTALLED:\n",
            "\n",
            "  cairo              pkgs/main/linux-64::cairo-1.16.0-hb05425b_3 \n",
            "  fontconfig         pkgs/main/linux-64::fontconfig-2.14.1-hef1e5e3_0 \n",
            "  freetype           conda-forge/linux-64::freetype-2.12.1-hca18f0e_1 \n",
            "  glib               pkgs/main/linux-64::glib-2.69.1-he621ea3_2 \n",
            "  icu                conda-forge/linux-64::icu-70.1-h27087fc_0 \n",
            "  libiconv           conda-forge/linux-64::libiconv-1.17-h166bdaf_0 \n",
            "  libpng             conda-forge/linux-64::libpng-1.6.39-h753d276_0 \n",
            "  libxcb             pkgs/main/linux-64::libxcb-1.15-h7f8727e_0 \n",
            "  libxml2            conda-forge/linux-64::libxml2-2.9.14-h22db469_4 \n",
            "  libzlib            conda-forge/linux-64::libzlib-1.2.13-h166bdaf_4 \n",
            "  llvm-openmp        conda-forge/linux-64::llvm-openmp-15.0.7-h0cdce71_0 \n",
            "  openbabel          conda-forge/linux-64::openbabel-3.1.1-py310h154a6b4_3 \n",
            "  pcre               conda-forge/linux-64::pcre-8.45-h9c3ff4c_0 \n",
            "  pixman             conda-forge/linux-64::pixman-0.40.0-h36c2ea0_0 \n",
            "  python_abi         conda-forge/linux-64::python_abi-3.10-2_cp310 \n",
            "\n",
            "The following packages will be REMOVED:\n",
            "\n",
            "  libgomp-11.2.0-h1234567_1\n",
            "\n",
            "The following packages will be UPDATED:\n",
            "\n",
            "  libgcc-ng          pkgs/main::libgcc-ng-11.2.0-h1234567_1 --> conda-forge::libgcc-ng-12.2.0-h65d4601_19 \n",
            "  openssl              pkgs/main::openssl-1.1.1s-h7f8727e_0 --> conda-forge::openssl-1.1.1t-h0b41bf4_0 \n",
            "  zlib                    pkgs/main::zlib-1.2.13-h5eee18b_0 --> conda-forge::zlib-1.2.13-h166bdaf_4 \n",
            "\n",
            "The following packages will be SUPERSEDED by a higher-priority channel:\n",
            "\n",
            "  _libgcc_mutex           pkgs/main::_libgcc_mutex-0.1-main --> conda-forge::_libgcc_mutex-0.1-conda_forge \n",
            "  _openmp_mutex          pkgs/main::_openmp_mutex-5.1-1_gnu --> conda-forge::_openmp_mutex-4.5-2_kmp_llvm \n",
            "  ca-certificates    pkgs/main::ca-certificates-2023.01.10~ --> conda-forge::ca-certificates-2022.12.7-ha878542_0 \n",
            "  certifi            pkgs/main/linux-64::certifi-2022.12.7~ --> conda-forge/noarch::certifi-2022.12.7-pyhd8ed1ab_0 \n",
            "  conda              pkgs/main::conda-23.1.0-py310h06a4308~ --> conda-forge::conda-23.1.0-py310hff52083_0 \n",
            "\n",
            "\n",
            "Preparing transaction: ...working... done\n",
            "Verifying transaction: ...working... done\n",
            "Executing transaction: ...working... done\n"
          ]
        }
      ]
    },
    {
      "cell_type": "markdown",
      "source": [
        "## Install py3Dmol \n",
        "A simple [IPython/Jupyter](http://jupyter.org/) widget to embed an interactive [3Dmol.js](http://3dmol.org) viewer in a notebook.\n",
        "\n",
        "Ref: https://pypi.org/project/py3Dmol/"
      ],
      "metadata": {
        "id": "TOn3zZXYEzDl"
      }
    },
    {
      "cell_type": "code",
      "source": [
        "!pip install py3Dmol"
      ],
      "metadata": {
        "id": "ioCymqBaFKlM",
        "colab": {
          "base_uri": "https://localhost:8080/",
          "height": 236
        },
        "outputId": "9f9701ac-5c27-4568-bfa2-ea4a9d6ee3f6"
      },
      "execution_count": 9,
      "outputs": [
        {
          "output_type": "stream",
          "name": "stdout",
          "text": [
            "Looking in indexes: https://pypi.org/simple, https://us-python.pkg.dev/colab-wheels/public/simple/\n",
            "Collecting py3Dmol\n",
            "  Using cached py3Dmol-2.0.1.post1-py2.py3-none-any.whl (12 kB)\n",
            "Installing collected packages: py3Dmol\n",
            "Successfully installed py3Dmol-2.0.1.post1\n",
            "\u001b[33mWARNING: Running pip as the 'root' user can result in broken permissions and conflicting behaviour with the system package manager. It is recommended to use a virtual environment instead: https://pip.pypa.io/warnings/venv\u001b[0m\u001b[33m\n",
            "\u001b[0m"
          ]
        },
        {
          "output_type": "display_data",
          "data": {
            "application/vnd.colab-display-data+json": {
              "pip_warning": {
                "packages": [
                  "py3Dmol"
                ]
              }
            }
          },
          "metadata": {}
        }
      ]
    },
    {
      "cell_type": "markdown",
      "source": [
        "## Clone the GitHub Repository\n",
        "The git clone command is used to create a copy of a specific repository or branch within a repository.\n",
        "Ref: https://github.com/git-guides/git-clone"
      ],
      "metadata": {
        "id": "9QiqjaUKqBLX"
      }
    },
    {
      "cell_type": "code",
      "source": [
        "!git clone https://github.com/fahhathai/Tutorial_CombinatorialSubstructures.git"
      ],
      "metadata": {
        "id": "eVl-O1hrAbUx",
        "colab": {
          "base_uri": "https://localhost:8080/"
        },
        "outputId": "fb5a0e83-d629-4798-e987-664e5e6475bd"
      },
      "execution_count": 10,
      "outputs": [
        {
          "output_type": "stream",
          "name": "stdout",
          "text": [
            "Cloning into 'Tutorial_CombinatorialSubstructures'...\n",
            "remote: Enumerating objects: 25, done.\u001b[K\n",
            "remote: Counting objects: 100% (25/25), done.\u001b[K\n",
            "remote: Compressing objects: 100% (24/24), done.\u001b[K\n",
            "remote: Total 25 (delta 9), reused 0 (delta 0), pack-reused 0\u001b[K\n",
            "Unpacking objects: 100% (25/25), 175.01 KiB | 1.30 MiB/s, done.\n"
          ]
        }
      ]
    },
    {
      "cell_type": "markdown",
      "source": [
        "## Convert mol files to smiles format \n",
        "Convert mol files of DRV and one modified moiety of analogs to smiles format using Open Babel"
      ],
      "metadata": {
        "id": "ACphGTrcHaMA"
      }
    },
    {
      "cell_type": "code",
      "source": [
        "!mkdir /content/Tutorial_CombinatorialSubstructures/smiles_dir"
      ],
      "metadata": {
        "id": "NMEreVhRPZz7"
      },
      "execution_count": 11,
      "outputs": []
    },
    {
      "cell_type": "code",
      "source": [
        "cmp_name = [\"DRV\", \"cmp_diffP1\", \"cmp_diffP1p\", \"cmp_diffP2\", \"cmp_diffP2p\"]\n",
        "cmp_path = \"/content/Tutorial_CombinatorialSubstructures/\"\n",
        "smiles_path = \"/content/Tutorial_CombinatorialSubstructures/smiles_dir/\"\n",
        "mol_format = \".mol\"\n",
        "smiles_format = \".smi\"\n",
        "\n",
        "for i in cmp_name:\n",
        "  !obabel -imol $cmp_path$i$mol_format -osmi -O $smiles_path$i$smiles_format -p 7.4 --ff GAFF"
      ],
      "metadata": {
        "colab": {
          "base_uri": "https://localhost:8080/"
        },
        "id": "UYYY8O3TF1Z5",
        "outputId": "b626268d-4604-4c41-e0e0-b44528b1eebe"
      },
      "execution_count": 12,
      "outputs": [
        {
          "output_type": "stream",
          "name": "stdout",
          "text": [
            "1 molecule converted\n",
            "20 molecules converted\n",
            "20 molecules converted\n",
            "20 molecules converted\n",
            "20 molecules converted\n"
          ]
        }
      ]
    },
    {
      "cell_type": "markdown",
      "source": [
        "## Collect smiles format to list \n",
        "Collect each smiles format of DRV and one modified moiety of analogs to csv pattern for converting to list form using RDKit"
      ],
      "metadata": {
        "id": "CAM1pe6QYnXN"
      }
    },
    {
      "cell_type": "code",
      "source": [
        "import pandas as pd\n",
        "import re\n",
        "import py3Dmol\n",
        "import rdkit\n",
        "from rdkit import Chem\n",
        "from rdkit.Chem import AllChem\n",
        "from rdkit.Chem import PandasTools\n",
        "from rdkit.Chem import Draw\n",
        "from rdkit.Chem.Draw import IPythonConsole\n",
        "from rdkit.Chem.PandasTools import LoadSDF\n",
        "IPythonConsole.ipython_useSVG=True"
      ],
      "metadata": {
        "id": "ILNo6Zk-dA-g"
      },
      "execution_count": 13,
      "outputs": []
    },
    {
      "cell_type": "code",
      "source": [
        "for j in cmp_name:\n",
        "  path = smiles_path + j + smiles_format\n",
        "  print(\"Set of \" + j)\n",
        "  with open(path, 'r') as f:\n",
        "    content = f.read()\n",
        "    print(content)"
      ],
      "metadata": {
        "colab": {
          "base_uri": "https://localhost:8080/"
        },
        "id": "XqOan1M9gv7z",
        "outputId": "5dceb621-b2e2-4fb9-b7b2-1ae8176d4175"
      },
      "execution_count": 14,
      "outputs": [
        {
          "output_type": "stream",
          "name": "stdout",
          "text": [
            "Set of DRV\n",
            "C1O[C@H]2OCC[C@H]2[C@H]1OC(=O)N[C@@H](Cc1ccccc1)[C@H](O)CN(CC(C)C)S(=O)(=O)c1ccc(N)cc1\t0-0-0-0\n",
            "\n",
            "Set of cmp_diffP1\n",
            "C1O[C@H]2OCC[C@H]2[C@H]1OC(=O)N[C@@H](Cc1cc(ccc1)C(=O)[O-])[C@H](O)CN(CC(C)C)S(=O)(=O)c1ccc(N)cc1\t1-0-0-0\n",
            "C1O[C@H]2OCC[C@H]2[C@H]1OC(=O)N[C@@H](Cc1c2c([nH]c1)cccc2)[C@H](O)CN(CC(C)C)S(=O)(=O)c1ccc(N)cc1\t2-0-0-0\n",
            "C1O[C@H]2OCC[C@H]2[C@H]1OC(=O)N[C@@H](Cc1ccc(cc1)c1ccncc1)[C@H](O)CN(CC(C)C)S(=O)(=O)c1ccc(N)cc1\t3-0-0-0\n",
            "C1O[C@H]2OCC[C@H]2[C@H]1OC(=O)N[C@@H](Cc1ccc2c(c1)cnc(c2)C(C)C)[C@H](O)CN(CC(C)C)S(=O)(=O)c1ccc(N)cc1\t4-0-0-0\n",
            "C1O[C@H]2OCC[C@H]2[C@H]1OC(=O)N[C@@H](Cc1ccc2c(c1)cncc2)[C@H](O)CN(CC(C)C)S(=O)(=O)c1ccc(N)cc1\t5-0-0-0\n",
            "C1O[C@H]2OCC[C@H]2[C@H]1OC(=O)N[C@@H](Cc1cc(ccc1)C(C)C)[C@H](O)CN(CC(C)C)S(=O)(=O)c1ccc(N)cc1\t6-0-0-0\n",
            "C1O[C@H]2OCC[C@H]2[C@H]1OC(=O)N[C@@H](Cc1ccc(cc1)[C@H]([C@H](O)O)C)[C@H](O)CN(CC(C)C)S(=O)(=O)c1ccc(N)cc1\t7-0-0-0\n",
            "C1O[C@H]2OCC[C@H]2[C@H]1OC(=O)N[C@@H](Cc1ccc(cc1)[C@H](C)C(=O)[O-])[C@H](O)CN(CC(C)C)S(=O)(=O)c1ccc(N)cc1\t8-0-0-0\n",
            "C1O[C@H]2OCC[C@H]2[C@H]1OC(=O)N[C@@H](Cc1ccncc1)[C@H](O)CN(CC(C)C)S(=O)(=O)c1ccc(N)cc1\t9-0-0-0\n",
            "C1O[C@H]2OCC[C@H]2[C@H]1OC(=O)N[C@@H](Cc1ccc(cc1)CO)[C@H](O)CN(CC(C)C)S(=O)(=O)c1ccc(N)cc1\t10-0-0-0\n",
            "C1O[C@H]2OCC[C@H]2[C@H]1OC(=O)N[C@@H](Cc1ccc(cc1)CCl)[C@H](O)CN(CC(C)C)S(=O)(=O)c1ccc(N)cc1\t11-0-0-0\n",
            "C1O[C@H]2OCC[C@H]2[C@H]1OC(=O)N[C@@H](Cc1cc2c(cc1)OCO2)[C@H](O)CN(CC(C)C)S(=O)(=O)c1ccc(N)cc1\t12-0-0-0\n",
            "C1O[C@H]2OCC[C@H]2[C@H]1OC(=O)N[C@@H](Cc1cc2c(cc1)NCC2)[C@H](O)CN(CC(C)C)S(=O)(=O)c1ccc(N)cc1\t13-0-0-0\n",
            "C1O[C@H]2OCC[C@H]2[C@H]1OC(=O)N[C@@H](Cc1cc(ccc1)[C@@H](c1ccc[nH]1)[NH3+])[C@H](O)CN(CC(C)C)S(=O)(=O)c1ccc(N)cc1\t14-0-0-0\n",
            "C1O[C@H]2OCC[C@H]2[C@H]1OC(=O)N[C@@H](Cc1cc(ccc1)[C@H](c1ccc[nH]1)[NH3+])[C@H](O)CN(CC(C)C)S(=O)(=O)c1ccc(N)cc1\t15-0-0-0\n",
            "C1O[C@H]2OCC[C@H]2[C@H]1OC(=O)N[C@@H](Cc1cc(ccc1)c1ccc[nH]1)[C@H](O)CN(CC(C)C)S(=O)(=O)c1ccc(N)cc1\t16-0-0-0\n",
            "C1O[C@H]2OCC[C@H]2[C@H]1OC(=O)N[C@@H](Cc1c(cccc1)C(=O)[O-])[C@H](O)CN(CC(C)C)S(=O)(=O)c1ccc(N)cc1\t17-0-0-0\n",
            "C1O[C@H]2OCC[C@H]2[C@H]1OC(=O)N[C@@H](Cc1c(cccc1)CO)[C@H](O)CN(CC(C)C)S(=O)(=O)c1ccc(N)cc1\t18-0-0-0\n",
            "C1O[C@H]2OCC[C@H]2[C@H]1OC(=O)N[C@@H](Cc1ccc(cc1)O)[C@H](O)CN(CC(C)C)S(=O)(=O)c1ccc(N)cc1\t19-0-0-0\n",
            "C1O[C@H]2OCC[C@H]2[C@H]1OC(=O)N[C@@H](Cc1cc(c(cc1)C(=O)[O-])C)[C@H](O)CN(CC(C)C)S(=O)(=O)c1ccc(N)cc1\t20-0-0-0\n",
            "\n",
            "Set of cmp_diffP1p\n",
            "C1O[C@H]2OCC[C@H]2[C@H]1OC(=O)N[C@@H](Cc1ccccc1)[C@H](O)CN(CCc1ccccc1)S(=O)(=O)c1ccc(N)cc1\t0-1-0-0\n",
            "C1O[C@H]2OCC[C@H]2[C@H]1OC(=O)N[C@@H](Cc1ccccc1)[C@H](O)CN(Cc1cc(c(cc1)Cl)Cl)S(=O)(=O)c1ccc(N)cc1\t0-2-0-0\n",
            "C1O[C@H]2OCC[C@H]2[C@H]1OC(=O)N[C@@H](Cc1ccccc1)[C@H](O)CN(CCCCc1ccccc1)S(=O)(=O)c1ccc(N)cc1\t0-3-0-0\n",
            "C1O[C@H]2OCC[C@H]2[C@H]1OC(=O)N[C@@H](Cc1ccccc1)[C@H](O)CN(C/C=C/C)S(=O)(=O)c1ccc(N)cc1\t0-4-0-0\n",
            "C1O[C@H]2OCC[C@H]2[C@H]1OC(=O)N[C@@H](Cc1ccccc1)[C@H](O)CN(CCc1cc(c(cc1)Cl)Cl)S(=O)(=O)c1ccc(N)cc1\t0-5-0-0\n",
            "C1O[C@H]2OCC[C@H]2[C@H]1OC(=O)N[C@@H](Cc1ccccc1)[C@H](O)CN(CCCC)S(=O)(=O)c1ccc(N)cc1\t0-6-0-0\n",
            "C1O[C@H]2OCC[C@H]2[C@H]1OC(=O)N[C@@H](Cc1ccccc1)[C@H](O)CN(CCc1ccc(cc1)Cl)S(=O)(=O)c1ccc(N)cc1\t0-7-0-0\n",
            "C1O[C@H]2OCC[C@H]2[C@H]1OC(=O)N[C@@H](Cc1ccccc1)[C@H](O)CN(S(=O)(=O)c1ccc(N)cc1)[C@@H]1CC[N@@H+](C)CC1\t0-8-0-0\n",
            "C1O[C@H]2OCC[C@H]2[C@H]1OC(=O)N[C@@H](Cc1ccccc1)[C@H](O)CN(CCC(=O)OCC)S(=O)(=O)c1ccc(N)cc1\t0-9-0-0\n",
            "C1O[C@H]2OCC[C@H]2[C@H]1OC(=O)N[C@@H](Cc1ccccc1)[C@H](O)CN(CCCCC1=CC=CC1)S(=O)(=O)c1ccc(N)cc1\t0-10-0-0\n",
            "C1O[C@H]2OCC[C@H]2[C@H]1OC(=O)N[C@@H](Cc1ccccc1)[C@H](O)CN(CCOCC)S(=O)(=O)c1ccc(N)cc1\t0-11-0-0\n",
            "C1O[C@H]2OCC[C@H]2[C@H]1OC(=O)N[C@@H](Cc1ccccc1)[C@H](O)CN(CC[NH+]1CCOCC1)S(=O)(=O)c1ccc(N)cc1\t0-12-0-0\n",
            "C1O[C@H]2OCC[C@H]2[C@H]1OC(=O)N[C@@H](Cc1ccccc1)[C@H](O)CN(CCCCC(=O)[O-])S(=O)(=O)c1ccc(N)cc1\t0-13-0-0\n",
            "C1O[C@H]2OCC[C@H]2[C@H]1OC(=O)N[C@@H](Cc1ccccc1)[C@H](O)CN(Cc1ccc(cc1)Cl)S(=O)(=O)c1ccc(N)cc1\t0-14-0-0\n",
            "C1O[C@H]2OCC[C@H]2[C@H]1OC(=O)N[C@@H](Cc1ccccc1)[C@H](O)CN(S(=O)(=O)c1ccc(N)cc1)c1ccc(cc1)CC(C)C\t0-15-0-0\n",
            "C1O[C@H]2OCC[C@H]2[C@H]1OC(=O)N[C@@H](Cc1ccccc1)[C@H](O)CN(C[C@@H](C)[NH3+])S(=O)(=O)c1ccc(N)cc1\t0-16-0-0\n",
            "C1O[C@H]2OCC[C@H]2[C@H]1OC(=O)N[C@@H](Cc1ccccc1)[C@H](O)CN(C[C@@H](C)[NH3+])S(=O)(=O)c1ccc(N)cc1\t0-17-0-0\n",
            "C1O[C@H]2OCC[C@H]2[C@H]1OC(=O)N[C@@H](Cc1ccccc1)[C@H](O)CN(CCC(=O)[O-])S(=O)(=O)c1ccc(N)cc1\t0-18-0-0\n",
            "C1O[C@H]2OCC[C@H]2[C@H]1OC(=O)N[C@@H](Cc1ccccc1)[C@H](O)CN(C(C)C)S(=O)(=O)c1ccc(N)cc1\t0-19-0-0\n",
            "C1O[C@H]2OCC[C@H]2[C@H]1OC(=O)N[C@@H](Cc1ccccc1)[C@H](O)CN(CCc1cccnc1)S(=O)(=O)c1ccc(N)cc1\t0-20-0-0\n",
            "\n",
            "Set of cmp_diffP2\n",
            "C1O[C@H]2O[C@H](C[C@H]2[C@H]1OC(=O)N[C@@H](Cc1ccccc1)[C@H](O)CN(CC(C)C)S(=O)(=O)c1ccc(N)cc1)C(=O)[O-]\t0-0-1-0\n",
            "C1O[C@H]2O[C@@H](C[C@H]2[C@H]1OC(=O)N[C@@H](Cc1ccccc1)[C@H](O)CN(CC(C)C)S(=O)(=O)c1ccc(N)cc1)C(=O)[O-]\t0-0-2-0\n",
            "C1O[C@H]2O[C@@H](C[C@H]2[C@H]1OC(=O)N[C@@H](Cc1ccccc1)[C@H](O)CN(CC(C)C)S(=O)(=O)c1ccc(N)cc1)C(C)C\t0-0-3-0\n",
            "C1O[C@H]2O[C@H](C[C@H]2[C@H]1OC(=O)N[C@@H](Cc1ccccc1)[C@H](O)CN(CC(C)C)S(=O)(=O)c1ccc(N)cc1)C(C)C\t0-0-4-0\n",
            "C1O[C@H]2O[C@@H](C[C@H]2[C@H]1OC(=O)N[C@@H](Cc1ccccc1)[C@H](O)CN(CC(C)C)S(=O)(=O)c1ccc(N)cc1)NO\t0-0-5-0\n",
            "C1O[C@H]2O[C@H](C[C@H]2[C@H]1OC(=O)N[C@@H](Cc1ccccc1)[C@H](O)CN(CC(C)C)S(=O)(=O)c1ccc(N)cc1)NO\t0-0-6-0\n",
            "C1O[C@H]2O[C@H](C[C@H]2[C@H]1OC(=O)N[C@@H](Cc1ccccc1)[C@H](O)CN(CC(C)C)S(=O)(=O)c1ccc(N)cc1)CC\t0-0-7-0\n",
            "C1O[C@H]2O[C@@H](C[C@H]2[C@H]1OC(=O)N[C@@H](Cc1ccccc1)[C@H](O)CN(CC(C)C)S(=O)(=O)c1ccc(N)cc1)CC\t0-0-8-0\n",
            "C1O[C@H]2O[C@H](C[C@H]2[C@H]1OC(=O)N[C@@H](Cc1ccccc1)[C@H](O)CN(CC(C)C)S(=O)(=O)c1ccc(N)cc1)[NH3+]\t0-0-9-0\n",
            "C1O[C@H]2O[C@@H](C[C@H]2[C@H]1OC(=O)N[C@@H](Cc1ccccc1)[C@H](O)CN(CC(C)C)S(=O)(=O)c1ccc(N)cc1)[NH3+]\t0-0-10-0\n",
            "C1O[C@H]2O[C@H](C[C@H]2[C@H]1OC(=O)N[C@@H](Cc1ccccc1)[C@H](O)CN(CC(C)C)S(=O)(=O)c1ccc(N)cc1)C[NH3+]\t0-0-11-0\n",
            "C1O[C@H]2O[C@@H](C[C@H]2[C@H]1OC(=O)N[C@@H](Cc1ccccc1)[C@H](O)CN(CC(C)C)S(=O)(=O)c1ccc(N)cc1)C[NH3+]\t0-0-12-0\n",
            "C1O[C@H]2OC[C@H]([C@H]2[C@H]1OC(=O)N[C@@H](Cc1ccccc1)[C@H](O)CN(CC(C)C)S(=O)(=O)c1ccc(N)cc1)[NH3+]\t0-0-13-0\n",
            "C1O[C@H]2OC[C@@H]([C@H]2[C@H]1OC(=O)N[C@@H](Cc1ccccc1)[C@H](O)CN(CC(C)C)S(=O)(=O)c1ccc(N)cc1)[NH3+]\t0-0-14-0\n",
            "[C@H]1(O[C@H]2OCC[C@H]2[C@H]1OC(=O)N[C@@H](Cc1ccccc1)[C@H](O)CN(CC(C)C)S(=O)(=O)c1ccc(N)cc1)N=C(C)C\t0-0-15-0\n",
            "[C@H]1(O[C@H]2OCC[C@H]2[C@H]1OC(=O)N[C@@H](Cc1ccccc1)[C@H](O)CN(CC(C)C)S(=O)(=O)c1ccc(N)cc1)N=C(C)C\t0-0-16-0\n",
            "[C@H]1(O[C@H]2OCC[C@H]2[C@H]1OC(=O)N[C@@H](Cc1ccccc1)[C@H](O)CN(CC(C)C)S(=O)(=O)c1ccc(N)cc1)C=C(C)C\t0-0-17-0\n",
            "[C@H]1(O[C@H]2OCC[C@H]2[C@H]1OC(=O)N[C@@H](Cc1ccccc1)[C@H](O)CN(CC(C)C)S(=O)(=O)c1ccc(N)cc1)C=C(C)C\t0-0-18-0\n",
            "C1O[C@H]2ONC[C@H]2[C@H]1OC(=O)N[C@@H](Cc1ccccc1)[C@H](O)CN(CC(C)C)S(=O)(=O)c1ccc(N)cc1\t0-0-19-0\n",
            "C1O[C@H]2OC[NH2+][C@H]2[C@H]1OC(=O)N[C@@H](Cc1ccccc1)[C@H](O)CN(CC(C)C)S(=O)(=O)c1ccc(N)cc1\t0-0-20-0\n",
            "\n",
            "Set of cmp_diffP2p\n",
            "C1O[C@H]2OCC[C@H]2[C@H]1OC(=O)N[C@@H](Cc1ccccc1)[C@H](O)CN(CC(C)C)S(=O)(=O)c1ccc(N)c(c1)C(C)C\t0-0-0-1\n",
            "C1O[C@H]2OCC[C@H]2[C@H]1OC(=O)N[C@@H](Cc1ccccc1)[C@H](O)CN(CC(C)C)S(=O)(=O)c1ccc(cc1)C[NH3+]\t0-0-0-2\n",
            "C1O[C@H]2OCC[C@H]2[C@H]1OC(=O)N[C@@H](Cc1ccccc1)[C@H](O)CN(CC(C)C)S(=O)(=O)c1cccc(c1)C(=O)[O-]\t0-0-0-3\n",
            "C1O[C@H]2OCC[C@H]2[C@H]1OC(=O)N[C@@H](Cc1ccccc1)[C@H](O)CN(CC(C)C)S(=O)(=O)c1ccc(cc1)Cl\t0-0-0-4\n",
            "C1O[C@H]2OCC[C@H]2[C@H]1OC(=O)N[C@@H](Cc1ccccc1)[C@H](O)CN(CC(C)C)S(=O)(=O)c1c(cc(cc1C)C)C\t0-0-0-5\n",
            "C1O[C@H]2OCC[C@H]2[C@H]1OC(=O)N[C@@H](Cc1ccccc1)[C@H](O)CN(CC(C)C)S(=O)(=O)c1ccc(cc1)C\t0-0-0-6\n",
            "C1O[C@H]2OCC[C@H]2[C@H]1OC(=O)N[C@@H](Cc1ccccc1)[C@H](O)CN(CC(C)C)S(=O)(=O)c1cn(nc1)C\t0-0-0-7\n",
            "C1O[C@H]2OCC[C@H]2[C@H]1OC(=O)N[C@@H](Cc1ccccc1)[C@H](O)CN(CC(C)C)S(=O)(=O)c1ccc(cc1)CC\t0-0-0-8\n",
            "C1O[C@H]2OCC[C@H]2[C@H]1OC(=O)N[C@@H](Cc1ccccc1)[C@H](O)CN(CC(C)C)S(=O)(=O)c1ccc(cc1)OC\t0-0-0-9\n",
            "C1O[C@H]2OCC[C@H]2[C@H]1OC(=O)N[C@@H](Cc1ccccc1)[C@H](O)CN(CC(C)C)S(=O)(=O)c1ccc(c(c1)Cl)Cl\t0-0-0-10\n",
            "C1O[C@H]2OCC[C@H]2[C@H]1OC(=O)N[C@@H](Cc1ccccc1)[C@H](O)CN(CC(C)C)S(=O)(=O)c1ccc(cc1)F\t0-0-0-11\n",
            "C1O[C@H]2OCC[C@H]2[C@H]1OC(=O)N[C@@H](Cc1ccccc1)[C@H](O)CN(CC(C)C)S(=O)(=O)c1ccc(cc1)Br\t0-0-0-12\n",
            "C1O[C@H]2OCC[C@H]2[C@H]1OC(=O)N[C@@H](Cc1ccccc1)[C@H](O)CN(CC(C)C)S(=O)(=O)c1ccccc1\t0-0-0-13\n",
            "C1O[C@H]2OCC[C@H]2[C@H]1OC(=O)N[C@@H](Cc1ccccc1)[C@H](O)CN(CC(C)C)S(=O)(=O)c1ccc(c(c1)N)Cl\t0-0-0-14\n",
            "C1O[C@H]2OCC[C@H]2[C@H]1OC(=O)N[C@@H](Cc1ccccc1)[C@H](O)CN(CC(C)C)S(=O)(=O)c1ccc(cc1)C(F)(F)F\t0-0-0-15\n",
            "C1O[C@H]2OCC[C@H]2[C@H]1OC(=O)N[C@@H](Cc1ccccc1)[C@H](O)CN(CC(C)C)S(=O)(=O)c1ccc(cc1)OC(F)(F)F\t0-0-0-16\n",
            "C1O[C@H]2OCC[C@H]2[C@H]1OC(=O)N[C@@H](Cc1ccccc1)[C@H](O)CN(CC(C)C)S(=O)(=O)c1ccc(cc1)[C@@H](O)C\t0-0-0-17\n",
            "C1O[C@H]2OCC[C@H]2[C@H]1OC(=O)N[C@@H](Cc1ccccc1)[C@H](O)CN(CC(C)C)S(=O)(=O)c1ccc(cc1)C(C)C\t0-0-0-18\n",
            "C1O[C@H]2OCC[C@H]2[C@H]1OC(=O)N[C@@H](Cc1ccccc1)[C@H](O)CN(CC(C)C)S(=O)(=O)c1ccc(cc1)OC(C)C\t0-0-0-19\n",
            "C1O[C@H]2OCC[C@H]2[C@H]1OC(=O)N[C@@H](Cc1ccccc1)[C@H](O)CN(CC(C)C)S(=O)(=O)c1c2cccc(c2ccc1)N(C)C\t0-0-0-20\n",
            "\n"
          ]
        }
      ]
    },
    {
      "cell_type": "code",
      "source": [
        "DRV_smiles = []\n",
        "P1_smiles = []\n",
        "P1p_smiles = []\n",
        "P2_smiles = []\n",
        "P2p_smiles = []\n",
        "\n",
        "list_cmp = [DRV_smiles, P1_smiles, P1p_smiles, P2_smiles, P2p_smiles]\n",
        "\n",
        "cnt = 0\n",
        "for k in cmp_name:\n",
        "  path = smiles_path + k + smiles_format\n",
        "  with open(path, 'r') as infile:\n",
        "      data = infile.readlines()\n",
        "      for l in data:\n",
        "          each_smi = l.split()          \n",
        "          list_cmp[cnt].append(each_smi[0])\n",
        "  cnt = cnt + 1          "
      ],
      "metadata": {
        "id": "jymWKnQNpM0C"
      },
      "execution_count": 15,
      "outputs": []
    },
    {
      "cell_type": "code",
      "source": [
        "print(DRV_smiles[0:3])\n",
        "print(P1_smiles[0:3])\n",
        "print(P1p_smiles[0:3])\n",
        "print(P2_smiles[0:3])\n",
        "print(P2p_smiles[0:3])"
      ],
      "metadata": {
        "colab": {
          "base_uri": "https://localhost:8080/"
        },
        "id": "yTUXNYAAwz7b",
        "outputId": "f4448339-df4c-46f1-87e8-2a5fd8114a3b"
      },
      "execution_count": 47,
      "outputs": [
        {
          "output_type": "stream",
          "name": "stdout",
          "text": [
            "['C1O[C@H]2OCC[C@H]2[C@H]1OC(=O)N[C@@H](Cc1ccccc1)[C@H](O)CN(CC(C)C)S(=O)(=O)c1ccc(N)cc1']\n",
            "['C1O[C@H]2OCC[C@H]2[C@H]1OC(=O)N[C@@H](Cc1cc(ccc1)C(=O)[O-])[C@H](O)CN(CC(C)C)S(=O)(=O)c1ccc(N)cc1', 'C1O[C@H]2OCC[C@H]2[C@H]1OC(=O)N[C@@H](Cc1c2c([nH]c1)cccc2)[C@H](O)CN(CC(C)C)S(=O)(=O)c1ccc(N)cc1', 'C1O[C@H]2OCC[C@H]2[C@H]1OC(=O)N[C@@H](Cc1ccc(cc1)c1ccncc1)[C@H](O)CN(CC(C)C)S(=O)(=O)c1ccc(N)cc1']\n",
            "['C1O[C@H]2OCC[C@H]2[C@H]1OC(=O)N[C@@H](Cc1ccccc1)[C@H](O)CN(CCc1ccccc1)S(=O)(=O)c1ccc(N)cc1', 'C1O[C@H]2OCC[C@H]2[C@H]1OC(=O)N[C@@H](Cc1ccccc1)[C@H](O)CN(Cc1cc(c(cc1)Cl)Cl)S(=O)(=O)c1ccc(N)cc1', 'C1O[C@H]2OCC[C@H]2[C@H]1OC(=O)N[C@@H](Cc1ccccc1)[C@H](O)CN(CCCCc1ccccc1)S(=O)(=O)c1ccc(N)cc1']\n",
            "['C1O[C@H]2O[C@H](C[C@H]2[C@H]1OC(=O)N[C@@H](Cc1ccccc1)[C@H](O)CN(CC(C)C)S(=O)(=O)c1ccc(N)cc1)C(=O)[O-]', 'C1O[C@H]2O[C@@H](C[C@H]2[C@H]1OC(=O)N[C@@H](Cc1ccccc1)[C@H](O)CN(CC(C)C)S(=O)(=O)c1ccc(N)cc1)C(=O)[O-]', 'C1O[C@H]2O[C@@H](C[C@H]2[C@H]1OC(=O)N[C@@H](Cc1ccccc1)[C@H](O)CN(CC(C)C)S(=O)(=O)c1ccc(N)cc1)C(C)C']\n",
            "['C1O[C@H]2OCC[C@H]2[C@H]1OC(=O)N[C@@H](Cc1ccccc1)[C@H](O)CN(CC(C)C)S(=O)(=O)c1ccc(N)c(c1)C(C)C', 'C1O[C@H]2OCC[C@H]2[C@H]1OC(=O)N[C@@H](Cc1ccccc1)[C@H](O)CN(CC(C)C)S(=O)(=O)c1ccc(cc1)C[NH3+]', 'C1O[C@H]2OCC[C@H]2[C@H]1OC(=O)N[C@@H](Cc1ccccc1)[C@H](O)CN(CC(C)C)S(=O)(=O)c1cccc(c1)C(=O)[O-]']\n"
          ]
        }
      ]
    },
    {
      "cell_type": "markdown",
      "source": [
        "## Structure figure \n",
        "># F1 ---- core1 ---- F2 ---- core2 ---- F3 ---- core3 ---- F4 -------------- extra F1\n",
        ">#  P2 ------------------- P1 ------------------ P1' ------------------ P2'-------------- extra P2"
      ],
      "metadata": {
        "id": "EOqpx63cxuKA"
      }
    },
    {
      "cell_type": "markdown",
      "source": [
        "## Define core structures "
      ],
      "metadata": {
        "id": "S0SLirGJzLtZ"
      }
    },
    {
      "cell_type": "code",
      "source": [
        "core1 = 'OC(=O)N[C@@H]'\n",
        "core2 = '[C@H](O)CN'\n",
        "core3 = 'S(=O)(=O)'"
      ],
      "metadata": {
        "id": "6EnvzubbxtcY"
      },
      "execution_count": 17,
      "outputs": []
    },
    {
      "cell_type": "markdown",
      "source": [
        "## Create lists to collect fragments: F1, F2, F3, and F4 ###\n",
        "Note: F1 = P2, F2 = P1, F3 = P1', F4 = P2' "
      ],
      "metadata": {
        "id": "6Zfed835ze_q"
      }
    },
    {
      "cell_type": "code",
      "source": [
        "lst_F1 = [] #P2\n",
        "lst_F2 = [] #P1\n",
        "lst_F3 = [] #P1'\n",
        "lst_F4 = [] #P2'"
      ],
      "metadata": {
        "id": "dNT3Ax0ezSM_"
      },
      "execution_count": 18,
      "outputs": []
    },
    {
      "cell_type": "markdown",
      "source": [
        "## Collect fragments\n",
        ">1. DRV --> split all cores (collect 0-0-0-0)"
      ],
      "metadata": {
        "id": "Q47stCvQzjRa"
      }
    },
    {
      "cell_type": "code",
      "source": [
        "DRV_split_lst = re.split(\"OC\\\\(=O\\\\)N\\\\[C@@H\\\\]|\\\\[C@H\\\\]\\\\(O\\\\)CN|S\\\\(=O\\\\)\\\\(=O\\\\)\",DRV_smiles[0]) # split core ('N(CC(O)C', 'NC(=O)', 'S(=O)(=O)')\n",
        "DRV_split_lst = list(filter(None, DRV_split_lst)) \n",
        "print(DRV_split_lst)\n",
        "\n",
        "## Collect each fragment in lists\n",
        "for i in range(len(DRV_split_lst)):\n",
        "  eval(\"lst_F\"+str(i+1)).append(DRV_split_lst[i])"
      ],
      "metadata": {
        "id": "JAvVcKllZCQ8",
        "colab": {
          "base_uri": "https://localhost:8080/"
        },
        "outputId": "2ead5c72-9c74-420b-c73c-7cd9e4731d25"
      },
      "execution_count": 19,
      "outputs": [
        {
          "output_type": "stream",
          "name": "stdout",
          "text": [
            "['C1O[C@H]2OCC[C@H]2[C@H]1', '(Cc1ccccc1)', '(CC(C)C)', 'c1ccc(N)cc1']\n"
          ]
        }
      ]
    },
    {
      "cell_type": "code",
      "source": [
        "print(lst_F1)\n",
        "print(lst_F2)\n",
        "print(lst_F3)\n",
        "print(lst_F4)"
      ],
      "metadata": {
        "colab": {
          "base_uri": "https://localhost:8080/"
        },
        "id": "WyKxZ5eS0X0S",
        "outputId": "c0ce5d85-df0c-441f-e6f5-cb7fe83ec360"
      },
      "execution_count": 20,
      "outputs": [
        {
          "output_type": "stream",
          "name": "stdout",
          "text": [
            "['C1O[C@H]2OCC[C@H]2[C@H]1']\n",
            "['(Cc1ccccc1)']\n",
            "['(CC(C)C)']\n",
            "['c1ccc(N)cc1']\n"
          ]
        }
      ]
    },
    {
      "cell_type": "markdown",
      "source": [
        ">2. Collect F2 (P1) --> split core1 and 2 (collect X-0-0-0)\n",
        "\n",
        ">>Note: collect members at index 1 of split list"
      ],
      "metadata": {
        "id": "-cDTrMqh0mgv"
      }
    },
    {
      "cell_type": "code",
      "source": [
        "for i in P1_smiles:\n",
        "  split_lst = re.split(\"OC\\\\(=O\\\\)N\\\\[C@@H\\\\]|\\\\[C@H\\\\]\\\\(O\\\\)CN\",i) # Add \\\\ before '(,' or ')' and '[' or ']' to convert them to string\n",
        "  split_lst = list(filter(None, split_lst)) # remove empty string\n",
        "  lst_F2.append(split_lst[1])"
      ],
      "metadata": {
        "id": "MQ7FzsGa0Bd1"
      },
      "execution_count": 21,
      "outputs": []
    },
    {
      "cell_type": "code",
      "source": [
        "#DRV + F2\n",
        "print(lst_F2)"
      ],
      "metadata": {
        "colab": {
          "base_uri": "https://localhost:8080/"
        },
        "id": "1y8HzcID1fvN",
        "outputId": "e03e8a52-c020-4595-ae0b-b20a34758ce0"
      },
      "execution_count": 22,
      "outputs": [
        {
          "output_type": "stream",
          "name": "stdout",
          "text": [
            "['(Cc1ccccc1)', '(Cc1cc(ccc1)C(=O)[O-])', '(Cc1c2c([nH]c1)cccc2)', '(Cc1ccc(cc1)c1ccncc1)', '(Cc1ccc2c(c1)cnc(c2)C(C)C)', '(Cc1ccc2c(c1)cncc2)', '(Cc1cc(ccc1)C(C)C)', '(Cc1ccc(cc1)[C@H]([C@H](O)O)C)', '(Cc1ccc(cc1)[C@H](C)C(=O)[O-])', '(Cc1ccncc1)', '(Cc1ccc(cc1)CO)', '(Cc1ccc(cc1)CCl)', '(Cc1cc2c(cc1)OCO2)', '(Cc1cc2c(cc1)NCC2)', '(Cc1cc(ccc1)[C@@H](c1ccc[nH]1)[NH3+])', '(Cc1cc(ccc1)[C@H](c1ccc[nH]1)[NH3+])', '(Cc1cc(ccc1)c1ccc[nH]1)', '(Cc1c(cccc1)C(=O)[O-])', '(Cc1c(cccc1)CO)', '(Cc1ccc(cc1)O)', '(Cc1cc(c(cc1)C(=O)[O-])C)']\n"
          ]
        }
      ]
    },
    {
      "cell_type": "markdown",
      "source": [
        ">3. Collect F3 (P1') --> split core2 and 3 (collect 0-X-0-0)\n",
        "   \n",
        ">>Note: collect members at index 1 of split list"
      ],
      "metadata": {
        "id": "XocKwgsl2AEv"
      }
    },
    {
      "cell_type": "code",
      "source": [
        "for i in P1p_smiles:\n",
        "  split_lst = re.split(\"\\\\[C@H\\\\]\\\\(O\\\\)CN|S\\\\(=O\\\\)\\\\(=O\\\\)\",i) # Add \\\\ before '(,' or ')' and '[' or ']' to convert them to string\n",
        "  split_lst = list(filter(None, split_lst)) # remove empty string\n",
        "  lst_F3.append(split_lst[1])"
      ],
      "metadata": {
        "id": "UeODt0RM1jd_"
      },
      "execution_count": 23,
      "outputs": []
    },
    {
      "cell_type": "code",
      "source": [
        "#DRV + F3\n",
        "print(lst_F3)"
      ],
      "metadata": {
        "colab": {
          "base_uri": "https://localhost:8080/"
        },
        "id": "CtWKv6bp2Thc",
        "outputId": "da1ffdc6-0658-4993-9e3e-39f6f018f636"
      },
      "execution_count": 24,
      "outputs": [
        {
          "output_type": "stream",
          "name": "stdout",
          "text": [
            "['(CC(C)C)', '(CCc1ccccc1)', '(Cc1cc(c(cc1)Cl)Cl)', '(CCCCc1ccccc1)', '(C/C=C/C)', '(CCc1cc(c(cc1)Cl)Cl)', '(CCCC)', '(CCc1ccc(cc1)Cl)', '(', '(CCC(=O)OCC)', '(CCCCC1=CC=CC1)', '(CCOCC)', '(CC[NH+]1CCOCC1)', '(CCCCC(=O)[O-])', '(Cc1ccc(cc1)Cl)', '(', '(C[C@@H](C)[NH3+])', '(C[C@@H](C)[NH3+])', '(CCC(=O)[O-])', '(C(C)C)', '(CCc1cccnc1)']\n"
          ]
        }
      ]
    },
    {
      "cell_type": "markdown",
      "source": [
        "4. Collect F1 (P2) --> use a special core to split: \n",
        "\n",
        "            Special core: 'OC(=O)N[C@@H](Cc1ccccc1)[C@H](O)CN(CC(C)C)S(=O)(=O)c1ccc(N)cc1' \n",
        "\n",
        "   Note: \n",
        "         - In some cases of splitting F1, there are two separated fragments therefore the special core is needed.\n",
        "         - The core are all sequences except F1 and extra F1 (core 1 + F2 + core 2 + F3 + core 3 + F4). \n",
        "         - Collect 0-0-X-0\n",
        "         - Collect all members in split list\n"
      ],
      "metadata": {
        "id": "osW8-ntJ2e0g"
      }
    },
    {
      "cell_type": "code",
      "source": [
        "for i in P2_smiles:\n",
        "  split_lst = re.split(\"OC\\\\(=O\\\\)N\\\\[C@@H\\\\]\\\\(Cc1ccccc1\\\\)\\\\[C@H\\\\]\\\\(O\\\\)CN\\\\(CC\\\\(C\\\\)C\\\\)S\\\\(=O\\\\)\\\\(=O\\\\)c1ccc\\\\(N\\\\)cc1\",i) # Add \\\\ before '(,' or ')' and '[' or ']' to convert them to string\n",
        "  split_lst = list(filter(None, split_lst)) # remove empty string\n",
        "  # print(split_lst)\n",
        "  lst_F1.append(split_lst)"
      ],
      "metadata": {
        "id": "287cCy6-2VJP"
      },
      "execution_count": 25,
      "outputs": []
    },
    {
      "cell_type": "code",
      "source": [
        "#DRV + F1\n",
        "lst_F1[0] = ['C1O[C@H]2OCC[C@H]2[C@H]1'] #change string F1 of DRV to list\n",
        "print(lst_F1) #lst_F1[i[2]]"
      ],
      "metadata": {
        "colab": {
          "base_uri": "https://localhost:8080/"
        },
        "id": "ii2CMUhf6d_d",
        "outputId": "a4381771-3b00-445a-ad8c-c6e774904343"
      },
      "execution_count": 26,
      "outputs": [
        {
          "output_type": "stream",
          "name": "stdout",
          "text": [
            "[['C1O[C@H]2OCC[C@H]2[C@H]1'], ['C1O[C@H]2O[C@H](C[C@H]2[C@H]1', ')C(=O)[O-]'], ['C1O[C@H]2O[C@@H](C[C@H]2[C@H]1', ')C(=O)[O-]'], ['C1O[C@H]2O[C@@H](C[C@H]2[C@H]1', ')C(C)C'], ['C1O[C@H]2O[C@H](C[C@H]2[C@H]1', ')C(C)C'], ['C1O[C@H]2O[C@@H](C[C@H]2[C@H]1', ')NO'], ['C1O[C@H]2O[C@H](C[C@H]2[C@H]1', ')NO'], ['C1O[C@H]2O[C@H](C[C@H]2[C@H]1', ')CC'], ['C1O[C@H]2O[C@@H](C[C@H]2[C@H]1', ')CC'], ['C1O[C@H]2O[C@H](C[C@H]2[C@H]1', ')[NH3+]'], ['C1O[C@H]2O[C@@H](C[C@H]2[C@H]1', ')[NH3+]'], ['C1O[C@H]2O[C@H](C[C@H]2[C@H]1', ')C[NH3+]'], ['C1O[C@H]2O[C@@H](C[C@H]2[C@H]1', ')C[NH3+]'], ['C1O[C@H]2OC[C@H]([C@H]2[C@H]1', ')[NH3+]'], ['C1O[C@H]2OC[C@@H]([C@H]2[C@H]1', ')[NH3+]'], ['[C@H]1(O[C@H]2OCC[C@H]2[C@H]1', ')N=C(C)C'], ['[C@H]1(O[C@H]2OCC[C@H]2[C@H]1', ')N=C(C)C'], ['[C@H]1(O[C@H]2OCC[C@H]2[C@H]1', ')C=C(C)C'], ['[C@H]1(O[C@H]2OCC[C@H]2[C@H]1', ')C=C(C)C'], ['C1O[C@H]2ONC[C@H]2[C@H]1'], ['C1O[C@H]2OC[NH2+][C@H]2[C@H]1']]\n"
          ]
        }
      ]
    },
    {
      "cell_type": "markdown",
      "source": [
        ">5. Collect F4 (P2') --> split core3 (collect 0-0-0-X)\n",
        "\n",
        "   >>Note: collect members at index 1 of split list"
      ],
      "metadata": {
        "id": "Mq2ZvMtp6kUQ"
      }
    },
    {
      "cell_type": "code",
      "source": [
        "for i in P2p_smiles:\n",
        "  split_lst = re.split(\"S\\\\(=O\\\\)\\\\(=O\\\\)\",i) # Add \\\\ before '(,' or ')' and '[' or ']' to convert them to string\n",
        "  split_lst = list(filter(None, split_lst)) # remove empty string\n",
        "  lst_F4.append(split_lst[1])"
      ],
      "metadata": {
        "id": "hQHDnGLt6j58"
      },
      "execution_count": 27,
      "outputs": []
    },
    {
      "cell_type": "code",
      "source": [
        "#DRV + F4\n",
        "print(lst_F4)"
      ],
      "metadata": {
        "colab": {
          "base_uri": "https://localhost:8080/"
        },
        "id": "9SeAkHfM6hd4",
        "outputId": "ef34dee6-ed3c-4b71-ee29-bd62af8a577c"
      },
      "execution_count": 28,
      "outputs": [
        {
          "output_type": "stream",
          "name": "stdout",
          "text": [
            "['c1ccc(N)cc1', 'c1ccc(N)c(c1)C(C)C', 'c1ccc(cc1)C[NH3+]', 'c1cccc(c1)C(=O)[O-]', 'c1ccc(cc1)Cl', 'c1c(cc(cc1C)C)C', 'c1ccc(cc1)C', 'c1cn(nc1)C', 'c1ccc(cc1)CC', 'c1ccc(cc1)OC', 'c1ccc(c(c1)Cl)Cl', 'c1ccc(cc1)F', 'c1ccc(cc1)Br', 'c1ccccc1', 'c1ccc(c(c1)N)Cl', 'c1ccc(cc1)C(F)(F)F', 'c1ccc(cc1)OC(F)(F)F', 'c1ccc(cc1)[C@@H](O)C', 'c1ccc(cc1)C(C)C', 'c1ccc(cc1)OC(C)C', 'c1c2cccc(c2ccc1)N(C)C']\n"
          ]
        }
      ]
    },
    {
      "cell_type": "markdown",
      "source": [
        "## Create index lists according to each fragment"
      ],
      "metadata": {
        "id": "XjOBRMcD61Pv"
      }
    },
    {
      "cell_type": "code",
      "source": [
        "P1_index = [i for i in range(len(lst_F2))]\n",
        "P1p_index = [i for i in range(len(lst_F3))]\n",
        "P2_index = [i for i in range(len(lst_F1))]\n",
        "P2p_index = [i for i in range(len(lst_F4))]\n",
        "\n",
        "#Select some fragments following id\n",
        "#For instance\n",
        "# P1_index = [0,4,9,10,12,19]\n",
        "# P1p_index = [0,5,8,13,20]\n",
        "# P2_index = [0,2,3,9,10,12,13,14,19]\n",
        "# P2p_index = [0,3,10,19]"
      ],
      "metadata": {
        "id": "dIDdnz0V6yLY"
      },
      "execution_count": 29,
      "outputs": []
    },
    {
      "cell_type": "code",
      "source": [
        "print(P1_index)"
      ],
      "metadata": {
        "colab": {
          "base_uri": "https://localhost:8080/"
        },
        "id": "I4lIW48i6_H0",
        "outputId": "002afbd3-fc96-4c34-9014-fa883669cda9"
      },
      "execution_count": 30,
      "outputs": [
        {
          "output_type": "stream",
          "name": "stdout",
          "text": [
            "[0, 1, 2, 3, 4, 5, 6, 7, 8, 9, 10, 11, 12, 13, 14, 15, 16, 17, 18, 19, 20]\n"
          ]
        }
      ]
    },
    {
      "cell_type": "markdown",
      "source": [
        "## Combination of all possible index"
      ],
      "metadata": {
        "id": "ifsKMJTN7DCQ"
      }
    },
    {
      "cell_type": "code",
      "source": [
        "import itertools # Permutation\n",
        "all_index = [P1_index, P1p_index, P2_index, P2p_index]\n",
        "permute_all_index = list(itertools.product(*all_index))"
      ],
      "metadata": {
        "id": "UrIxX0W67BLD"
      },
      "execution_count": 31,
      "outputs": []
    },
    {
      "cell_type": "code",
      "source": [
        "permute_all_index[0:150000:8000] #Sampling some members of the list to show"
      ],
      "metadata": {
        "colab": {
          "base_uri": "https://localhost:8080/"
        },
        "id": "LE554gPX7Qid",
        "outputId": "577b2f68-af6a-4a53-fdba-61a0ac65da49"
      },
      "execution_count": 32,
      "outputs": [
        {
          "output_type": "execute_result",
          "data": {
            "text/plain": [
              "[(0, 0, 0, 0),\n",
              " (0, 18, 2, 20),\n",
              " (1, 15, 5, 19),\n",
              " (2, 12, 8, 18),\n",
              " (3, 9, 11, 17),\n",
              " (4, 6, 14, 16),\n",
              " (5, 3, 17, 15),\n",
              " (6, 0, 20, 14),\n",
              " (6, 19, 2, 13),\n",
              " (7, 16, 5, 12),\n",
              " (8, 13, 8, 11),\n",
              " (9, 10, 11, 10),\n",
              " (10, 7, 14, 9),\n",
              " (11, 4, 17, 8),\n",
              " (12, 1, 20, 7),\n",
              " (12, 20, 2, 6),\n",
              " (13, 17, 5, 5),\n",
              " (14, 14, 8, 4),\n",
              " (15, 11, 11, 3)]"
            ]
          },
          "metadata": {},
          "execution_count": 32
        }
      ]
    },
    {
      "cell_type": "markdown",
      "source": [
        "## Use permuted index to select combined fragments\n",
        "\n",
        ">Adding string according to this equation: P2 + core1 + P1 + core2 + P1' + core3 + P2'"
      ],
      "metadata": {
        "id": "MyVC10Bn7UBO"
      }
    },
    {
      "cell_type": "code",
      "source": [
        "permute_smile_lst = []\n",
        "\n",
        "for i in permute_all_index:\n",
        "  #First merge core1 + P1 + core2 + P1' + core3 + P2'\n",
        "  all_part_except_F1 = core1 + lst_F2[i[0]] + core2 + lst_F3[i[1]] + core3 + lst_F4[i[3]]\n",
        "  if len(lst_F1[i[2]]) > 1: #Indicating F1 having extra fragment \n",
        "    all_part = lst_F1[i[2]][0] + all_part_except_F1 + lst_F1[i[2]][1]\n",
        "  else: #F1 has no extra fragment\n",
        "    all_part = lst_F1[i[2]][0] + all_part_except_F1 \n",
        "  permute_smile_lst.append(all_part)"
      ],
      "metadata": {
        "id": "6gsg8JiB7CZ-"
      },
      "execution_count": 33,
      "outputs": []
    },
    {
      "cell_type": "code",
      "source": [
        "permute_smile_lst[0:150000:8000] #Sampling some members of the list to show"
      ],
      "metadata": {
        "id": "jg1MikCH7q4h",
        "colab": {
          "base_uri": "https://localhost:8080/"
        },
        "outputId": "31322f1f-408e-46a3-c9d4-84a09bd6ef4b"
      },
      "execution_count": 34,
      "outputs": [
        {
          "output_type": "execute_result",
          "data": {
            "text/plain": [
              "['C1O[C@H]2OCC[C@H]2[C@H]1OC(=O)N[C@@H](Cc1ccccc1)[C@H](O)CN(CC(C)C)S(=O)(=O)c1ccc(N)cc1',\n",
              " 'C1O[C@H]2O[C@@H](C[C@H]2[C@H]1OC(=O)N[C@@H](Cc1ccccc1)[C@H](O)CN(CCC(=O)[O-])S(=O)(=O)c1c2cccc(c2ccc1)N(C)C)C(=O)[O-]',\n",
              " 'C1O[C@H]2O[C@@H](C[C@H]2[C@H]1OC(=O)N[C@@H](Cc1cc(ccc1)C(=O)[O-])[C@H](O)CN(S(=O)(=O)c1ccc(cc1)OC(C)C)NO',\n",
              " 'C1O[C@H]2O[C@@H](C[C@H]2[C@H]1OC(=O)N[C@@H](Cc1c2c([nH]c1)cccc2)[C@H](O)CN(CC[NH+]1CCOCC1)S(=O)(=O)c1ccc(cc1)C(C)C)CC',\n",
              " 'C1O[C@H]2O[C@H](C[C@H]2[C@H]1OC(=O)N[C@@H](Cc1ccc(cc1)c1ccncc1)[C@H](O)CN(CCC(=O)OCC)S(=O)(=O)c1ccc(cc1)[C@@H](O)C)C[NH3+]',\n",
              " 'C1O[C@H]2OC[C@@H]([C@H]2[C@H]1OC(=O)N[C@@H](Cc1ccc2c(c1)cnc(c2)C(C)C)[C@H](O)CN(CCCC)S(=O)(=O)c1ccc(cc1)OC(F)(F)F)[NH3+]',\n",
              " '[C@H]1(O[C@H]2OCC[C@H]2[C@H]1OC(=O)N[C@@H](Cc1ccc2c(c1)cncc2)[C@H](O)CN(CCCCc1ccccc1)S(=O)(=O)c1ccc(cc1)C(F)(F)F)C=C(C)C',\n",
              " 'C1O[C@H]2OC[NH2+][C@H]2[C@H]1OC(=O)N[C@@H](Cc1cc(ccc1)C(C)C)[C@H](O)CN(CC(C)C)S(=O)(=O)c1ccc(c(c1)N)Cl',\n",
              " 'C1O[C@H]2O[C@@H](C[C@H]2[C@H]1OC(=O)N[C@@H](Cc1cc(ccc1)C(C)C)[C@H](O)CN(C(C)C)S(=O)(=O)c1ccccc1)C(=O)[O-]',\n",
              " 'C1O[C@H]2O[C@@H](C[C@H]2[C@H]1OC(=O)N[C@@H](Cc1ccc(cc1)[C@H]([C@H](O)O)C)[C@H](O)CN(C[C@@H](C)[NH3+])S(=O)(=O)c1ccc(cc1)Br)NO',\n",
              " 'C1O[C@H]2O[C@@H](C[C@H]2[C@H]1OC(=O)N[C@@H](Cc1ccc(cc1)[C@H](C)C(=O)[O-])[C@H](O)CN(CCCCC(=O)[O-])S(=O)(=O)c1ccc(cc1)F)CC',\n",
              " 'C1O[C@H]2O[C@H](C[C@H]2[C@H]1OC(=O)N[C@@H](Cc1ccncc1)[C@H](O)CN(CCCCC1=CC=CC1)S(=O)(=O)c1ccc(c(c1)Cl)Cl)C[NH3+]',\n",
              " 'C1O[C@H]2OC[C@@H]([C@H]2[C@H]1OC(=O)N[C@@H](Cc1ccc(cc1)CO)[C@H](O)CN(CCc1ccc(cc1)Cl)S(=O)(=O)c1ccc(cc1)OC)[NH3+]',\n",
              " '[C@H]1(O[C@H]2OCC[C@H]2[C@H]1OC(=O)N[C@@H](Cc1ccc(cc1)CCl)[C@H](O)CN(C/C=C/C)S(=O)(=O)c1ccc(cc1)CC)C=C(C)C',\n",
              " 'C1O[C@H]2OC[NH2+][C@H]2[C@H]1OC(=O)N[C@@H](Cc1cc2c(cc1)OCO2)[C@H](O)CN(CCc1ccccc1)S(=O)(=O)c1cn(nc1)C',\n",
              " 'C1O[C@H]2O[C@@H](C[C@H]2[C@H]1OC(=O)N[C@@H](Cc1cc2c(cc1)OCO2)[C@H](O)CN(CCc1cccnc1)S(=O)(=O)c1ccc(cc1)C)C(=O)[O-]',\n",
              " 'C1O[C@H]2O[C@@H](C[C@H]2[C@H]1OC(=O)N[C@@H](Cc1cc2c(cc1)NCC2)[C@H](O)CN(C[C@@H](C)[NH3+])S(=O)(=O)c1c(cc(cc1C)C)C)NO',\n",
              " 'C1O[C@H]2O[C@@H](C[C@H]2[C@H]1OC(=O)N[C@@H](Cc1cc(ccc1)[C@@H](c1ccc[nH]1)[NH3+])[C@H](O)CN(Cc1ccc(cc1)Cl)S(=O)(=O)c1ccc(cc1)Cl)CC',\n",
              " 'C1O[C@H]2O[C@H](C[C@H]2[C@H]1OC(=O)N[C@@H](Cc1cc(ccc1)[C@H](c1ccc[nH]1)[NH3+])[C@H](O)CN(CCOCC)S(=O)(=O)c1cccc(c1)C(=O)[O-])C[NH3+]']"
            ]
          },
          "metadata": {},
          "execution_count": 34
        }
      ]
    },
    {
      "cell_type": "markdown",
      "source": [
        "## Create id list based on permute_all_index"
      ],
      "metadata": {
        "id": "Vy1N-o087wfX"
      }
    },
    {
      "cell_type": "code",
      "source": [
        "id_lst = []\n",
        "\n",
        "for i in permute_all_index:\n",
        "  str_index = str(i[0]) + '-' + str(i[1]) + '-' + str(i[2]) + '-' + str(i[3])\n",
        "  id_lst.append(str_index)"
      ],
      "metadata": {
        "id": "jR3d5JqT7tFD"
      },
      "execution_count": 35,
      "outputs": []
    },
    {
      "cell_type": "code",
      "source": [
        "print(id_lst[0:150000:8000])"
      ],
      "metadata": {
        "colab": {
          "base_uri": "https://localhost:8080/"
        },
        "id": "gC9YDOmJ70UQ",
        "outputId": "a62b6d46-41d9-4c68-dfcc-3f52cb48f368"
      },
      "execution_count": 48,
      "outputs": [
        {
          "output_type": "stream",
          "name": "stdout",
          "text": [
            "['0-0-0-0', '0-18-2-20', '1-15-5-19', '2-12-8-18', '3-9-11-17', '4-6-14-16', '5-3-17-15', '6-0-20-14', '6-19-2-13', '7-16-5-12', '8-13-8-11', '9-10-11-10', '10-7-14-9', '11-4-17-8', '12-1-20-7', '12-20-2-6', '13-17-5-5', '14-14-8-4', '15-11-11-3']\n"
          ]
        }
      ]
    },
    {
      "cell_type": "markdown",
      "source": [
        "## Create a dictionary which keys are id and values are combined smile files"
      ],
      "metadata": {
        "id": "iKWpNIVx75W3"
      }
    },
    {
      "cell_type": "code",
      "source": [
        "smile_dict = {id_lst[i]:permute_smile_lst[i] for i in range(len(permute_all_index))}"
      ],
      "metadata": {
        "id": "bH0D2BVS71ux"
      },
      "execution_count": 37,
      "outputs": []
    },
    {
      "cell_type": "code",
      "source": [
        "# smile_dict\n",
        "{key:value for (key,value) in [i for i in smile_dict.items()][0:150000:8000]} #Sampling some members of the dictionary to show"
      ],
      "metadata": {
        "id": "nawFHfsi78gU",
        "colab": {
          "base_uri": "https://localhost:8080/"
        },
        "outputId": "e982f0bf-8726-4571-d3e6-5f4020606ec5"
      },
      "execution_count": 64,
      "outputs": [
        {
          "output_type": "execute_result",
          "data": {
            "text/plain": [
              "{'0-0-0-0': 'C1O[C@H]2OCC[C@H]2[C@H]1OC(=O)N[C@@H](Cc1ccccc1)[C@H](O)CN(CC(C)C)S(=O)(=O)c1ccc(N)cc1',\n",
              " '0-18-2-20': 'C1O[C@H]2O[C@@H](C[C@H]2[C@H]1OC(=O)N[C@@H](Cc1ccccc1)[C@H](O)CN(CCC(=O)[O-])S(=O)(=O)c1c2cccc(c2ccc1)N(C)C)C(=O)[O-]',\n",
              " '1-15-5-19': 'C1O[C@H]2O[C@@H](C[C@H]2[C@H]1OC(=O)N[C@@H](Cc1cc(ccc1)C(=O)[O-])[C@H](O)CN(S(=O)(=O)c1ccc(cc1)OC(C)C)NO',\n",
              " '2-12-8-18': 'C1O[C@H]2O[C@@H](C[C@H]2[C@H]1OC(=O)N[C@@H](Cc1c2c([nH]c1)cccc2)[C@H](O)CN(CC[NH+]1CCOCC1)S(=O)(=O)c1ccc(cc1)C(C)C)CC',\n",
              " '3-9-11-17': 'C1O[C@H]2O[C@H](C[C@H]2[C@H]1OC(=O)N[C@@H](Cc1ccc(cc1)c1ccncc1)[C@H](O)CN(CCC(=O)OCC)S(=O)(=O)c1ccc(cc1)[C@@H](O)C)C[NH3+]',\n",
              " '4-6-14-16': 'C1O[C@H]2OC[C@@H]([C@H]2[C@H]1OC(=O)N[C@@H](Cc1ccc2c(c1)cnc(c2)C(C)C)[C@H](O)CN(CCCC)S(=O)(=O)c1ccc(cc1)OC(F)(F)F)[NH3+]',\n",
              " '5-3-17-15': '[C@H]1(O[C@H]2OCC[C@H]2[C@H]1OC(=O)N[C@@H](Cc1ccc2c(c1)cncc2)[C@H](O)CN(CCCCc1ccccc1)S(=O)(=O)c1ccc(cc1)C(F)(F)F)C=C(C)C',\n",
              " '6-0-20-14': 'C1O[C@H]2OC[NH2+][C@H]2[C@H]1OC(=O)N[C@@H](Cc1cc(ccc1)C(C)C)[C@H](O)CN(CC(C)C)S(=O)(=O)c1ccc(c(c1)N)Cl',\n",
              " '6-19-2-13': 'C1O[C@H]2O[C@@H](C[C@H]2[C@H]1OC(=O)N[C@@H](Cc1cc(ccc1)C(C)C)[C@H](O)CN(C(C)C)S(=O)(=O)c1ccccc1)C(=O)[O-]',\n",
              " '7-16-5-12': 'C1O[C@H]2O[C@@H](C[C@H]2[C@H]1OC(=O)N[C@@H](Cc1ccc(cc1)[C@H]([C@H](O)O)C)[C@H](O)CN(C[C@@H](C)[NH3+])S(=O)(=O)c1ccc(cc1)Br)NO',\n",
              " '8-13-8-11': 'C1O[C@H]2O[C@@H](C[C@H]2[C@H]1OC(=O)N[C@@H](Cc1ccc(cc1)[C@H](C)C(=O)[O-])[C@H](O)CN(CCCCC(=O)[O-])S(=O)(=O)c1ccc(cc1)F)CC',\n",
              " '9-10-11-10': 'C1O[C@H]2O[C@H](C[C@H]2[C@H]1OC(=O)N[C@@H](Cc1ccncc1)[C@H](O)CN(CCCCC1=CC=CC1)S(=O)(=O)c1ccc(c(c1)Cl)Cl)C[NH3+]',\n",
              " '10-7-14-9': 'C1O[C@H]2OC[C@@H]([C@H]2[C@H]1OC(=O)N[C@@H](Cc1ccc(cc1)CO)[C@H](O)CN(CCc1ccc(cc1)Cl)S(=O)(=O)c1ccc(cc1)OC)[NH3+]',\n",
              " '11-4-17-8': '[C@H]1(O[C@H]2OCC[C@H]2[C@H]1OC(=O)N[C@@H](Cc1ccc(cc1)CCl)[C@H](O)CN(C/C=C/C)S(=O)(=O)c1ccc(cc1)CC)C=C(C)C',\n",
              " '12-1-20-7': 'C1O[C@H]2OC[NH2+][C@H]2[C@H]1OC(=O)N[C@@H](Cc1cc2c(cc1)OCO2)[C@H](O)CN(CCc1ccccc1)S(=O)(=O)c1cn(nc1)C',\n",
              " '12-20-2-6': 'C1O[C@H]2O[C@@H](C[C@H]2[C@H]1OC(=O)N[C@@H](Cc1cc2c(cc1)OCO2)[C@H](O)CN(CCc1cccnc1)S(=O)(=O)c1ccc(cc1)C)C(=O)[O-]',\n",
              " '13-17-5-5': 'C1O[C@H]2O[C@@H](C[C@H]2[C@H]1OC(=O)N[C@@H](Cc1cc2c(cc1)NCC2)[C@H](O)CN(C[C@@H](C)[NH3+])S(=O)(=O)c1c(cc(cc1C)C)C)NO',\n",
              " '14-14-8-4': 'C1O[C@H]2O[C@@H](C[C@H]2[C@H]1OC(=O)N[C@@H](Cc1cc(ccc1)[C@@H](c1ccc[nH]1)[NH3+])[C@H](O)CN(Cc1ccc(cc1)Cl)S(=O)(=O)c1ccc(cc1)Cl)CC',\n",
              " '15-11-11-3': 'C1O[C@H]2O[C@H](C[C@H]2[C@H]1OC(=O)N[C@@H](Cc1cc(ccc1)[C@H](c1ccc[nH]1)[NH3+])[C@H](O)CN(CCOCC)S(=O)(=O)c1cccc(c1)C(=O)[O-])C[NH3+]'}"
            ]
          },
          "metadata": {},
          "execution_count": 64
        }
      ]
    },
    {
      "cell_type": "code",
      "source": [
        "#Search smile having id 0-1-0-0 in the dictionary\n",
        "smile_dict['0-1-0-0']"
      ],
      "metadata": {
        "colab": {
          "base_uri": "https://localhost:8080/",
          "height": 36
        },
        "id": "NbWjuOzD8B_L",
        "outputId": "626dc336-3aab-4782-c5d7-4a913b59ef5a"
      },
      "execution_count": 61,
      "outputs": [
        {
          "output_type": "execute_result",
          "data": {
            "text/plain": [
              "'C1O[C@H]2OCC[C@H]2[C@H]1OC(=O)N[C@@H](Cc1ccccc1)[C@H](O)CN(CCc1ccccc1)S(=O)(=O)c1ccc(N)cc1'"
            ],
            "application/vnd.google.colaboratory.intrinsic+json": {
              "type": "string"
            }
          },
          "metadata": {},
          "execution_count": 61
        }
      ]
    },
    {
      "cell_type": "code",
      "source": [
        "#Check the number of analogs\n",
        "len(smile_dict)"
      ],
      "metadata": {
        "colab": {
          "base_uri": "https://localhost:8080/"
        },
        "id": "9C34Bez68Hb1",
        "outputId": "da7d02bd-0d7b-42ca-fea9-8cfce0902ae3"
      },
      "execution_count": 40,
      "outputs": [
        {
          "output_type": "execute_result",
          "data": {
            "text/plain": [
              "194481"
            ]
          },
          "metadata": {},
          "execution_count": 40
        }
      ]
    },
    {
      "cell_type": "markdown",
      "source": [
        "## Convert dictionary to dataframe form \n",
        "using pandas package\n"
      ],
      "metadata": {
        "id": "K_yirnik9lkA"
      }
    },
    {
      "cell_type": "code",
      "source": [
        "dataframe_cmp = pd.DataFrame(smile_dict.items(), columns=['ID', 'SMILES'])\n",
        "dataframe_cmp\n",
        "# dataframe_cmp.to_csv('/content/Tutorial_CombinatorialSubstructures/dataframe_cmp.csv') "
      ],
      "metadata": {
        "colab": {
          "base_uri": "https://localhost:8080/",
          "height": 423
        },
        "id": "FeeBTJUZ82wt",
        "outputId": "169339fa-477a-4394-c863-d2fdf6caad71"
      },
      "execution_count": 41,
      "outputs": [
        {
          "output_type": "execute_result",
          "data": {
            "text/plain": [
              "                 ID                                             SMILES\n",
              "0           0-0-0-0  C1O[C@H]2OCC[C@H]2[C@H]1OC(=O)N[C@@H](Cc1ccccc...\n",
              "1           0-0-0-1  C1O[C@H]2OCC[C@H]2[C@H]1OC(=O)N[C@@H](Cc1ccccc...\n",
              "2           0-0-0-2  C1O[C@H]2OCC[C@H]2[C@H]1OC(=O)N[C@@H](Cc1ccccc...\n",
              "3           0-0-0-3  C1O[C@H]2OCC[C@H]2[C@H]1OC(=O)N[C@@H](Cc1ccccc...\n",
              "4           0-0-0-4  C1O[C@H]2OCC[C@H]2[C@H]1OC(=O)N[C@@H](Cc1ccccc...\n",
              "...             ...                                                ...\n",
              "194476  20-20-20-16  C1O[C@H]2OC[NH2+][C@H]2[C@H]1OC(=O)N[C@@H](Cc1...\n",
              "194477  20-20-20-17  C1O[C@H]2OC[NH2+][C@H]2[C@H]1OC(=O)N[C@@H](Cc1...\n",
              "194478  20-20-20-18  C1O[C@H]2OC[NH2+][C@H]2[C@H]1OC(=O)N[C@@H](Cc1...\n",
              "194479  20-20-20-19  C1O[C@H]2OC[NH2+][C@H]2[C@H]1OC(=O)N[C@@H](Cc1...\n",
              "194480  20-20-20-20  C1O[C@H]2OC[NH2+][C@H]2[C@H]1OC(=O)N[C@@H](Cc1...\n",
              "\n",
              "[194481 rows x 2 columns]"
            ],
            "text/html": [
              "\n",
              "  <div id=\"df-13aa847f-1624-45ab-9986-bc893a31ff4f\">\n",
              "    <div class=\"colab-df-container\">\n",
              "      <div>\n",
              "<style scoped>\n",
              "    .dataframe tbody tr th:only-of-type {\n",
              "        vertical-align: middle;\n",
              "    }\n",
              "\n",
              "    .dataframe tbody tr th {\n",
              "        vertical-align: top;\n",
              "    }\n",
              "\n",
              "    .dataframe thead th {\n",
              "        text-align: right;\n",
              "    }\n",
              "</style>\n",
              "<table border=\"1\" class=\"dataframe\">\n",
              "  <thead>\n",
              "    <tr style=\"text-align: right;\">\n",
              "      <th></th>\n",
              "      <th>ID</th>\n",
              "      <th>SMILES</th>\n",
              "    </tr>\n",
              "  </thead>\n",
              "  <tbody>\n",
              "    <tr>\n",
              "      <th>0</th>\n",
              "      <td>0-0-0-0</td>\n",
              "      <td>C1O[C@H]2OCC[C@H]2[C@H]1OC(=O)N[C@@H](Cc1ccccc...</td>\n",
              "    </tr>\n",
              "    <tr>\n",
              "      <th>1</th>\n",
              "      <td>0-0-0-1</td>\n",
              "      <td>C1O[C@H]2OCC[C@H]2[C@H]1OC(=O)N[C@@H](Cc1ccccc...</td>\n",
              "    </tr>\n",
              "    <tr>\n",
              "      <th>2</th>\n",
              "      <td>0-0-0-2</td>\n",
              "      <td>C1O[C@H]2OCC[C@H]2[C@H]1OC(=O)N[C@@H](Cc1ccccc...</td>\n",
              "    </tr>\n",
              "    <tr>\n",
              "      <th>3</th>\n",
              "      <td>0-0-0-3</td>\n",
              "      <td>C1O[C@H]2OCC[C@H]2[C@H]1OC(=O)N[C@@H](Cc1ccccc...</td>\n",
              "    </tr>\n",
              "    <tr>\n",
              "      <th>4</th>\n",
              "      <td>0-0-0-4</td>\n",
              "      <td>C1O[C@H]2OCC[C@H]2[C@H]1OC(=O)N[C@@H](Cc1ccccc...</td>\n",
              "    </tr>\n",
              "    <tr>\n",
              "      <th>...</th>\n",
              "      <td>...</td>\n",
              "      <td>...</td>\n",
              "    </tr>\n",
              "    <tr>\n",
              "      <th>194476</th>\n",
              "      <td>20-20-20-16</td>\n",
              "      <td>C1O[C@H]2OC[NH2+][C@H]2[C@H]1OC(=O)N[C@@H](Cc1...</td>\n",
              "    </tr>\n",
              "    <tr>\n",
              "      <th>194477</th>\n",
              "      <td>20-20-20-17</td>\n",
              "      <td>C1O[C@H]2OC[NH2+][C@H]2[C@H]1OC(=O)N[C@@H](Cc1...</td>\n",
              "    </tr>\n",
              "    <tr>\n",
              "      <th>194478</th>\n",
              "      <td>20-20-20-18</td>\n",
              "      <td>C1O[C@H]2OC[NH2+][C@H]2[C@H]1OC(=O)N[C@@H](Cc1...</td>\n",
              "    </tr>\n",
              "    <tr>\n",
              "      <th>194479</th>\n",
              "      <td>20-20-20-19</td>\n",
              "      <td>C1O[C@H]2OC[NH2+][C@H]2[C@H]1OC(=O)N[C@@H](Cc1...</td>\n",
              "    </tr>\n",
              "    <tr>\n",
              "      <th>194480</th>\n",
              "      <td>20-20-20-20</td>\n",
              "      <td>C1O[C@H]2OC[NH2+][C@H]2[C@H]1OC(=O)N[C@@H](Cc1...</td>\n",
              "    </tr>\n",
              "  </tbody>\n",
              "</table>\n",
              "<p>194481 rows × 2 columns</p>\n",
              "</div>\n",
              "      <button class=\"colab-df-convert\" onclick=\"convertToInteractive('df-13aa847f-1624-45ab-9986-bc893a31ff4f')\"\n",
              "              title=\"Convert this dataframe to an interactive table.\"\n",
              "              style=\"display:none;\">\n",
              "        \n",
              "  <svg xmlns=\"http://www.w3.org/2000/svg\" height=\"24px\"viewBox=\"0 0 24 24\"\n",
              "       width=\"24px\">\n",
              "    <path d=\"M0 0h24v24H0V0z\" fill=\"none\"/>\n",
              "    <path d=\"M18.56 5.44l.94 2.06.94-2.06 2.06-.94-2.06-.94-.94-2.06-.94 2.06-2.06.94zm-11 1L8.5 8.5l.94-2.06 2.06-.94-2.06-.94L8.5 2.5l-.94 2.06-2.06.94zm10 10l.94 2.06.94-2.06 2.06-.94-2.06-.94-.94-2.06-.94 2.06-2.06.94z\"/><path d=\"M17.41 7.96l-1.37-1.37c-.4-.4-.92-.59-1.43-.59-.52 0-1.04.2-1.43.59L10.3 9.45l-7.72 7.72c-.78.78-.78 2.05 0 2.83L4 21.41c.39.39.9.59 1.41.59.51 0 1.02-.2 1.41-.59l7.78-7.78 2.81-2.81c.8-.78.8-2.07 0-2.86zM5.41 20L4 18.59l7.72-7.72 1.47 1.35L5.41 20z\"/>\n",
              "  </svg>\n",
              "      </button>\n",
              "      \n",
              "  <style>\n",
              "    .colab-df-container {\n",
              "      display:flex;\n",
              "      flex-wrap:wrap;\n",
              "      gap: 12px;\n",
              "    }\n",
              "\n",
              "    .colab-df-convert {\n",
              "      background-color: #E8F0FE;\n",
              "      border: none;\n",
              "      border-radius: 50%;\n",
              "      cursor: pointer;\n",
              "      display: none;\n",
              "      fill: #1967D2;\n",
              "      height: 32px;\n",
              "      padding: 0 0 0 0;\n",
              "      width: 32px;\n",
              "    }\n",
              "\n",
              "    .colab-df-convert:hover {\n",
              "      background-color: #E2EBFA;\n",
              "      box-shadow: 0px 1px 2px rgba(60, 64, 67, 0.3), 0px 1px 3px 1px rgba(60, 64, 67, 0.15);\n",
              "      fill: #174EA6;\n",
              "    }\n",
              "\n",
              "    [theme=dark] .colab-df-convert {\n",
              "      background-color: #3B4455;\n",
              "      fill: #D2E3FC;\n",
              "    }\n",
              "\n",
              "    [theme=dark] .colab-df-convert:hover {\n",
              "      background-color: #434B5C;\n",
              "      box-shadow: 0px 1px 3px 1px rgba(0, 0, 0, 0.15);\n",
              "      filter: drop-shadow(0px 1px 2px rgba(0, 0, 0, 0.3));\n",
              "      fill: #FFFFFF;\n",
              "    }\n",
              "  </style>\n",
              "\n",
              "      <script>\n",
              "        const buttonEl =\n",
              "          document.querySelector('#df-13aa847f-1624-45ab-9986-bc893a31ff4f button.colab-df-convert');\n",
              "        buttonEl.style.display =\n",
              "          google.colab.kernel.accessAllowed ? 'block' : 'none';\n",
              "\n",
              "        async function convertToInteractive(key) {\n",
              "          const element = document.querySelector('#df-13aa847f-1624-45ab-9986-bc893a31ff4f');\n",
              "          const dataTable =\n",
              "            await google.colab.kernel.invokeFunction('convertToInteractive',\n",
              "                                                     [key], {});\n",
              "          if (!dataTable) return;\n",
              "\n",
              "          const docLinkHtml = 'Like what you see? Visit the ' +\n",
              "            '<a target=\"_blank\" href=https://colab.research.google.com/notebooks/data_table.ipynb>data table notebook</a>'\n",
              "            + ' to learn more about interactive tables.';\n",
              "          element.innerHTML = '';\n",
              "          dataTable['output_type'] = 'display_data';\n",
              "          await google.colab.output.renderOutput(dataTable, element);\n",
              "          const docLink = document.createElement('div');\n",
              "          docLink.innerHTML = docLinkHtml;\n",
              "          element.appendChild(docLink);\n",
              "        }\n",
              "      </script>\n",
              "    </div>\n",
              "  </div>\n",
              "  "
            ]
          },
          "metadata": {},
          "execution_count": 41
        }
      ]
    },
    {
      "cell_type": "code",
      "source": [
        "#Select some chemical compounds (for instance, five compounds)\n",
        "dataframe_cmp2 = dataframe_cmp.iloc[1060:1065] \n",
        "dataframe_cmp2\n",
        "dataframe_cmp2.to_csv('/content/Tutorial_CombinatorialSubstructures/dataframe2_cmp.csv') "
      ],
      "metadata": {
        "id": "34G9bZvGA5ME"
      },
      "execution_count": 42,
      "outputs": []
    },
    {
      "cell_type": "markdown",
      "source": [
        "## Convert smiles format to three-dimentional structure form\n",
        "> to convert three-dimentional structure form e.g. sdf and mol, RDKit and Open babel are performed)\n",
        "\n",
        ">Ref: https://gist.github.com/leelasd/43219a222bf57d3e01c2c83f2ad9b031"
      ],
      "metadata": {
        "id": "15z_YACmDnpN"
      }
    },
    {
      "cell_type": "code",
      "source": [
        "df = pd.read_csv('/content/Tutorial_CombinatorialSubstructures/dataframe2_cmp.csv')\n",
        "mols = [Chem.MolFromSmiles(smi) for smi in df.SMILES]\n",
        "hmols = [Chem.AddHs(m) for m in mols]\n",
        "\n",
        "for mol  in hmols:\n",
        "    AllChem.EmbedMolecule(mol,AllChem.ETKDG())\n",
        "    print(AllChem.UFFOptimizeMolecule(mol,1000))\n",
        "smiles = list(df.SMILES)\n",
        "sid = list(df.ID)\n",
        "libs = df[df.columns[0]]\n",
        "writer = Chem.SDWriter('TEST.sdf')\n",
        "\n",
        "for n in range(len(libs)):\n",
        "    hmols[n].SetProp(\"_Library\",\"%s\"%libs[n])\n",
        "    hmols[n].SetProp(\"_Name\",\"%s\"%sid[n])\n",
        "    hmols[n].SetProp(\"_SourceID\",\"%s\"%sid[n])\n",
        "    hmols[n].SetProp(\"_SMILES\",\"%s\"%smiles[n])\n",
        "    writer.write(hmols[n])\n",
        "writer.close()\n"
      ],
      "metadata": {
        "colab": {
          "base_uri": "https://localhost:8080/"
        },
        "id": "O7Xy2XpkCZj_",
        "outputId": "acfbf67e-c105-4c67-be58-97432f023391"
      },
      "execution_count": 43,
      "outputs": [
        {
          "output_type": "stream",
          "name": "stdout",
          "text": [
            "0\n",
            "0\n",
            "0\n",
            "0\n",
            "0\n"
          ]
        }
      ]
    },
    {
      "cell_type": "code",
      "source": [
        "!obabel -isdf /content/TEST.sdf -osdf -O /content/TEST_RDkitBabel.sdf -p 7.4 --ff GAFF"
      ],
      "metadata": {
        "colab": {
          "base_uri": "https://localhost:8080/"
        },
        "id": "Zt810kGLGFro",
        "outputId": "d1af2b37-35e0-4e09-ff46-d9720c54d20e"
      },
      "execution_count": 44,
      "outputs": [
        {
          "output_type": "stream",
          "name": "stdout",
          "text": [
            "5 molecules converted\n"
          ]
        }
      ]
    },
    {
      "cell_type": "markdown",
      "source": [
        "## Visulization of two-, three- dimentional structure form"
      ],
      "metadata": {
        "id": "yBIWDCiaMy_t"
      }
    },
    {
      "cell_type": "code",
      "source": [
        "sdf2 = \"/content/TEST_RDkitBabel.sdf\"\n",
        "df2 = PandasTools.LoadSDF(sdf2, embedProps=True, molColName=None, smilesName='SMILES')\n",
        "PandasTools.AddMoleculeColumnToFrame(df2, smilesCol='SMILES')\n",
        "# pd.set_option('display.max_colwidth', None)\n",
        "# pd.set_option('display.max_columns', None) \n",
        "# pd.set_option('display.max_rows', None)\n",
        "df2"
      ],
      "metadata": {
        "colab": {
          "base_uri": "https://localhost:8080/",
          "height": 1000
        },
        "id": "7Dmkt2zmIJHU",
        "outputId": "be052e58-2b07-4da0-a4a8-22771053b7d7"
      },
      "execution_count": 45,
      "outputs": [
        {
          "output_type": "execute_result",
          "data": {
            "text/plain": [
              "         ID                                             SMILES  \\\n",
              "0  0-2-8-10  CC[C@@H]1C[C@@H]2[C@@H](OC[C@@H]2OC(=O)N[C@@H]...   \n",
              "1  0-2-8-11  CC[C@@H]1C[C@@H]2[C@@H](OC[C@@H]2OC(=O)N[C@@H]...   \n",
              "2  0-2-8-12  CC[C@@H]1C[C@@H]2[C@@H](OC[C@@H]2OC(=O)N[C@@H]...   \n",
              "3  0-2-8-13  CC[C@@H]1C[C@@H]2[C@@H](OC[C@@H]2OC(=O)N[C@@H]...   \n",
              "4  0-2-8-14  CC[C@@H]1C[C@@H]2[C@@H](OC[C@@H]2OC(=O)N[C@@H]...   \n",
              "\n",
              "                                              ROMol  \n",
              "0  <rdkit.Chem.rdchem.Mol object at 0x7f63c309df90>  \n",
              "1  <rdkit.Chem.rdchem.Mol object at 0x7f63c46870b0>  \n",
              "2  <rdkit.Chem.rdchem.Mol object at 0x7f63c4687120>  \n",
              "3  <rdkit.Chem.rdchem.Mol object at 0x7f63c4687190>  \n",
              "4  <rdkit.Chem.rdchem.Mol object at 0x7f63c4687200>  "
            ],
            "text/html": [
              "\n",
              "  <div id=\"df-19f41644-783c-4de4-af79-07919dbca019\">\n",
              "    <div class=\"colab-df-container\">\n",
              "      <div>\n",
              "<style scoped>\n",
              "    .dataframe tbody tr th:only-of-type {\n",
              "        vertical-align: middle;\n",
              "    }\n",
              "\n",
              "    .dataframe tbody tr th {\n",
              "        vertical-align: top;\n",
              "    }\n",
              "\n",
              "    .dataframe thead th {\n",
              "        text-align: right;\n",
              "    }\n",
              "</style>\n",
              "<table border=\"1\" class=\"dataframe\">\n",
              "  <thead>\n",
              "    <tr style=\"text-align: right;\">\n",
              "      <th></th>\n",
              "      <th>ID</th>\n",
              "      <th>SMILES</th>\n",
              "      <th>ROMol</th>\n",
              "    </tr>\n",
              "  </thead>\n",
              "  <tbody>\n",
              "    <tr>\n",
              "      <th>0</th>\n",
              "      <td>0-2-8-10</td>\n",
              "      <td>CC[C@@H]1C[C@@H]2[C@@H](OC[C@@H]2OC(=O)N[C@@H]...</td>\n",
              "      <td style=\"text-align: center;\"><div style=\"width: 200px; height: 200px\" data-content=\"rdkit/molecule\"><img src=\"data:image/png;base64,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\" alt=\"Mol\"/></div></td>\n",
              "    </tr>\n",
              "    <tr>\n",
              "      <th>1</th>\n",
              "      <td>0-2-8-11</td>\n",
              "      <td>CC[C@@H]1C[C@@H]2[C@@H](OC[C@@H]2OC(=O)N[C@@H]...</td>\n",
              "      <td style=\"text-align: center;\"><div style=\"width: 200px; height: 200px\" data-content=\"rdkit/molecule\"><img src=\"data:image/png;base64,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\" alt=\"Mol\"/></div></td>\n",
              "    </tr>\n",
              "    <tr>\n",
              "      <th>2</th>\n",
              "      <td>0-2-8-12</td>\n",
              "      <td>CC[C@@H]1C[C@@H]2[C@@H](OC[C@@H]2OC(=O)N[C@@H]...</td>\n",
              "      <td style=\"text-align: center;\"><div style=\"width: 200px; height: 200px\" data-content=\"rdkit/molecule\"><img src=\"data:image/png;base64,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\" alt=\"Mol\"/></div></td>\n",
              "    </tr>\n",
              "    <tr>\n",
              "      <th>3</th>\n",
              "      <td>0-2-8-13</td>\n",
              "      <td>CC[C@@H]1C[C@@H]2[C@@H](OC[C@@H]2OC(=O)N[C@@H]...</td>\n",
              "      <td style=\"text-align: center;\"><div style=\"width: 200px; height: 200px\" data-content=\"rdkit/molecule\"><img src=\"data:image/png;base64,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\" alt=\"Mol\"/></div></td>\n",
              "    </tr>\n",
              "    <tr>\n",
              "      <th>4</th>\n",
              "      <td>0-2-8-14</td>\n",
              "      <td>CC[C@@H]1C[C@@H]2[C@@H](OC[C@@H]2OC(=O)N[C@@H]...</td>\n",
              "      <td style=\"text-align: center;\"><div style=\"width: 200px; height: 200px\" data-content=\"rdkit/molecule\"><img src=\"data:image/png;base64,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\" alt=\"Mol\"/></div></td>\n",
              "    </tr>\n",
              "  </tbody>\n",
              "</table>\n",
              "</div>\n",
              "      <button class=\"colab-df-convert\" onclick=\"convertToInteractive('df-19f41644-783c-4de4-af79-07919dbca019')\"\n",
              "              title=\"Convert this dataframe to an interactive table.\"\n",
              "              style=\"display:none;\">\n",
              "        \n",
              "  <svg xmlns=\"http://www.w3.org/2000/svg\" height=\"24px\"viewBox=\"0 0 24 24\"\n",
              "       width=\"24px\">\n",
              "    <path d=\"M0 0h24v24H0V0z\" fill=\"none\"/>\n",
              "    <path d=\"M18.56 5.44l.94 2.06.94-2.06 2.06-.94-2.06-.94-.94-2.06-.94 2.06-2.06.94zm-11 1L8.5 8.5l.94-2.06 2.06-.94-2.06-.94L8.5 2.5l-.94 2.06-2.06.94zm10 10l.94 2.06.94-2.06 2.06-.94-2.06-.94-.94-2.06-.94 2.06-2.06.94z\"/><path d=\"M17.41 7.96l-1.37-1.37c-.4-.4-.92-.59-1.43-.59-.52 0-1.04.2-1.43.59L10.3 9.45l-7.72 7.72c-.78.78-.78 2.05 0 2.83L4 21.41c.39.39.9.59 1.41.59.51 0 1.02-.2 1.41-.59l7.78-7.78 2.81-2.81c.8-.78.8-2.07 0-2.86zM5.41 20L4 18.59l7.72-7.72 1.47 1.35L5.41 20z\"/>\n",
              "  </svg>\n",
              "      </button>\n",
              "      \n",
              "  <style>\n",
              "    .colab-df-container {\n",
              "      display:flex;\n",
              "      flex-wrap:wrap;\n",
              "      gap: 12px;\n",
              "    }\n",
              "\n",
              "    .colab-df-convert {\n",
              "      background-color: #E8F0FE;\n",
              "      border: none;\n",
              "      border-radius: 50%;\n",
              "      cursor: pointer;\n",
              "      display: none;\n",
              "      fill: #1967D2;\n",
              "      height: 32px;\n",
              "      padding: 0 0 0 0;\n",
              "      width: 32px;\n",
              "    }\n",
              "\n",
              "    .colab-df-convert:hover {\n",
              "      background-color: #E2EBFA;\n",
              "      box-shadow: 0px 1px 2px rgba(60, 64, 67, 0.3), 0px 1px 3px 1px rgba(60, 64, 67, 0.15);\n",
              "      fill: #174EA6;\n",
              "    }\n",
              "\n",
              "    [theme=dark] .colab-df-convert {\n",
              "      background-color: #3B4455;\n",
              "      fill: #D2E3FC;\n",
              "    }\n",
              "\n",
              "    [theme=dark] .colab-df-convert:hover {\n",
              "      background-color: #434B5C;\n",
              "      box-shadow: 0px 1px 3px 1px rgba(0, 0, 0, 0.15);\n",
              "      filter: drop-shadow(0px 1px 2px rgba(0, 0, 0, 0.3));\n",
              "      fill: #FFFFFF;\n",
              "    }\n",
              "  </style>\n",
              "\n",
              "      <script>\n",
              "        const buttonEl =\n",
              "          document.querySelector('#df-19f41644-783c-4de4-af79-07919dbca019 button.colab-df-convert');\n",
              "        buttonEl.style.display =\n",
              "          google.colab.kernel.accessAllowed ? 'block' : 'none';\n",
              "\n",
              "        async function convertToInteractive(key) {\n",
              "          const element = document.querySelector('#df-19f41644-783c-4de4-af79-07919dbca019');\n",
              "          const dataTable =\n",
              "            await google.colab.kernel.invokeFunction('convertToInteractive',\n",
              "                                                     [key], {});\n",
              "          if (!dataTable) return;\n",
              "\n",
              "          const docLinkHtml = 'Like what you see? Visit the ' +\n",
              "            '<a target=\"_blank\" href=https://colab.research.google.com/notebooks/data_table.ipynb>data table notebook</a>'\n",
              "            + ' to learn more about interactive tables.';\n",
              "          element.innerHTML = '';\n",
              "          dataTable['output_type'] = 'display_data';\n",
              "          await google.colab.output.renderOutput(dataTable, element);\n",
              "          const docLink = document.createElement('div');\n",
              "          docLink.innerHTML = docLinkHtml;\n",
              "          element.appendChild(docLink);\n",
              "        }\n",
              "      </script>\n",
              "    </div>\n",
              "  </div>\n",
              "  "
            ]
          },
          "metadata": {},
          "execution_count": 45
        }
      ]
    },
    {
      "cell_type": "code",
      "source": [
        "#Visualize some chemical compounds\n",
        "v = py3Dmol.view()\n",
        "v.addModel(open('/content/TEST_RDkitBabel.sdf').read())\n",
        "v.setStyle({'stick':{'colorscheme':'greenCarbon'}})\n",
        "v.zoomTo()"
      ],
      "metadata": {
        "colab": {
          "base_uri": "https://localhost:8080/",
          "height": 515
        },
        "id": "FZBDD1X_-sO9",
        "outputId": "cb1b9f59-6d81-4fd8-9720-ad35392568b3"
      },
      "execution_count": 46,
      "outputs": [
        {
          "output_type": "display_data",
          "data": {
            "application/3dmoljs_load.v0": "<div id=\"3dmolviewer_1678701844326669\"  style=\"position: relative; width: 640px; height: 480px\">\n        <p id=\"3dmolwarning_1678701844326669\" style=\"background-color:#ffcccc;color:black\">You appear to be running in JupyterLab (or JavaScript failed to load for some other reason).  You need to install the 3dmol extension: <br>\n        <tt>jupyter labextension install jupyterlab_3dmol</tt></p>\n        </div>\n<script>\n\nvar loadScriptAsync = function(uri){\n  return new Promise((resolve, reject) => {\n    //this is to ignore the existence of requirejs amd\n    var savedexports, savedmodule;\n    if (typeof exports !== 'undefined') savedexports = exports;\n    else exports = {}\n    if (typeof module !== 'undefined') savedmodule = module;\n    else module = {}\n\n    var tag = document.createElement('script');\n    tag.src = uri;\n    tag.async = true;\n    tag.onload = () => {\n        exports = savedexports;\n        module = savedmodule;\n        resolve();\n    };\n  var firstScriptTag = document.getElementsByTagName('script')[0];\n  firstScriptTag.parentNode.insertBefore(tag, firstScriptTag);\n});\n};\n\nif(typeof $3Dmolpromise === 'undefined') {\n$3Dmolpromise = null;\n  $3Dmolpromise = loadScriptAsync('https://cdnjs.cloudflare.com/ajax/libs/3Dmol/2.0.1/3Dmol-min.js');\n}\n\nvar viewer_1678701844326669 = null;\nvar warn = document.getElementById(\"3dmolwarning_1678701844326669\");\nif(warn) {\n    warn.parentNode.removeChild(warn);\n}\n$3Dmolpromise.then(function() {\nviewer_1678701844326669 = $3Dmol.createViewer(document.getElementById(\"3dmolviewer_1678701844326669\"),{backgroundColor:\"white\"});\nviewer_1678701844326669.zoomTo();\n\tviewer_1678701844326669.addModel(\"0-2-8-10\\n OpenBabel03132310043D\\n\\n 80 84  0  0  0  0  0  0  0  0999 V2000\\n    4.7636    3.0015    0.6783 C   0  0  0  0  0  0  0  0  0  0  0  0\\n    5.9957    3.2456    0.0413 O   0  0  0  0  0  0  0  0  0  0  0  0\\n    5.9757    2.5696   -1.2013 C   0  0  1  0  0  0  0  0  0  0  0  0\\n    6.9587    1.5616   -1.2075 O   0  0  0  0  0  0  0  0  0  0  0  0\\n    6.3177    0.3734   -0.8116 C   0  0  1  0  0  0  0  0  0  0  0  0\\n    4.8612    0.4561   -1.2478 C   0  0  0  0  0  0  0  0  0  0  0  0\\n    4.6131    1.9457   -1.4308 C   0  0  1  0  0  0  0  0  0  0  0  0\\n    3.7540    2.6150   -0.3778 C   0  0  1  0  0  0  0  0  0  0  0  0\\n    2.7368    1.7672    0.1563 O   0  0  0  0  0  0  0  0  0  0  0  0\\n    1.5803    1.4254   -0.5519 C   0  0  0  0  0  0  0  0  0  0  0  0\\n    1.3384    1.9502   -1.6736 O   0  0  0  0  0  0  0  0  0  0  0  0\\n    0.6749    0.4698    0.0118 N   0  0  0  0  0  0  0  0  0  0  0  0\\n   -0.5941    0.1037   -0.6308 C   0  0  1  0  0  0  0  0  0  0  0  0\\n   -0.3572   -0.8339   -1.8442 C   0  0  0  0  0  0  0  0  0  0  0  0\\n    0.4447   -2.0721   -1.5207 C   0  0  0  0  0  0  0  0  0  0  0  0\\n   -0.1983   -3.2972   -1.2723 C   0  0  0  0  0  0  0  0  0  0  0  0\\n    0.5511   -4.4373   -0.9655 C   0  0  0  0  0  0  0  0  0  0  0  0\\n    1.9460   -4.3666   -0.9148 C   0  0  0  0  0  0  0  0  0  0  0  0\\n    2.5943   -3.1571   -1.1776 C   0  0  0  0  0  0  0  0  0  0  0  0\\n    1.8480   -2.0160   -1.4846 C   0  0  0  0  0  0  0  0  0  0  0  0\\n   -1.5995   -0.4432    0.4210 C   0  0  2  0  0  0  0  0  0  0  0  0\\n   -1.1443   -1.6583    0.9631 O   0  0  0  0  0  0  0  0  0  0  0  0\\n   -3.0144   -0.6429   -0.1840 C   0  0  0  0  0  0  0  0  0  0  0  0\\n   -4.1182   -0.5404    0.7953 N   0  0  0  0  0  0  0  0  0  0  0  0\\n   -4.0432   -1.5629    1.8551 C   0  0  0  0  0  0  0  0  0  0  0  0\\n   -5.3904   -1.7493    2.5004 C   0  0  0  0  0  0  0  0  0  0  0  0\\n   -5.6134   -1.3372    3.8241 C   0  0  0  0  0  0  0  0  0  0  0  0\\n   -6.8756   -1.4878    4.4104 C   0  0  0  0  0  0  0  0  0  0  0  0\\n   -7.9273   -2.0545    3.6704 C   0  0  0  0  0  0  0  0  0  0  0  0\\n   -7.7064   -2.4635    2.3507 C   0  0  0  0  0  0  0  0  0  0  0  0\\n   -6.4462   -2.3109    1.7671 C   0  0  0  0  0  0  0  0  0  0  0  0\\n   -9.5277   -2.2598    4.3692 Cl  0  0  0  0  0  0  0  0  0  0  0  0\\n   -7.1124   -0.9545    6.0692 Cl  0  0  0  0  0  0  0  0  0  0  0  0\\n   -4.3162    1.0786    1.4497 S   0  0  0  0  0  0  0  0  0  0  0  0\\n   -3.5447    1.2255    2.7331 O   0  0  0  0  0  0  0  0  0  0  0  0\\n   -5.7710    1.3083    1.7496 O   0  0  0  0  0  0  0  0  0  0  0  0\\n   -3.7883    2.3160    0.3066 C   0  0  0  0  0  0  0  0  0  0  0  0\\n   -2.5921    3.0172    0.5139 C   0  0  0  0  0  0  0  0  0  0  0  0\\n   -2.1567    3.9565   -0.4238 C   0  0  0  0  0  0  0  0  0  0  0  0\\n   -2.9134    4.2088   -1.5733 C   0  0  0  0  0  0  0  0  0  0  0  0\\n   -4.1179    3.5151   -1.7817 C   0  0  0  0  0  0  0  0  0  0  0  0\\n   -4.5501    2.5730   -0.8408 C   0  0  0  0  0  0  0  0  0  0  0  0\\n   -5.0967    3.7978   -3.2146 Cl  0  0  0  0  0  0  0  0  0  0  0  0\\n   -2.3285    5.3917   -2.7351 Cl  0  0  0  0  0  0  0  0  0  0  0  0\\n    7.0266   -0.8454   -1.4217 C   0  0  0  0  0  0  0  0  0  0  0  0\\n    8.4492   -0.9964   -0.8877 C   0  0  0  0  0  0  0  0  0  0  0  0\\n    4.4368    3.8851    1.1855 H   0  0  0  0  0  0  0  0  0  0  0  0\\n    4.8680    2.2142    1.3953 H   0  0  0  0  0  0  0  0  0  0  0  0\\n    6.1773    3.2721   -1.9828 H   0  0  0  0  0  0  0  0  0  0  0  0\\n    6.3612    0.2572    0.2512 H   0  0  0  0  0  0  0  0  0  0  0  0\\n    4.2158    0.0531   -0.4955 H   0  0  0  0  0  0  0  0  0  0  0  0\\n    4.6664   -0.1052   -2.1377 H   0  0  0  0  0  0  0  0  0  0  0  0\\n    4.1289    2.0689   -2.3770 H   0  0  0  0  0  0  0  0  0  0  0  0\\n    3.2013    3.4396   -0.7772 H   0  0  0  0  0  0  0  0  0  0  0  0\\n    0.9128    0.0405    0.8652 H   0  0  0  0  0  0  0  0  0  0  0  0\\n   -1.0521    0.9789   -1.0421 H   0  0  0  0  0  0  0  0  0  0  0  0\\n    0.1656   -0.2826   -2.5976 H   0  0  0  0  0  0  0  0  0  0  0  0\\n   -1.3208   -1.1670   -2.1689 H   0  0  0  0  0  0  0  0  0  0  0  0\\n   -1.2277   -3.3555   -1.3165 H   0  0  0  0  0  0  0  0  0  0  0  0\\n    0.0734   -5.3323   -0.7762 H   0  0  0  0  0  0  0  0  0  0  0  0\\n    2.4972   -5.2078   -0.6832 H   0  0  0  0  0  0  0  0  0  0  0  0\\n    3.6245   -3.1063   -1.1450 H   0  0  0  0  0  0  0  0  0  0  0  0\\n    2.3309   -1.1265   -1.6861 H   0  0  0  0  0  0  0  0  0  0  0  0\\n   -1.6665    0.2887    1.1987 H   0  0  0  0  0  0  0  0  0  0  0  0\\n   -1.0828   -2.3233    0.2596 H   0  0  0  0  0  0  0  0  0  0  0  0\\n   -3.0530   -1.6142   -0.6312 H   0  0  0  0  0  0  0  0  0  0  0  0\\n   -3.1587    0.1478   -0.8903 H   0  0  0  0  0  0  0  0  0  0  0  0\\n   -3.3373   -1.2513    2.5964 H   0  0  0  0  0  0  0  0  0  0  0  0\\n   -3.7348   -2.4910    1.4209 H   0  0  0  0  0  0  0  0  0  0  0  0\\n   -4.8418   -0.9206    4.3682 H   0  0  0  0  0  0  0  0  0  0  0  0\\n   -8.4778   -2.8798    1.8060 H   0  0  0  0  0  0  0  0  0  0  0  0\\n   -6.2914   -2.6126    0.7924 H   0  0  0  0  0  0  0  0  0  0  0  0\\n   -2.0316    2.8388    1.3618 H   0  0  0  0  0  0  0  0  0  0  0  0\\n   -1.2732    4.4665   -0.2681 H   0  0  0  0  0  0  0  0  0  0  0  0\\n   -5.4352    2.0647   -0.9932 H   0  0  0  0  0  0  0  0  0  0  0  0\\n    7.0657   -0.7279   -2.4845 H   0  0  0  0  0  0  0  0  0  0  0  0\\n    6.4745   -1.7217   -1.1532 H   0  0  0  0  0  0  0  0  0  0  0  0\\n    9.0208   -0.1293   -1.1453 H   0  0  0  0  0  0  0  0  0  0  0  0\\n    8.9024   -1.8638   -1.3203 H   0  0  0  0  0  0  0  0  0  0  0  0\\n    8.4213   -1.1019    0.1767 H   0  0  0  0  0  0  0  0  0  0  0  0\\n  1  2  1  0  0  0  0\\n  1 47  1  0  0  0  0\\n  1 48  1  0  0  0  0\\n  2  3  1  0  0  0  0\\n  3  4  1  0  0  0  0\\n  3 49  1  6  0  0  0\\n  4  5  1  0  0  0  0\\n  5  6  1  0  0  0  0\\n  5 45  1  0  0  0  0\\n  5 50  1  1  0  0  0\\n  6  7  1  0  0  0  0\\n  6 51  1  0  0  0  0\\n  6 52  1  0  0  0  0\\n  7  8  1  0  0  0  0\\n  7  3  1  0  0  0  0\\n  7 53  1  6  0  0  0\\n  8  9  1  0  0  0  0\\n  8  1  1  0  0  0  0\\n  8 54  1  6  0  0  0\\n  9 10  1  0  0  0  0\\n 10 11  2  0  0  0  0\\n 10 12  1  0  0  0  0\\n 12 13  1  0  0  0  0\\n 12 55  1  0  0  0  0\\n 13 14  1  0  0  0  0\\n 13 21  1  0  0  0  0\\n 13 56  1  6  0  0  0\\n 14 15  1  0  0  0  0\\n 14 57  1  0  0  0  0\\n 14 58  1  0  0  0  0\\n 15 16  2  0  0  0  0\\n 16 17  1  0  0  0  0\\n 16 59  1  0  0  0  0\\n 17 18  2  0  0  0  0\\n 17 60  1  0  0  0  0\\n 18 19  1  0  0  0  0\\n 18 61  1  0  0  0  0\\n 19 20  2  0  0  0  0\\n 19 62  1  0  0  0  0\\n 20 15  1  0  0  0  0\\n 20 63  1  0  0  0  0\\n 21 22  1  0  0  0  0\\n 21 23  1  0  0  0  0\\n 21 64  1  1  0  0  0\\n 22 65  1  0  0  0  0\\n 23 24  1  0  0  0  0\\n 23 66  1  0  0  0  0\\n 23 67  1  0  0  0  0\\n 24 25  1  0  0  0  0\\n 24 34  1  0  0  0  0\\n 25 26  1  0  0  0  0\\n 25 68  1  0  0  0  0\\n 25 69  1  0  0  0  0\\n 26 27  2  0  0  0  0\\n 27 28  1  0  0  0  0\\n 27 70  1  0  0  0  0\\n 28 29  2  0  0  0  0\\n 28 33  1  0  0  0  0\\n 29 30  1  0  0  0  0\\n 29 32  1  0  0  0  0\\n 30 31  2  0  0  0  0\\n 30 71  1  0  0  0  0\\n 31 26  1  0  0  0  0\\n 31 72  1  0  0  0  0\\n 34 35  2  0  0  0  0\\n 34 36  2  0  0  0  0\\n 34 37  1  0  0  0  0\\n 37 38  2  0  0  0  0\\n 38 39  1  0  0  0  0\\n 38 73  1  0  0  0  0\\n 39 40  2  0  0  0  0\\n 39 74  1  0  0  0  0\\n 40 41  1  0  0  0  0\\n 40 44  1  0  0  0  0\\n 41 42  2  0  0  0  0\\n 41 43  1  0  0  0  0\\n 42 37  1  0  0  0  0\\n 42 75  1  0  0  0  0\\n 45 46  1  0  0  0  0\\n 45 76  1  0  0  0  0\\n 45 77  1  0  0  0  0\\n 46 78  1  0  0  0  0\\n 46 79  1  0  0  0  0\\n 46 80  1  0  0  0  0\\nM  END\\n>  <_Library>\\n1060\\n\\n>  <_SourceID>\\n0-2-8-10\\n\\n>  <_SMILES>\\nC1O[C@H]2O[C@@H](C[C@H]2[C@H]1OC(=O)N[C@@H](Cc1ccccc1)[C@H](O)CN(Cc1cc(c(cc1)Cl)Cl)S(=O)(=O)c1ccc(c(c1)Cl)Cl)CC\\n\\n$$$$\\n0-2-8-11\\n OpenBabel03132310043D\\n\\n 80 84  0  0  0  0  0  0  0  0999 V2000\\n    5.3037    1.9597    1.7130 C   0  0  0  0  0  0  0  0  0  0  0  0\\n    6.3245    0.9909    1.7399 O   0  0  0  0  0  0  0  0  0  0  0  0\\n    5.9280   -0.0705    0.8940 C   0  0  1  0  0  0  0  0  0  0  0  0\\n    5.6850   -1.2243    1.6653 O   0  0  0  0  0  0  0  0  0  0  0  0\\n    4.2983   -1.2698    1.8989 C   0  0  1  0  0  0  0  0  0  0  0  0\\n    3.6036   -0.6062    0.7199 C   0  0  0  0  0  0  0  0  0  0  0  0\\n    4.6693    0.3091    0.1359 C   0  0  1  0  0  0  0  0  0  0  0  0\\n    4.5247    1.7919    0.4290 C   0  0  1  0  0  0  0  0  0  0  0  0\\n    3.1715    2.2190    0.5842 O   0  0  0  0  0  0  0  0  0  0  0  0\\n    2.2516    2.2170   -0.4679 C   0  0  0  0  0  0  0  0  0  0  0  0\\n    2.6418    2.0468   -1.6547 O   0  0  0  0  0  0  0  0  0  0  0  0\\n    0.8588    2.3745   -0.1719 N   0  0  0  0  0  0  0  0  0  0  0  0\\n   -0.2308    1.8373   -1.0000 C   0  0  1  0  0  0  0  0  0  0  0  0\\n   -0.3912    2.6454   -2.3075 C   0  0  0  0  0  0  0  0  0  0  0  0\\n   -0.6871    4.0948   -2.0194 C   0  0  0  0  0  0  0  0  0  0  0  0\\n   -1.9980    4.5019   -1.7189 C   0  0  0  0  0  0  0  0  0  0  0  0\\n   -2.2683    5.8403   -1.4180 C   0  0  0  0  0  0  0  0  0  0  0  0\\n   -1.2328    6.7789   -1.4073 C   0  0  0  0  0  0  0  0  0  0  0  0\\n    0.0754    6.3800   -1.6950 C   0  0  0  0  0  0  0  0  0  0  0  0\\n    0.3502    5.0426   -1.9968 C   0  0  0  0  0  0  0  0  0  0  0  0\\n   -0.0426    0.3105   -1.2307 C   0  0  2  0  0  0  0  0  0  0  0  0\\n    0.8229    0.0751   -2.3133 O   0  0  0  0  0  0  0  0  0  0  0  0\\n   -1.3886   -0.3984   -1.4789 C   0  0  0  0  0  0  0  0  0  0  0  0\\n   -1.2056   -1.8554   -1.6398 N   0  0  0  0  0  0  0  0  0  0  0  0\\n   -2.2282   -2.4903   -2.5028 C   0  0  0  0  0  0  0  0  0  0  0  0\\n   -3.5927   -2.6333   -1.8572 C   0  0  0  0  0  0  0  0  0  0  0  0\\n   -4.4103   -1.5125   -1.6312 C   0  0  0  0  0  0  0  0  0  0  0  0\\n   -5.6620   -1.6543   -1.0215 C   0  0  0  0  0  0  0  0  0  0  0  0\\n   -6.1271   -2.9310   -0.6679 C   0  0  0  0  0  0  0  0  0  0  0  0\\n   -5.3416   -4.0547   -0.9408 C   0  0  0  0  0  0  0  0  0  0  0  0\\n   -4.0850   -3.9092   -1.5340 C   0  0  0  0  0  0  0  0  0  0  0  0\\n   -7.6887   -3.1511    0.1090 Cl  0  0  0  0  0  0  0  0  0  0  0  0\\n   -6.6272   -0.2166   -0.7171 Cl  0  0  0  0  0  0  0  0  0  0  0  0\\n   -0.9443   -2.7095   -0.1238 S   0  0  0  0  0  0  0  0  0  0  0  0\\n   -1.1293   -4.1857   -0.3433 O   0  0  0  0  0  0  0  0  0  0  0  0\\n    0.4751   -2.5002    0.3232 O   0  0  0  0  0  0  0  0  0  0  0  0\\n   -2.0234   -2.1797    1.1765 C   0  0  0  0  0  0  0  0  0  0  0  0\\n   -3.1199   -2.9682    1.5578 C   0  0  0  0  0  0  0  0  0  0  0  0\\n   -3.9848   -2.5358    2.5672 C   0  0  0  0  0  0  0  0  0  0  0  0\\n   -3.7453   -1.3257    3.2232 C   0  0  0  0  0  0  0  0  0  0  0  0\\n   -2.6317   -0.5548    2.8793 C   0  0  0  0  0  0  0  0  0  0  0  0\\n   -1.7677   -0.9843    1.8676 C   0  0  0  0  0  0  0  0  0  0  0  0\\n   -4.5841   -0.9073    4.2027 F   0  0  0  0  0  0  0  0  0  0  0  0\\n    3.8341   -2.7219    2.0892 C   0  0  0  0  0  0  0  0  0  0  0  0\\n    4.4436   -3.3494    3.3407 C   0  0  0  0  0  0  0  0  0  0  0  0\\n    5.7331    2.9390    1.7504 H   0  0  0  0  0  0  0  0  0  0  0  0\\n    4.6563    1.8368    2.5560 H   0  0  0  0  0  0  0  0  0  0  0  0\\n    6.7114   -0.2680    0.1924 H   0  0  0  0  0  0  0  0  0  0  0  0\\n    4.0490   -0.7457    2.7979 H   0  0  0  0  0  0  0  0  0  0  0  0\\n    2.7547   -0.0425    1.0462 H   0  0  0  0  0  0  0  0  0  0  0  0\\n    3.2317   -1.3135    0.0083 H   0  0  0  0  0  0  0  0  0  0  0  0\\n    4.6361    0.1859   -0.9265 H   0  0  0  0  0  0  0  0  0  0  0  0\\n    4.8820    2.3918   -0.3818 H   0  0  0  0  0  0  0  0  0  0  0  0\\n    0.6151    2.8756    0.6397 H   0  0  0  0  0  0  0  0  0  0  0  0\\n   -1.1557    1.9510   -0.4742 H   0  0  0  0  0  0  0  0  0  0  0  0\\n   -1.1967    2.2313   -2.8772 H   0  0  0  0  0  0  0  0  0  0  0  0\\n    0.5262    2.5892   -2.8553 H   0  0  0  0  0  0  0  0  0  0  0  0\\n   -2.7641    3.8104   -1.7203 H   0  0  0  0  0  0  0  0  0  0  0  0\\n   -3.2336    6.1355   -1.2035 H   0  0  0  0  0  0  0  0  0  0  0  0\\n   -1.4342    7.7668   -1.1869 H   0  0  0  0  0  0  0  0  0  0  0  0\\n    0.8396    7.0735   -1.6847 H   0  0  0  0  0  0  0  0  0  0  0  0\\n    1.3182    4.7506   -2.2037 H   0  0  0  0  0  0  0  0  0  0  0  0\\n    0.3889   -0.0931   -0.3386 H   0  0  0  0  0  0  0  0  0  0  0  0\\n    0.4340    0.4401   -3.1235 H   0  0  0  0  0  0  0  0  0  0  0  0\\n   -1.8324   -0.0024   -2.3684 H   0  0  0  0  0  0  0  0  0  0  0  0\\n   -2.0211   -0.2286   -0.6327 H   0  0  0  0  0  0  0  0  0  0  0  0\\n   -1.8808   -3.4663   -2.7704 H   0  0  0  0  0  0  0  0  0  0  0  0\\n   -2.3565   -1.8465   -3.3478 H   0  0  0  0  0  0  0  0  0  0  0  0\\n   -4.0845   -0.5761   -1.9176 H   0  0  0  0  0  0  0  0  0  0  0  0\\n   -5.6915   -4.9960   -0.7030 H   0  0  0  0  0  0  0  0  0  0  0  0\\n   -3.5142   -4.7448   -1.7363 H   0  0  0  0  0  0  0  0  0  0  0  0\\n   -3.2887   -3.8726    1.0902 H   0  0  0  0  0  0  0  0  0  0  0  0\\n   -4.8010   -3.1109    2.8281 H   0  0  0  0  0  0  0  0  0  0  0  0\\n   -2.4469    0.3326    3.3727 H   0  0  0  0  0  0  0  0  0  0  0  0\\n   -0.9377   -0.4199    1.6274 H   0  0  0  0  0  0  0  0  0  0  0  0\\n    4.1288   -3.2951    1.2351 H   0  0  0  0  0  0  0  0  0  0  0  0\\n    2.7699   -2.7203    2.2009 H   0  0  0  0  0  0  0  0  0  0  0  0\\n    5.5097   -3.3614    3.2506 H   0  0  0  0  0  0  0  0  0  0  0  0\\n    4.0835   -4.3512    3.4489 H   0  0  0  0  0  0  0  0  0  0  0  0\\n    4.1646   -2.7754    4.1995 H   0  0  0  0  0  0  0  0  0  0  0  0\\n  1  2  1  0  0  0  0\\n  1 46  1  0  0  0  0\\n  1 47  1  0  0  0  0\\n  2  3  1  0  0  0  0\\n  3  4  1  0  0  0  0\\n  3 48  1  6  0  0  0\\n  4  5  1  0  0  0  0\\n  5  6  1  0  0  0  0\\n  5 44  1  0  0  0  0\\n  5 49  1  1  0  0  0\\n  6  7  1  0  0  0  0\\n  6 50  1  0  0  0  0\\n  6 51  1  0  0  0  0\\n  7  8  1  0  0  0  0\\n  7  3  1  0  0  0  0\\n  7 52  1  6  0  0  0\\n  8  9  1  0  0  0  0\\n  8  1  1  0  0  0  0\\n  8 53  1  6  0  0  0\\n  9 10  1  0  0  0  0\\n 10 11  2  0  0  0  0\\n 10 12  1  0  0  0  0\\n 12 13  1  0  0  0  0\\n 12 54  1  0  0  0  0\\n 13 14  1  0  0  0  0\\n 13 21  1  0  0  0  0\\n 13 55  1  1  0  0  0\\n 14 15  1  0  0  0  0\\n 14 56  1  0  0  0  0\\n 14 57  1  0  0  0  0\\n 15 16  2  0  0  0  0\\n 16 17  1  0  0  0  0\\n 16 58  1  0  0  0  0\\n 17 18  2  0  0  0  0\\n 17 59  1  0  0  0  0\\n 18 19  1  0  0  0  0\\n 18 60  1  0  0  0  0\\n 19 20  2  0  0  0  0\\n 19 61  1  0  0  0  0\\n 20 15  1  0  0  0  0\\n 20 62  1  0  0  0  0\\n 21 22  1  0  0  0  0\\n 21 23  1  0  0  0  0\\n 21 63  1  1  0  0  0\\n 22 64  1  0  0  0  0\\n 23 24  1  0  0  0  0\\n 23 65  1  0  0  0  0\\n 23 66  1  0  0  0  0\\n 24 25  1  0  0  0  0\\n 24 34  1  0  0  0  0\\n 25 26  1  0  0  0  0\\n 25 67  1  0  0  0  0\\n 25 68  1  0  0  0  0\\n 26 27  2  0  0  0  0\\n 27 28  1  0  0  0  0\\n 27 69  1  0  0  0  0\\n 28 29  2  0  0  0  0\\n 28 33  1  0  0  0  0\\n 29 30  1  0  0  0  0\\n 29 32  1  0  0  0  0\\n 30 31  2  0  0  0  0\\n 30 70  1  0  0  0  0\\n 31 26  1  0  0  0  0\\n 31 71  1  0  0  0  0\\n 34 35  2  0  0  0  0\\n 34 36  2  0  0  0  0\\n 34 37  1  0  0  0  0\\n 37 38  2  0  0  0  0\\n 38 39  1  0  0  0  0\\n 38 72  1  0  0  0  0\\n 39 40  2  0  0  0  0\\n 39 73  1  0  0  0  0\\n 40 41  1  0  0  0  0\\n 40 43  1  0  0  0  0\\n 41 42  2  0  0  0  0\\n 41 74  1  0  0  0  0\\n 42 37  1  0  0  0  0\\n 42 75  1  0  0  0  0\\n 44 45  1  0  0  0  0\\n 44 76  1  0  0  0  0\\n 44 77  1  0  0  0  0\\n 45 78  1  0  0  0  0\\n 45 79  1  0  0  0  0\\n 45 80  1  0  0  0  0\\nM  END\\n>  <_Library>\\n1061\\n\\n>  <_SourceID>\\n0-2-8-11\\n\\n>  <_SMILES>\\nC1O[C@H]2O[C@@H](C[C@H]2[C@H]1OC(=O)N[C@@H](Cc1ccccc1)[C@H](O)CN(Cc1cc(c(cc1)Cl)Cl)S(=O)(=O)c1ccc(cc1)F)CC\\n\\n$$$$\\n0-2-8-12\\n OpenBabel03132310043D\\n\\n 80 84  0  0  0  0  0  0  0  0999 V2000\\n    2.9166    0.9238    4.5070 C   0  0  0  0  0  0  0  0  0  0  0  0\\n    4.2515    0.4813    4.5183 O   0  0  0  0  0  0  0  0  0  0  0  0\\n    4.9392    1.2219    3.5339 C   0  0  1  0  0  0  0  0  0  0  0  0\\n    5.6886    0.3429    2.7189 O   0  0  0  0  0  0  0  0  0  0  0  0\\n    5.1473    0.3949    1.4176 C   0  0  1  0  0  0  0  0  0  0  0  0\\n    4.3968    1.7101    1.2741 C   0  0  0  0  0  0  0  0  0  0  0  0\\n    3.9457    1.9899    2.6845 C   0  0  1  0  0  0  0  0  0  0  0  0\\n    2.5972    1.4290    3.1169 C   0  0  1  0  0  0  0  0  0  0  0  0\\n    2.1663    0.3234    2.3174 O   0  0  0  0  0  0  0  0  0  0  0  0\\n    1.3593    0.4507    1.1828 C   0  0  0  0  0  0  0  0  0  0  0  0\\n    0.8687    1.5699    0.8675 O   0  0  0  0  0  0  0  0  0  0  0  0\\n    1.1274   -0.6998    0.3627 N   0  0  0  0  0  0  0  0  0  0  0  0\\n    0.6192   -0.5935   -1.0087 C   0  0  1  0  0  0  0  0  0  0  0  0\\n    1.8154   -0.3542   -1.9597 C   0  0  0  0  0  0  0  0  0  0  0  0\\n    1.3945    0.2466   -3.2785 C   0  0  0  0  0  0  0  0  0  0  0  0\\n    0.9156    1.5675   -3.3316 C   0  0  0  0  0  0  0  0  0  0  0  0\\n    0.5087    2.1217   -4.5487 C   0  0  0  0  0  0  0  0  0  0  0  0\\n    0.5829    1.3660   -5.7217 C   0  0  0  0  0  0  0  0  0  0  0  0\\n    1.0665    0.0555   -5.6798 C   0  0  0  0  0  0  0  0  0  0  0  0\\n    1.4735   -0.5035   -4.4643 C   0  0  0  0  0  0  0  0  0  0  0  0\\n   -0.1830   -1.8696   -1.3741 C   0  0  2  0  0  0  0  0  0  0  0  0\\n   -0.6122   -1.8042   -2.7101 O   0  0  0  0  0  0  0  0  0  0  0  0\\n   -1.4094   -2.0694   -0.4599 C   0  0  0  0  0  0  0  0  0  0  0  0\\n   -2.4339   -1.0371   -0.7427 N   0  0  0  0  0  0  0  0  0  0  0  0\\n   -2.5828   -0.0840    0.3755 C   0  0  0  0  0  0  0  0  0  0  0  0\\n   -3.2388    1.1928   -0.0846 C   0  0  0  0  0  0  0  0  0  0  0  0\\n   -2.7772    1.8552   -1.2349 C   0  0  0  0  0  0  0  0  0  0  0  0\\n   -3.3677    3.0533   -1.6507 C   0  0  0  0  0  0  0  0  0  0  0  0\\n   -4.4248    3.6056   -0.9083 C   0  0  0  0  0  0  0  0  0  0  0  0\\n   -4.8768    2.9557    0.2453 C   0  0  0  0  0  0  0  0  0  0  0  0\\n   -4.2846    1.7599    0.6596 C   0  0  0  0  0  0  0  0  0  0  0  0\\n   -5.1946    5.1089   -1.3970 Cl  0  0  0  0  0  0  0  0  0  0  0  0\\n   -2.7621    3.8392   -3.1025 Cl  0  0  0  0  0  0  0  0  0  0  0  0\\n   -3.9744   -1.7635   -1.1609 S   0  0  0  0  0  0  0  0  0  0  0  0\\n   -4.9129   -0.7014   -1.6627 O   0  0  0  0  0  0  0  0  0  0  0  0\\n   -3.7763   -2.7598   -2.2698 O   0  0  0  0  0  0  0  0  0  0  0  0\\n   -4.7068   -2.5775    0.2240 C   0  0  0  0  0  0  0  0  0  0  0  0\\n   -5.6181   -1.8939    1.0428 C   0  0  0  0  0  0  0  0  0  0  0  0\\n   -6.1898   -2.5332    2.1467 C   0  0  0  0  0  0  0  0  0  0  0  0\\n   -5.8591   -3.8608    2.4367 C   0  0  0  0  0  0  0  0  0  0  0  0\\n   -4.9572   -4.5492    1.6190 C   0  0  0  0  0  0  0  0  0  0  0  0\\n   -4.3837   -3.9111    0.5149 C   0  0  0  0  0  0  0  0  0  0  0  0\\n   -6.6402   -4.7331    3.9453 Br  0  0  0  0  0  0  0  0  0  0  0  0\\n    6.2697    0.2339    0.3801 C   0  0  0  0  0  0  0  0  0  0  0  0\\n    5.7258    0.1099   -1.0434 C   0  0  0  0  0  0  0  0  0  0  0  0\\n    2.7911    1.7142    5.2173 H   0  0  0  0  0  0  0  0  0  0  0  0\\n    2.2591    0.1211    4.7684 H   0  0  0  0  0  0  0  0  0  0  0  0\\n    5.6021    1.9145    4.0090 H   0  0  0  0  0  0  0  0  0  0  0  0\\n    4.4592   -0.4067    1.2477 H   0  0  0  0  0  0  0  0  0  0  0  0\\n    3.5604    1.6071    0.6148 H   0  0  0  0  0  0  0  0  0  0  0  0\\n    4.9915    2.4947    0.8550 H   0  0  0  0  0  0  0  0  0  0  0  0\\n    3.8761    3.0537    2.7765 H   0  0  0  0  0  0  0  0  0  0  0  0\\n    1.8150    2.1552    3.0421 H   0  0  0  0  0  0  0  0  0  0  0  0\\n    1.3156   -1.5927    0.7321 H   0  0  0  0  0  0  0  0  0  0  0  0\\n   -0.0535    0.2332   -1.1034 H   0  0  0  0  0  0  0  0  0  0  0  0\\n    2.2970   -1.2910   -2.1476 H   0  0  0  0  0  0  0  0  0  0  0  0\\n    2.4760    0.3393   -1.4828 H   0  0  0  0  0  0  0  0  0  0  0  0\\n    0.8643    2.1304   -2.4682 H   0  0  0  0  0  0  0  0  0  0  0  0\\n    0.1531    3.0900   -4.5810 H   0  0  0  0  0  0  0  0  0  0  0  0\\n    0.2805    1.7758   -6.6193 H   0  0  0  0  0  0  0  0  0  0  0  0\\n    1.1234   -0.5006   -6.5473 H   0  0  0  0  0  0  0  0  0  0  0  0\\n    1.8332   -1.4704   -4.4380 H   0  0  0  0  0  0  0  0  0  0  0  0\\n    0.4739   -2.7028   -1.2358 H   0  0  0  0  0  0  0  0  0  0  0  0\\n   -1.2063   -1.0456   -2.8221 H   0  0  0  0  0  0  0  0  0  0  0  0\\n   -1.1038   -1.9929    0.5627 H   0  0  0  0  0  0  0  0  0  0  0  0\\n   -1.8285   -3.0363   -0.6454 H   0  0  0  0  0  0  0  0  0  0  0  0\\n   -1.6155    0.1433    0.7724 H   0  0  0  0  0  0  0  0  0  0  0  0\\n   -3.2004   -0.5328    1.1252 H   0  0  0  0  0  0  0  0  0  0  0  0\\n   -1.9961    1.4544   -1.7774 H   0  0  0  0  0  0  0  0  0  0  0  0\\n   -5.6516    3.3616    0.7930 H   0  0  0  0  0  0  0  0  0  0  0  0\\n   -4.6178    1.2916    1.5168 H   0  0  0  0  0  0  0  0  0  0  0  0\\n   -5.8673   -0.9155    0.8294 H   0  0  0  0  0  0  0  0  0  0  0  0\\n   -6.8567   -2.0249    2.7484 H   0  0  0  0  0  0  0  0  0  0  0  0\\n   -4.7146   -5.5297    1.8308 H   0  0  0  0  0  0  0  0  0  0  0  0\\n   -3.7206   -4.4229   -0.0879 H   0  0  0  0  0  0  0  0  0  0  0  0\\n    6.8305   -0.6472    0.6128 H   0  0  0  0  0  0  0  0  0  0  0  0\\n    6.8844    1.1087    0.4222 H   0  0  0  0  0  0  0  0  0  0  0  0\\n    5.1058   -0.7593   -1.1139 H   0  0  0  0  0  0  0  0  0  0  0  0\\n    6.5414    0.0229   -1.7305 H   0  0  0  0  0  0  0  0  0  0  0  0\\n    5.1495    0.9793   -1.2820 H   0  0  0  0  0  0  0  0  0  0  0  0\\n  1  2  1  0  0  0  0\\n  1 46  1  0  0  0  0\\n  1 47  1  0  0  0  0\\n  2  3  1  0  0  0  0\\n  3  4  1  0  0  0  0\\n  3 48  1  1  0  0  0\\n  4  5  1  0  0  0  0\\n  5  6  1  0  0  0  0\\n  5 44  1  0  0  0  0\\n  5 49  1  6  0  0  0\\n  6  7  1  0  0  0  0\\n  6 50  1  0  0  0  0\\n  6 51  1  0  0  0  0\\n  7  8  1  0  0  0  0\\n  7  3  1  0  0  0  0\\n  7 52  1  1  0  0  0\\n  8  9  1  0  0  0  0\\n  8  1  1  0  0  0  0\\n  8 53  1  1  0  0  0\\n  9 10  1  0  0  0  0\\n 10 11  2  0  0  0  0\\n 10 12  1  0  0  0  0\\n 12 13  1  0  0  0  0\\n 12 54  1  0  0  0  0\\n 13 14  1  0  0  0  0\\n 13 21  1  0  0  0  0\\n 13 55  1  6  0  0  0\\n 14 15  1  0  0  0  0\\n 14 56  1  0  0  0  0\\n 14 57  1  0  0  0  0\\n 15 16  2  0  0  0  0\\n 16 17  1  0  0  0  0\\n 16 58  1  0  0  0  0\\n 17 18  2  0  0  0  0\\n 17 59  1  0  0  0  0\\n 18 19  1  0  0  0  0\\n 18 60  1  0  0  0  0\\n 19 20  2  0  0  0  0\\n 19 61  1  0  0  0  0\\n 20 15  1  0  0  0  0\\n 20 62  1  0  0  0  0\\n 21 22  1  0  0  0  0\\n 21 23  1  0  0  0  0\\n 21 63  1  1  0  0  0\\n 22 64  1  0  0  0  0\\n 23 24  1  0  0  0  0\\n 23 65  1  0  0  0  0\\n 23 66  1  0  0  0  0\\n 24 25  1  0  0  0  0\\n 24 34  1  0  0  0  0\\n 25 26  1  0  0  0  0\\n 25 67  1  0  0  0  0\\n 25 68  1  0  0  0  0\\n 26 27  2  0  0  0  0\\n 27 28  1  0  0  0  0\\n 27 69  1  0  0  0  0\\n 28 29  2  0  0  0  0\\n 28 33  1  0  0  0  0\\n 29 30  1  0  0  0  0\\n 29 32  1  0  0  0  0\\n 30 31  2  0  0  0  0\\n 30 70  1  0  0  0  0\\n 31 26  1  0  0  0  0\\n 31 71  1  0  0  0  0\\n 34 35  2  0  0  0  0\\n 34 36  2  0  0  0  0\\n 34 37  1  0  0  0  0\\n 37 38  2  0  0  0  0\\n 38 39  1  0  0  0  0\\n 38 72  1  0  0  0  0\\n 39 40  2  0  0  0  0\\n 39 73  1  0  0  0  0\\n 40 41  1  0  0  0  0\\n 40 43  1  0  0  0  0\\n 41 42  2  0  0  0  0\\n 41 74  1  0  0  0  0\\n 42 37  1  0  0  0  0\\n 42 75  1  0  0  0  0\\n 44 45  1  0  0  0  0\\n 44 76  1  0  0  0  0\\n 44 77  1  0  0  0  0\\n 45 78  1  0  0  0  0\\n 45 79  1  0  0  0  0\\n 45 80  1  0  0  0  0\\nM  END\\n>  <_Library>\\n1062\\n\\n>  <_SourceID>\\n0-2-8-12\\n\\n>  <_SMILES>\\nC1O[C@H]2O[C@@H](C[C@H]2[C@H]1OC(=O)N[C@@H](Cc1ccccc1)[C@H](O)CN(Cc1cc(c(cc1)Cl)Cl)S(=O)(=O)c1ccc(cc1)Br)CC\\n\\n$$$$\\n0-2-8-13\\n OpenBabel03132310043D\\n\\n 80 84  0  0  0  0  0  0  0  0999 V2000\\n    5.6397    1.3860    0.1590 C   0  0  0  0  0  0  0  0  0  0  0  0\\n    6.3544    0.4332    0.9096 O   0  0  0  0  0  0  0  0  0  0  0  0\\n    5.5671   -0.7396    0.9729 C   0  0  1  0  0  0  0  0  0  0  0  0\\n    5.1547   -0.9620    2.3016 O   0  0  0  0  0  0  0  0  0  0  0  0\\n    3.8604   -0.4229    2.4195 C   0  0  1  0  0  0  0  0  0  0  0  0\\n    3.1882   -0.5147    1.0580 C   0  0  0  0  0  0  0  0  0  0  0  0\\n    4.3492   -0.5985    0.0795 C   0  0  1  0  0  0  0  0  0  0  0  0\\n    4.6530    0.6545   -0.7220 C   0  0  1  0  0  0  0  0  0  0  0  0\\n    3.5064    1.4607   -0.9951 O   0  0  0  0  0  0  0  0  0  0  0  0\\n    2.4523    1.0332   -1.8079 C   0  0  0  0  0  0  0  0  0  0  0  0\\n    2.5538   -0.0316   -2.4756 O   0  0  0  0  0  0  0  0  0  0  0  0\\n    1.2453    1.8043   -1.8426 N   0  0  0  0  0  0  0  0  0  0  0  0\\n   -0.0948    1.2330   -2.0429 C   0  0  1  0  0  0  0  0  0  0  0  0\\n   -0.3010    0.7820   -3.5066 C   0  0  0  0  0  0  0  0  0  0  0  0\\n   -0.1469    1.9392   -4.4598 C   0  0  0  0  0  0  0  0  0  0  0  0\\n    1.0837    2.1808   -5.0939 C   0  0  0  0  0  0  0  0  0  0  0  0\\n    1.2310    3.2752   -5.9517 C   0  0  0  0  0  0  0  0  0  0  0  0\\n    0.1553    4.1385   -6.1771 C   0  0  0  0  0  0  0  0  0  0  0  0\\n   -1.0690    3.9105   -5.5427 C   0  0  0  0  0  0  0  0  0  0  0  0\\n   -1.2205    2.8176   -4.6838 C   0  0  0  0  0  0  0  0  0  0  0  0\\n   -0.3768    0.1228   -0.9890 C   0  0  2  0  0  0  0  0  0  0  0  0\\n    0.2552   -1.0906   -1.3206 O   0  0  0  0  0  0  0  0  0  0  0  0\\n   -1.8869   -0.0875   -0.7334 C   0  0  0  0  0  0  0  0  0  0  0  0\\n   -2.0906   -1.1274    0.2955 N   0  0  0  0  0  0  0  0  0  0  0  0\\n   -2.0291   -0.5643    1.6610 C   0  0  0  0  0  0  0  0  0  0  0  0\\n   -1.6077   -1.6226    2.6438 C   0  0  0  0  0  0  0  0  0  0  0  0\\n   -2.4043   -1.9208    3.7607 C   0  0  0  0  0  0  0  0  0  0  0  0\\n   -1.9982   -2.8946    4.6811 C   0  0  0  0  0  0  0  0  0  0  0  0\\n   -0.7835   -3.5748    4.4895 C   0  0  0  0  0  0  0  0  0  0  0  0\\n    0.0126   -3.2753    3.3790 C   0  0  0  0  0  0  0  0  0  0  0  0\\n   -0.3937   -2.3025    2.4629 C   0  0  0  0  0  0  0  0  0  0  0  0\\n   -0.2349   -4.8009    5.6239 Cl  0  0  0  0  0  0  0  0  0  0  0  0\\n   -3.0282   -3.2405    6.0636 Cl  0  0  0  0  0  0  0  0  0  0  0  0\\n   -3.6179   -1.9458    0.0392 S   0  0  0  0  0  0  0  0  0  0  0  0\\n   -3.8028   -3.0141    1.0809 O   0  0  0  0  0  0  0  0  0  0  0  0\\n   -3.6077   -2.6140   -1.3078 O   0  0  0  0  0  0  0  0  0  0  0  0\\n   -4.9720   -0.8158    0.1129 C   0  0  0  0  0  0  0  0  0  0  0  0\\n   -5.6813   -0.6378    1.3105 C   0  0  0  0  0  0  0  0  0  0  0  0\\n   -6.7462    0.2665    1.3692 C   0  0  0  0  0  0  0  0  0  0  0  0\\n   -7.1095    0.9952    0.2332 C   0  0  0  0  0  0  0  0  0  0  0  0\\n   -6.4087    0.8194   -0.9633 C   0  0  0  0  0  0  0  0  0  0  0  0\\n   -5.3434   -0.0841   -1.0251 C   0  0  0  0  0  0  0  0  0  0  0  0\\n    3.0633   -1.1737    3.4971 C   0  0  0  0  0  0  0  0  0  0  0  0\\n    3.6700   -0.9848    4.8851 C   0  0  0  0  0  0  0  0  0  0  0  0\\n    6.3168    1.9504   -0.4475 H   0  0  0  0  0  0  0  0  0  0  0  0\\n    5.1227    2.0572    0.8125 H   0  0  0  0  0  0  0  0  0  0  0  0\\n    6.1522   -1.5700    0.6369 H   0  0  0  0  0  0  0  0  0  0  0  0\\n    3.9053    0.6017    2.7244 H   0  0  0  0  0  0  0  0  0  0  0  0\\n    2.5929    0.3540    0.8684 H   0  0  0  0  0  0  0  0  0  0  0  0\\n    2.5244   -1.3504    0.9820 H   0  0  0  0  0  0  0  0  0  0  0  0\\n    4.1127   -1.3763   -0.6163 H   0  0  0  0  0  0  0  0  0  0  0  0\\n    5.0245    0.4179   -1.6972 H   0  0  0  0  0  0  0  0  0  0  0  0\\n    1.3177    2.7790   -1.7248 H   0  0  0  0  0  0  0  0  0  0  0  0\\n   -0.8300    1.9927   -1.8780 H   0  0  0  0  0  0  0  0  0  0  0  0\\n   -1.2841    0.3726   -3.6106 H   0  0  0  0  0  0  0  0  0  0  0  0\\n    0.4403    0.0473   -3.7426 H   0  0  0  0  0  0  0  0  0  0  0  0\\n    1.8816    1.5482   -4.9259 H   0  0  0  0  0  0  0  0  0  0  0  0\\n    2.1352    3.4457   -6.4190 H   0  0  0  0  0  0  0  0  0  0  0  0\\n    0.2650    4.9445   -6.8121 H   0  0  0  0  0  0  0  0  0  0  0  0\\n   -1.8622    4.5496   -5.7084 H   0  0  0  0  0  0  0  0  0  0  0  0\\n   -2.1242    2.6555   -4.2126 H   0  0  0  0  0  0  0  0  0  0  0  0\\n    0.0488    0.4723   -0.0716 H   0  0  0  0  0  0  0  0  0  0  0  0\\n   -0.1131   -1.4306   -2.1511 H   0  0  0  0  0  0  0  0  0  0  0  0\\n   -2.3601   -0.3931   -1.6431 H   0  0  0  0  0  0  0  0  0  0  0  0\\n   -2.3140    0.8315   -0.3900 H   0  0  0  0  0  0  0  0  0  0  0  0\\n   -2.9951   -0.1938    1.9338 H   0  0  0  0  0  0  0  0  0  0  0  0\\n   -1.3134    0.2309    1.6776 H   0  0  0  0  0  0  0  0  0  0  0  0\\n   -3.2947   -1.4191    3.9042 H   0  0  0  0  0  0  0  0  0  0  0  0\\n    0.9040   -3.7753    3.2360 H   0  0  0  0  0  0  0  0  0  0  0  0\\n    0.2017   -2.0827    1.6492 H   0  0  0  0  0  0  0  0  0  0  0  0\\n   -5.4163   -1.1758    2.1503 H   0  0  0  0  0  0  0  0  0  0  0  0\\n   -7.2644    0.3960    2.2522 H   0  0  0  0  0  0  0  0  0  0  0  0\\n   -7.8951    1.6630    0.2778 H   0  0  0  0  0  0  0  0  0  0  0  0\\n   -6.6779    1.3571   -1.8020 H   0  0  0  0  0  0  0  0  0  0  0  0\\n   -4.8288   -0.2131   -1.9103 H   0  0  0  0  0  0  0  0  0  0  0  0\\n    3.0583   -2.2172    3.2603 H   0  0  0  0  0  0  0  0  0  0  0  0\\n    2.0692   -0.7781    3.5118 H   0  0  0  0  0  0  0  0  0  0  0  0\\n    4.6667   -1.3739    4.8947 H   0  0  0  0  0  0  0  0  0  0  0  0\\n    3.0769   -1.5056    5.6075 H   0  0  0  0  0  0  0  0  0  0  0  0\\n    3.6917    0.0575    5.1260 H   0  0  0  0  0  0  0  0  0  0  0  0\\n  1  2  1  0  0  0  0\\n  1 45  1  0  0  0  0\\n  1 46  1  0  0  0  0\\n  2  3  1  0  0  0  0\\n  3  4  1  0  0  0  0\\n  3 47  1  6  0  0  0\\n  4  5  1  0  0  0  0\\n  5  6  1  0  0  0  0\\n  5 43  1  0  0  0  0\\n  5 48  1  1  0  0  0\\n  6  7  1  0  0  0  0\\n  6 49  1  0  0  0  0\\n  6 50  1  0  0  0  0\\n  7  8  1  0  0  0  0\\n  7  3  1  0  0  0  0\\n  7 51  1  6  0  0  0\\n  8  9  1  0  0  0  0\\n  8  1  1  0  0  0  0\\n  8 52  1  6  0  0  0\\n  9 10  1  0  0  0  0\\n 10 11  2  0  0  0  0\\n 10 12  1  0  0  0  0\\n 12 13  1  0  0  0  0\\n 12 53  1  0  0  0  0\\n 13 14  1  0  0  0  0\\n 13 21  1  0  0  0  0\\n 13 54  1  1  0  0  0\\n 14 15  1  0  0  0  0\\n 14 55  1  0  0  0  0\\n 14 56  1  0  0  0  0\\n 15 16  2  0  0  0  0\\n 16 17  1  0  0  0  0\\n 16 57  1  0  0  0  0\\n 17 18  2  0  0  0  0\\n 17 58  1  0  0  0  0\\n 18 19  1  0  0  0  0\\n 18 59  1  0  0  0  0\\n 19 20  2  0  0  0  0\\n 19 60  1  0  0  0  0\\n 20 15  1  0  0  0  0\\n 20 61  1  0  0  0  0\\n 21 22  1  0  0  0  0\\n 21 23  1  0  0  0  0\\n 21 62  1  1  0  0  0\\n 22 63  1  0  0  0  0\\n 23 24  1  0  0  0  0\\n 23 64  1  0  0  0  0\\n 23 65  1  0  0  0  0\\n 24 25  1  0  0  0  0\\n 24 34  1  0  0  0  0\\n 25 26  1  0  0  0  0\\n 25 66  1  0  0  0  0\\n 25 67  1  0  0  0  0\\n 26 27  2  0  0  0  0\\n 27 28  1  0  0  0  0\\n 27 68  1  0  0  0  0\\n 28 29  2  0  0  0  0\\n 28 33  1  0  0  0  0\\n 29 30  1  0  0  0  0\\n 29 32  1  0  0  0  0\\n 30 31  2  0  0  0  0\\n 30 69  1  0  0  0  0\\n 31 26  1  0  0  0  0\\n 31 70  1  0  0  0  0\\n 34 35  2  0  0  0  0\\n 34 36  2  0  0  0  0\\n 34 37  1  0  0  0  0\\n 37 38  2  0  0  0  0\\n 38 39  1  0  0  0  0\\n 38 71  1  0  0  0  0\\n 39 40  2  0  0  0  0\\n 39 72  1  0  0  0  0\\n 40 41  1  0  0  0  0\\n 40 73  1  0  0  0  0\\n 41 42  2  0  0  0  0\\n 41 74  1  0  0  0  0\\n 42 37  1  0  0  0  0\\n 42 75  1  0  0  0  0\\n 43 44  1  0  0  0  0\\n 43 76  1  0  0  0  0\\n 43 77  1  0  0  0  0\\n 44 78  1  0  0  0  0\\n 44 79  1  0  0  0  0\\n 44 80  1  0  0  0  0\\nM  END\\n>  <_Library>\\n1063\\n\\n>  <_SourceID>\\n0-2-8-13\\n\\n>  <_SMILES>\\nC1O[C@H]2O[C@@H](C[C@H]2[C@H]1OC(=O)N[C@@H](Cc1ccccc1)[C@H](O)CN(Cc1cc(c(cc1)Cl)Cl)S(=O)(=O)c1ccccc1)CC\\n\\n$$$$\\n0-2-8-14\\n OpenBabel03132310043D\\n\\n 82 86  0  0  0  0  0  0  0  0999 V2000\\n    3.7945   -4.2762    2.2250 C   0  0  0  0  0  0  0  0  0  0  0  0\\n    4.9748   -4.4271    1.4770 O   0  0  0  0  0  0  0  0  0  0  0  0\\n    5.7388   -3.2585    1.6762 C   0  0  1  0  0  0  0  0  0  0  0  0\\n    6.2213   -2.7949    0.4325 O   0  0  0  0  0  0  0  0  0  0  0  0\\n    5.5608   -1.5831    0.1447 C   0  0  1  0  0  0  0  0  0  0  0  0\\n    5.1022   -0.9754    1.4594 C   0  0  0  0  0  0  0  0  0  0  0  0\\n    4.8810   -2.1893    2.3270 C   0  0  1  0  0  0  0  0  0  0  0  0\\n    3.4857   -2.7983    2.3328 C   0  0  1  0  0  0  0  0  0  0  0  0\\n    2.6965   -2.4077    1.2043 O   0  0  0  0  0  0  0  0  0  0  0  0\\n    1.7651   -1.3640    1.2327 C   0  0  0  0  0  0  0  0  0  0  0  0\\n    1.5778   -0.7011    2.2901 O   0  0  0  0  0  0  0  0  0  0  0  0\\n    1.0294   -1.0533    0.0437 N   0  0  0  0  0  0  0  0  0  0  0  0\\n    0.0551    0.0423   -0.0181 C   0  0  1  0  0  0  0  0  0  0  0  0\\n    0.7758    1.4059   -0.1800 C   0  0  0  0  0  0  0  0  0  0  0  0\\n    1.5484    1.5510   -1.4705 C   0  0  0  0  0  0  0  0  0  0  0  0\\n    2.7936    0.9188   -1.6308 C   0  0  0  0  0  0  0  0  0  0  0  0\\n    3.5033    1.0496   -2.8281 C   0  0  0  0  0  0  0  0  0  0  0  0\\n    2.9808    1.8161   -3.8723 C   0  0  0  0  0  0  0  0  0  0  0  0\\n    1.7500    2.4587   -3.7188 C   0  0  0  0  0  0  0  0  0  0  0  0\\n    1.0373    2.3319   -2.5227 C   0  0  0  0  0  0  0  0  0  0  0  0\\n   -1.0295   -0.2634   -1.0859 C   0  0  2  0  0  0  0  0  0  0  0  0\\n   -0.4607   -0.3217   -2.3691 O   0  0  0  0  0  0  0  0  0  0  0  0\\n   -2.1772    0.7668   -1.0559 C   0  0  0  0  0  0  0  0  0  0  0  0\\n   -3.3355    0.3065   -1.8492 N   0  0  0  0  0  0  0  0  0  0  0  0\\n   -4.1212    1.4131   -2.4437 C   0  0  0  0  0  0  0  0  0  0  0  0\\n   -4.9697    2.1858   -1.4512 C   0  0  0  0  0  0  0  0  0  0  0  0\\n   -4.3822    3.0426   -0.5040 C   0  0  0  0  0  0  0  0  0  0  0  0\\n   -5.1740    3.7375    0.4173 C   0  0  0  0  0  0  0  0  0  0  0  0\\n   -6.5718    3.6144    0.3713 C   0  0  0  0  0  0  0  0  0  0  0  0\\n   -7.1645    2.8087   -0.6051 C   0  0  0  0  0  0  0  0  0  0  0  0\\n   -6.3714    2.1016   -1.5123 C   0  0  0  0  0  0  0  0  0  0  0  0\\n   -7.6012    4.4626    1.5166 Cl  0  0  0  0  0  0  0  0  0  0  0  0\\n   -4.3883    4.7571    1.6149 Cl  0  0  0  0  0  0  0  0  0  0  0  0\\n   -4.3301   -0.8830   -1.0162 S   0  0  0  0  0  0  0  0  0  0  0  0\\n   -3.7016   -2.2398   -1.1657 O   0  0  0  0  0  0  0  0  0  0  0  0\\n   -5.6894   -0.9485   -1.6561 O   0  0  0  0  0  0  0  0  0  0  0  0\\n   -4.5188   -0.5421    0.7105 C   0  0  0  0  0  0  0  0  0  0  0  0\\n   -5.6870    0.0582    1.1949 C   0  0  0  0  0  0  0  0  0  0  0  0\\n   -5.8096    0.3716    2.5495 C   0  0  0  0  0  0  0  0  0  0  0  0\\n   -4.7754    0.0705    3.4423 C   0  0  0  0  0  0  0  0  0  0  0  0\\n   -3.6101   -0.5694    2.9735 C   0  0  0  0  0  0  0  0  0  0  0  0\\n   -3.4989   -0.8827    1.6107 C   0  0  0  0  0  0  0  0  0  0  0  0\\n   -2.5332   -0.9008    3.8591 N   0  0  0  0  0  0  0  0  0  0  0  0\\n   -4.9803    0.5009    5.1356 Cl  0  0  0  0  0  0  0  0  0  0  0  0\\n    6.4916   -0.6348   -0.6253 C   0  0  0  0  0  0  0  0  0  0  0  0\\n    6.8792   -1.2090   -1.9864 C   0  0  0  0  0  0  0  0  0  0  0  0\\n    3.9303   -4.6897    3.2025 H   0  0  0  0  0  0  0  0  0  0  0  0\\n    2.9862   -4.7876    1.7454 H   0  0  0  0  0  0  0  0  0  0  0  0\\n    6.5664   -3.4794    2.3174 H   0  0  0  0  0  0  0  0  0  0  0  0\\n    4.7102   -1.7570   -0.4807 H   0  0  0  0  0  0  0  0  0  0  0  0\\n    4.1956   -0.4213    1.3328 H   0  0  0  0  0  0  0  0  0  0  0  0\\n    5.8026   -0.2801    1.8728 H   0  0  0  0  0  0  0  0  0  0  0  0\\n    5.0867   -1.8878    3.3328 H   0  0  0  0  0  0  0  0  0  0  0  0\\n    2.9206   -2.4970    3.1900 H   0  0  0  0  0  0  0  0  0  0  0  0\\n    1.1833   -1.5958   -0.7633 H   0  0  0  0  0  0  0  0  0  0  0  0\\n   -0.4756    0.1216    0.9076 H   0  0  0  0  0  0  0  0  0  0  0  0\\n    1.4594    1.5226    0.6349 H   0  0  0  0  0  0  0  0  0  0  0  0\\n    0.0130    2.1562   -0.1933 H   0  0  0  0  0  0  0  0  0  0  0  0\\n    3.1860    0.3551   -0.8605 H   0  0  0  0  0  0  0  0  0  0  0  0\\n    4.4148    0.5790   -2.9406 H   0  0  0  0  0  0  0  0  0  0  0  0\\n    3.5040    1.9077   -4.7571 H   0  0  0  0  0  0  0  0  0  0  0  0\\n    1.3662    3.0278   -4.4894 H   0  0  0  0  0  0  0  0  0  0  0  0\\n    0.1315    2.8138   -2.4113 H   0  0  0  0  0  0  0  0  0  0  0  0\\n   -1.4469   -1.2191   -0.8466 H   0  0  0  0  0  0  0  0  0  0  0  0\\n   -0.0799    0.5417   -2.5935 H   0  0  0  0  0  0  0  0  0  0  0  0\\n   -1.8245    1.6928   -1.4597 H   0  0  0  0  0  0  0  0  0  0  0  0\\n   -2.4921    0.8907   -0.0408 H   0  0  0  0  0  0  0  0  0  0  0  0\\n   -4.7698    1.0003   -3.1879 H   0  0  0  0  0  0  0  0  0  0  0  0\\n   -3.4132    2.1079   -2.8448 H   0  0  0  0  0  0  0  0  0  0  0  0\\n   -3.3571    3.1603   -0.4879 H   0  0  0  0  0  0  0  0  0  0  0  0\\n   -8.1927    2.7358   -0.6561 H   0  0  0  0  0  0  0  0  0  0  0  0\\n   -6.8181    1.5130   -2.2327 H   0  0  0  0  0  0  0  0  0  0  0  0\\n   -6.4617    0.2702    0.5469 H   0  0  0  0  0  0  0  0  0  0  0  0\\n   -6.6684    0.8282    2.8946 H   0  0  0  0  0  0  0  0  0  0  0  0\\n   -2.6566   -1.3696    1.2665 H   0  0  0  0  0  0  0  0  0  0  0  0\\n   -2.6001   -0.6857    4.8175 H   0  0  0  0  0  0  0  0  0  0  0  0\\n   -1.7265   -1.3435    3.5091 H   0  0  0  0  0  0  0  0  0  0  0  0\\n    7.3796   -0.4767   -0.0496 H   0  0  0  0  0  0  0  0  0  0  0  0\\n    5.9715    0.2862   -0.7867 H   0  0  0  0  0  0  0  0  0  0  0  0\\n    7.4017   -2.1325   -1.8482 H   0  0  0  0  0  0  0  0  0  0  0  0\\n    7.5114   -0.5148   -2.4994 H   0  0  0  0  0  0  0  0  0  0  0  0\\n    5.9960   -1.3820   -2.5651 H   0  0  0  0  0  0  0  0  0  0  0  0\\n  1  2  1  0  0  0  0\\n  1 47  1  0  0  0  0\\n  1 48  1  0  0  0  0\\n  2  3  1  0  0  0  0\\n  3  4  1  0  0  0  0\\n  3 49  1  1  0  0  0\\n  4  5  1  0  0  0  0\\n  5  6  1  0  0  0  0\\n  5 45  1  0  0  0  0\\n  5 50  1  6  0  0  0\\n  6  7  1  0  0  0  0\\n  6 51  1  0  0  0  0\\n  6 52  1  0  0  0  0\\n  7  8  1  0  0  0  0\\n  7  3  1  0  0  0  0\\n  7 53  1  1  0  0  0\\n  8  9  1  0  0  0  0\\n  8  1  1  0  0  0  0\\n  8 54  1  1  0  0  0\\n  9 10  1  0  0  0  0\\n 10 11  2  0  0  0  0\\n 10 12  1  0  0  0  0\\n 12 13  1  0  0  0  0\\n 12 55  1  0  0  0  0\\n 13 14  1  0  0  0  0\\n 13 21  1  0  0  0  0\\n 13 56  1  1  0  0  0\\n 14 15  1  0  0  0  0\\n 14 57  1  0  0  0  0\\n 14 58  1  0  0  0  0\\n 15 16  2  0  0  0  0\\n 16 17  1  0  0  0  0\\n 16 59  1  0  0  0  0\\n 17 18  2  0  0  0  0\\n 17 60  1  0  0  0  0\\n 18 19  1  0  0  0  0\\n 18 61  1  0  0  0  0\\n 19 20  2  0  0  0  0\\n 19 62  1  0  0  0  0\\n 20 15  1  0  0  0  0\\n 20 63  1  0  0  0  0\\n 21 22  1  0  0  0  0\\n 21 23  1  0  0  0  0\\n 21 64  1  1  0  0  0\\n 22 65  1  0  0  0  0\\n 23 24  1  0  0  0  0\\n 23 66  1  0  0  0  0\\n 23 67  1  0  0  0  0\\n 24 25  1  0  0  0  0\\n 24 34  1  0  0  0  0\\n 25 26  1  0  0  0  0\\n 25 68  1  0  0  0  0\\n 25 69  1  0  0  0  0\\n 26 27  2  0  0  0  0\\n 27 28  1  0  0  0  0\\n 27 70  1  0  0  0  0\\n 28 29  2  0  0  0  0\\n 28 33  1  0  0  0  0\\n 29 30  1  0  0  0  0\\n 29 32  1  0  0  0  0\\n 30 31  2  0  0  0  0\\n 30 71  1  0  0  0  0\\n 31 26  1  0  0  0  0\\n 31 72  1  0  0  0  0\\n 34 35  2  0  0  0  0\\n 34 36  2  0  0  0  0\\n 34 37  1  0  0  0  0\\n 37 38  2  0  0  0  0\\n 38 39  1  0  0  0  0\\n 38 73  1  0  0  0  0\\n 39 40  2  0  0  0  0\\n 39 74  1  0  0  0  0\\n 40 41  1  0  0  0  0\\n 40 44  1  0  0  0  0\\n 41 42  2  0  0  0  0\\n 41 43  1  0  0  0  0\\n 42 37  1  0  0  0  0\\n 42 75  1  0  0  0  0\\n 43 76  1  0  0  0  0\\n 43 77  1  0  0  0  0\\n 45 46  1  0  0  0  0\\n 45 78  1  0  0  0  0\\n 45 79  1  0  0  0  0\\n 46 80  1  0  0  0  0\\n 46 81  1  0  0  0  0\\n 46 82  1  0  0  0  0\\nM  END\\n>  <_Library>\\n1064\\n\\n>  <_SourceID>\\n0-2-8-14\\n\\n>  <_SMILES>\\nC1O[C@H]2O[C@@H](C[C@H]2[C@H]1OC(=O)N[C@@H](Cc1ccccc1)[C@H](O)CN(Cc1cc(c(cc1)Cl)Cl)S(=O)(=O)c1ccc(c(c1)N)Cl)CC\\n\\n$$$$\\n\");\n\tviewer_1678701844326669.setStyle({\"stick\": {\"colorscheme\": \"greenCarbon\"}});\n\tviewer_1678701844326669.zoomTo();\nviewer_1678701844326669.render();\n});\n</script>",
            "text/html": [
              "<div id=\"3dmolviewer_1678701844326669\"  style=\"position: relative; width: 640px; height: 480px\">\n",
              "        <p id=\"3dmolwarning_1678701844326669\" style=\"background-color:#ffcccc;color:black\">You appear to be running in JupyterLab (or JavaScript failed to load for some other reason).  You need to install the 3dmol extension: <br>\n",
              "        <tt>jupyter labextension install jupyterlab_3dmol</tt></p>\n",
              "        </div>\n",
              "<script>\n",
              "\n",
              "var loadScriptAsync = function(uri){\n",
              "  return new Promise((resolve, reject) => {\n",
              "    //this is to ignore the existence of requirejs amd\n",
              "    var savedexports, savedmodule;\n",
              "    if (typeof exports !== 'undefined') savedexports = exports;\n",
              "    else exports = {}\n",
              "    if (typeof module !== 'undefined') savedmodule = module;\n",
              "    else module = {}\n",
              "\n",
              "    var tag = document.createElement('script');\n",
              "    tag.src = uri;\n",
              "    tag.async = true;\n",
              "    tag.onload = () => {\n",
              "        exports = savedexports;\n",
              "        module = savedmodule;\n",
              "        resolve();\n",
              "    };\n",
              "  var firstScriptTag = document.getElementsByTagName('script')[0];\n",
              "  firstScriptTag.parentNode.insertBefore(tag, firstScriptTag);\n",
              "});\n",
              "};\n",
              "\n",
              "if(typeof $3Dmolpromise === 'undefined') {\n",
              "$3Dmolpromise = null;\n",
              "  $3Dmolpromise = loadScriptAsync('https://cdnjs.cloudflare.com/ajax/libs/3Dmol/2.0.1/3Dmol-min.js');\n",
              "}\n",
              "\n",
              "var viewer_1678701844326669 = null;\n",
              "var warn = document.getElementById(\"3dmolwarning_1678701844326669\");\n",
              "if(warn) {\n",
              "    warn.parentNode.removeChild(warn);\n",
              "}\n",
              "$3Dmolpromise.then(function() {\n",
              "viewer_1678701844326669 = $3Dmol.createViewer(document.getElementById(\"3dmolviewer_1678701844326669\"),{backgroundColor:\"white\"});\n",
              "viewer_1678701844326669.zoomTo();\n",
              "\tviewer_1678701844326669.addModel(\"0-2-8-10\\n OpenBabel03132310043D\\n\\n 80 84  0  0  0  0  0  0  0  0999 V2000\\n    4.7636    3.0015    0.6783 C   0  0  0  0  0  0  0  0  0  0  0  0\\n    5.9957    3.2456    0.0413 O   0  0  0  0  0  0  0  0  0  0  0  0\\n    5.9757    2.5696   -1.2013 C   0  0  1  0  0  0  0  0  0  0  0  0\\n    6.9587    1.5616   -1.2075 O   0  0  0  0  0  0  0  0  0  0  0  0\\n    6.3177    0.3734   -0.8116 C   0  0  1  0  0  0  0  0  0  0  0  0\\n    4.8612    0.4561   -1.2478 C   0  0  0  0  0  0  0  0  0  0  0  0\\n    4.6131    1.9457   -1.4308 C   0  0  1  0  0  0  0  0  0  0  0  0\\n    3.7540    2.6150   -0.3778 C   0  0  1  0  0  0  0  0  0  0  0  0\\n    2.7368    1.7672    0.1563 O   0  0  0  0  0  0  0  0  0  0  0  0\\n    1.5803    1.4254   -0.5519 C   0  0  0  0  0  0  0  0  0  0  0  0\\n    1.3384    1.9502   -1.6736 O   0  0  0  0  0  0  0  0  0  0  0  0\\n    0.6749    0.4698    0.0118 N   0  0  0  0  0  0  0  0  0  0  0  0\\n   -0.5941    0.1037   -0.6308 C   0  0  1  0  0  0  0  0  0  0  0  0\\n   -0.3572   -0.8339   -1.8442 C   0  0  0  0  0  0  0  0  0  0  0  0\\n    0.4447   -2.0721   -1.5207 C   0  0  0  0  0  0  0  0  0  0  0  0\\n   -0.1983   -3.2972   -1.2723 C   0  0  0  0  0  0  0  0  0  0  0  0\\n    0.5511   -4.4373   -0.9655 C   0  0  0  0  0  0  0  0  0  0  0  0\\n    1.9460   -4.3666   -0.9148 C   0  0  0  0  0  0  0  0  0  0  0  0\\n    2.5943   -3.1571   -1.1776 C   0  0  0  0  0  0  0  0  0  0  0  0\\n    1.8480   -2.0160   -1.4846 C   0  0  0  0  0  0  0  0  0  0  0  0\\n   -1.5995   -0.4432    0.4210 C   0  0  2  0  0  0  0  0  0  0  0  0\\n   -1.1443   -1.6583    0.9631 O   0  0  0  0  0  0  0  0  0  0  0  0\\n   -3.0144   -0.6429   -0.1840 C   0  0  0  0  0  0  0  0  0  0  0  0\\n   -4.1182   -0.5404    0.7953 N   0  0  0  0  0  0  0  0  0  0  0  0\\n   -4.0432   -1.5629    1.8551 C   0  0  0  0  0  0  0  0  0  0  0  0\\n   -5.3904   -1.7493    2.5004 C   0  0  0  0  0  0  0  0  0  0  0  0\\n   -5.6134   -1.3372    3.8241 C   0  0  0  0  0  0  0  0  0  0  0  0\\n   -6.8756   -1.4878    4.4104 C   0  0  0  0  0  0  0  0  0  0  0  0\\n   -7.9273   -2.0545    3.6704 C   0  0  0  0  0  0  0  0  0  0  0  0\\n   -7.7064   -2.4635    2.3507 C   0  0  0  0  0  0  0  0  0  0  0  0\\n   -6.4462   -2.3109    1.7671 C   0  0  0  0  0  0  0  0  0  0  0  0\\n   -9.5277   -2.2598    4.3692 Cl  0  0  0  0  0  0  0  0  0  0  0  0\\n   -7.1124   -0.9545    6.0692 Cl  0  0  0  0  0  0  0  0  0  0  0  0\\n   -4.3162    1.0786    1.4497 S   0  0  0  0  0  0  0  0  0  0  0  0\\n   -3.5447    1.2255    2.7331 O   0  0  0  0  0  0  0  0  0  0  0  0\\n   -5.7710    1.3083    1.7496 O   0  0  0  0  0  0  0  0  0  0  0  0\\n   -3.7883    2.3160    0.3066 C   0  0  0  0  0  0  0  0  0  0  0  0\\n   -2.5921    3.0172    0.5139 C   0  0  0  0  0  0  0  0  0  0  0  0\\n   -2.1567    3.9565   -0.4238 C   0  0  0  0  0  0  0  0  0  0  0  0\\n   -2.9134    4.2088   -1.5733 C   0  0  0  0  0  0  0  0  0  0  0  0\\n   -4.1179    3.5151   -1.7817 C   0  0  0  0  0  0  0  0  0  0  0  0\\n   -4.5501    2.5730   -0.8408 C   0  0  0  0  0  0  0  0  0  0  0  0\\n   -5.0967    3.7978   -3.2146 Cl  0  0  0  0  0  0  0  0  0  0  0  0\\n   -2.3285    5.3917   -2.7351 Cl  0  0  0  0  0  0  0  0  0  0  0  0\\n    7.0266   -0.8454   -1.4217 C   0  0  0  0  0  0  0  0  0  0  0  0\\n    8.4492   -0.9964   -0.8877 C   0  0  0  0  0  0  0  0  0  0  0  0\\n    4.4368    3.8851    1.1855 H   0  0  0  0  0  0  0  0  0  0  0  0\\n    4.8680    2.2142    1.3953 H   0  0  0  0  0  0  0  0  0  0  0  0\\n    6.1773    3.2721   -1.9828 H   0  0  0  0  0  0  0  0  0  0  0  0\\n    6.3612    0.2572    0.2512 H   0  0  0  0  0  0  0  0  0  0  0  0\\n    4.2158    0.0531   -0.4955 H   0  0  0  0  0  0  0  0  0  0  0  0\\n    4.6664   -0.1052   -2.1377 H   0  0  0  0  0  0  0  0  0  0  0  0\\n    4.1289    2.0689   -2.3770 H   0  0  0  0  0  0  0  0  0  0  0  0\\n    3.2013    3.4396   -0.7772 H   0  0  0  0  0  0  0  0  0  0  0  0\\n    0.9128    0.0405    0.8652 H   0  0  0  0  0  0  0  0  0  0  0  0\\n   -1.0521    0.9789   -1.0421 H   0  0  0  0  0  0  0  0  0  0  0  0\\n    0.1656   -0.2826   -2.5976 H   0  0  0  0  0  0  0  0  0  0  0  0\\n   -1.3208   -1.1670   -2.1689 H   0  0  0  0  0  0  0  0  0  0  0  0\\n   -1.2277   -3.3555   -1.3165 H   0  0  0  0  0  0  0  0  0  0  0  0\\n    0.0734   -5.3323   -0.7762 H   0  0  0  0  0  0  0  0  0  0  0  0\\n    2.4972   -5.2078   -0.6832 H   0  0  0  0  0  0  0  0  0  0  0  0\\n    3.6245   -3.1063   -1.1450 H   0  0  0  0  0  0  0  0  0  0  0  0\\n    2.3309   -1.1265   -1.6861 H   0  0  0  0  0  0  0  0  0  0  0  0\\n   -1.6665    0.2887    1.1987 H   0  0  0  0  0  0  0  0  0  0  0  0\\n   -1.0828   -2.3233    0.2596 H   0  0  0  0  0  0  0  0  0  0  0  0\\n   -3.0530   -1.6142   -0.6312 H   0  0  0  0  0  0  0  0  0  0  0  0\\n   -3.1587    0.1478   -0.8903 H   0  0  0  0  0  0  0  0  0  0  0  0\\n   -3.3373   -1.2513    2.5964 H   0  0  0  0  0  0  0  0  0  0  0  0\\n   -3.7348   -2.4910    1.4209 H   0  0  0  0  0  0  0  0  0  0  0  0\\n   -4.8418   -0.9206    4.3682 H   0  0  0  0  0  0  0  0  0  0  0  0\\n   -8.4778   -2.8798    1.8060 H   0  0  0  0  0  0  0  0  0  0  0  0\\n   -6.2914   -2.6126    0.7924 H   0  0  0  0  0  0  0  0  0  0  0  0\\n   -2.0316    2.8388    1.3618 H   0  0  0  0  0  0  0  0  0  0  0  0\\n   -1.2732    4.4665   -0.2681 H   0  0  0  0  0  0  0  0  0  0  0  0\\n   -5.4352    2.0647   -0.9932 H   0  0  0  0  0  0  0  0  0  0  0  0\\n    7.0657   -0.7279   -2.4845 H   0  0  0  0  0  0  0  0  0  0  0  0\\n    6.4745   -1.7217   -1.1532 H   0  0  0  0  0  0  0  0  0  0  0  0\\n    9.0208   -0.1293   -1.1453 H   0  0  0  0  0  0  0  0  0  0  0  0\\n    8.9024   -1.8638   -1.3203 H   0  0  0  0  0  0  0  0  0  0  0  0\\n    8.4213   -1.1019    0.1767 H   0  0  0  0  0  0  0  0  0  0  0  0\\n  1  2  1  0  0  0  0\\n  1 47  1  0  0  0  0\\n  1 48  1  0  0  0  0\\n  2  3  1  0  0  0  0\\n  3  4  1  0  0  0  0\\n  3 49  1  6  0  0  0\\n  4  5  1  0  0  0  0\\n  5  6  1  0  0  0  0\\n  5 45  1  0  0  0  0\\n  5 50  1  1  0  0  0\\n  6  7  1  0  0  0  0\\n  6 51  1  0  0  0  0\\n  6 52  1  0  0  0  0\\n  7  8  1  0  0  0  0\\n  7  3  1  0  0  0  0\\n  7 53  1  6  0  0  0\\n  8  9  1  0  0  0  0\\n  8  1  1  0  0  0  0\\n  8 54  1  6  0  0  0\\n  9 10  1  0  0  0  0\\n 10 11  2  0  0  0  0\\n 10 12  1  0  0  0  0\\n 12 13  1  0  0  0  0\\n 12 55  1  0  0  0  0\\n 13 14  1  0  0  0  0\\n 13 21  1  0  0  0  0\\n 13 56  1  6  0  0  0\\n 14 15  1  0  0  0  0\\n 14 57  1  0  0  0  0\\n 14 58  1  0  0  0  0\\n 15 16  2  0  0  0  0\\n 16 17  1  0  0  0  0\\n 16 59  1  0  0  0  0\\n 17 18  2  0  0  0  0\\n 17 60  1  0  0  0  0\\n 18 19  1  0  0  0  0\\n 18 61  1  0  0  0  0\\n 19 20  2  0  0  0  0\\n 19 62  1  0  0  0  0\\n 20 15  1  0  0  0  0\\n 20 63  1  0  0  0  0\\n 21 22  1  0  0  0  0\\n 21 23  1  0  0  0  0\\n 21 64  1  1  0  0  0\\n 22 65  1  0  0  0  0\\n 23 24  1  0  0  0  0\\n 23 66  1  0  0  0  0\\n 23 67  1  0  0  0  0\\n 24 25  1  0  0  0  0\\n 24 34  1  0  0  0  0\\n 25 26  1  0  0  0  0\\n 25 68  1  0  0  0  0\\n 25 69  1  0  0  0  0\\n 26 27  2  0  0  0  0\\n 27 28  1  0  0  0  0\\n 27 70  1  0  0  0  0\\n 28 29  2  0  0  0  0\\n 28 33  1  0  0  0  0\\n 29 30  1  0  0  0  0\\n 29 32  1  0  0  0  0\\n 30 31  2  0  0  0  0\\n 30 71  1  0  0  0  0\\n 31 26  1  0  0  0  0\\n 31 72  1  0  0  0  0\\n 34 35  2  0  0  0  0\\n 34 36  2  0  0  0  0\\n 34 37  1  0  0  0  0\\n 37 38  2  0  0  0  0\\n 38 39  1  0  0  0  0\\n 38 73  1  0  0  0  0\\n 39 40  2  0  0  0  0\\n 39 74  1  0  0  0  0\\n 40 41  1  0  0  0  0\\n 40 44  1  0  0  0  0\\n 41 42  2  0  0  0  0\\n 41 43  1  0  0  0  0\\n 42 37  1  0  0  0  0\\n 42 75  1  0  0  0  0\\n 45 46  1  0  0  0  0\\n 45 76  1  0  0  0  0\\n 45 77  1  0  0  0  0\\n 46 78  1  0  0  0  0\\n 46 79  1  0  0  0  0\\n 46 80  1  0  0  0  0\\nM  END\\n>  <_Library>\\n1060\\n\\n>  <_SourceID>\\n0-2-8-10\\n\\n>  <_SMILES>\\nC1O[C@H]2O[C@@H](C[C@H]2[C@H]1OC(=O)N[C@@H](Cc1ccccc1)[C@H](O)CN(Cc1cc(c(cc1)Cl)Cl)S(=O)(=O)c1ccc(c(c1)Cl)Cl)CC\\n\\n$$$$\\n0-2-8-11\\n OpenBabel03132310043D\\n\\n 80 84  0  0  0  0  0  0  0  0999 V2000\\n    5.3037    1.9597    1.7130 C   0  0  0  0  0  0  0  0  0  0  0  0\\n    6.3245    0.9909    1.7399 O   0  0  0  0  0  0  0  0  0  0  0  0\\n    5.9280   -0.0705    0.8940 C   0  0  1  0  0  0  0  0  0  0  0  0\\n    5.6850   -1.2243    1.6653 O   0  0  0  0  0  0  0  0  0  0  0  0\\n    4.2983   -1.2698    1.8989 C   0  0  1  0  0  0  0  0  0  0  0  0\\n    3.6036   -0.6062    0.7199 C   0  0  0  0  0  0  0  0  0  0  0  0\\n    4.6693    0.3091    0.1359 C   0  0  1  0  0  0  0  0  0  0  0  0\\n    4.5247    1.7919    0.4290 C   0  0  1  0  0  0  0  0  0  0  0  0\\n    3.1715    2.2190    0.5842 O   0  0  0  0  0  0  0  0  0  0  0  0\\n    2.2516    2.2170   -0.4679 C   0  0  0  0  0  0  0  0  0  0  0  0\\n    2.6418    2.0468   -1.6547 O   0  0  0  0  0  0  0  0  0  0  0  0\\n    0.8588    2.3745   -0.1719 N   0  0  0  0  0  0  0  0  0  0  0  0\\n   -0.2308    1.8373   -1.0000 C   0  0  1  0  0  0  0  0  0  0  0  0\\n   -0.3912    2.6454   -2.3075 C   0  0  0  0  0  0  0  0  0  0  0  0\\n   -0.6871    4.0948   -2.0194 C   0  0  0  0  0  0  0  0  0  0  0  0\\n   -1.9980    4.5019   -1.7189 C   0  0  0  0  0  0  0  0  0  0  0  0\\n   -2.2683    5.8403   -1.4180 C   0  0  0  0  0  0  0  0  0  0  0  0\\n   -1.2328    6.7789   -1.4073 C   0  0  0  0  0  0  0  0  0  0  0  0\\n    0.0754    6.3800   -1.6950 C   0  0  0  0  0  0  0  0  0  0  0  0\\n    0.3502    5.0426   -1.9968 C   0  0  0  0  0  0  0  0  0  0  0  0\\n   -0.0426    0.3105   -1.2307 C   0  0  2  0  0  0  0  0  0  0  0  0\\n    0.8229    0.0751   -2.3133 O   0  0  0  0  0  0  0  0  0  0  0  0\\n   -1.3886   -0.3984   -1.4789 C   0  0  0  0  0  0  0  0  0  0  0  0\\n   -1.2056   -1.8554   -1.6398 N   0  0  0  0  0  0  0  0  0  0  0  0\\n   -2.2282   -2.4903   -2.5028 C   0  0  0  0  0  0  0  0  0  0  0  0\\n   -3.5927   -2.6333   -1.8572 C   0  0  0  0  0  0  0  0  0  0  0  0\\n   -4.4103   -1.5125   -1.6312 C   0  0  0  0  0  0  0  0  0  0  0  0\\n   -5.6620   -1.6543   -1.0215 C   0  0  0  0  0  0  0  0  0  0  0  0\\n   -6.1271   -2.9310   -0.6679 C   0  0  0  0  0  0  0  0  0  0  0  0\\n   -5.3416   -4.0547   -0.9408 C   0  0  0  0  0  0  0  0  0  0  0  0\\n   -4.0850   -3.9092   -1.5340 C   0  0  0  0  0  0  0  0  0  0  0  0\\n   -7.6887   -3.1511    0.1090 Cl  0  0  0  0  0  0  0  0  0  0  0  0\\n   -6.6272   -0.2166   -0.7171 Cl  0  0  0  0  0  0  0  0  0  0  0  0\\n   -0.9443   -2.7095   -0.1238 S   0  0  0  0  0  0  0  0  0  0  0  0\\n   -1.1293   -4.1857   -0.3433 O   0  0  0  0  0  0  0  0  0  0  0  0\\n    0.4751   -2.5002    0.3232 O   0  0  0  0  0  0  0  0  0  0  0  0\\n   -2.0234   -2.1797    1.1765 C   0  0  0  0  0  0  0  0  0  0  0  0\\n   -3.1199   -2.9682    1.5578 C   0  0  0  0  0  0  0  0  0  0  0  0\\n   -3.9848   -2.5358    2.5672 C   0  0  0  0  0  0  0  0  0  0  0  0\\n   -3.7453   -1.3257    3.2232 C   0  0  0  0  0  0  0  0  0  0  0  0\\n   -2.6317   -0.5548    2.8793 C   0  0  0  0  0  0  0  0  0  0  0  0\\n   -1.7677   -0.9843    1.8676 C   0  0  0  0  0  0  0  0  0  0  0  0\\n   -4.5841   -0.9073    4.2027 F   0  0  0  0  0  0  0  0  0  0  0  0\\n    3.8341   -2.7219    2.0892 C   0  0  0  0  0  0  0  0  0  0  0  0\\n    4.4436   -3.3494    3.3407 C   0  0  0  0  0  0  0  0  0  0  0  0\\n    5.7331    2.9390    1.7504 H   0  0  0  0  0  0  0  0  0  0  0  0\\n    4.6563    1.8368    2.5560 H   0  0  0  0  0  0  0  0  0  0  0  0\\n    6.7114   -0.2680    0.1924 H   0  0  0  0  0  0  0  0  0  0  0  0\\n    4.0490   -0.7457    2.7979 H   0  0  0  0  0  0  0  0  0  0  0  0\\n    2.7547   -0.0425    1.0462 H   0  0  0  0  0  0  0  0  0  0  0  0\\n    3.2317   -1.3135    0.0083 H   0  0  0  0  0  0  0  0  0  0  0  0\\n    4.6361    0.1859   -0.9265 H   0  0  0  0  0  0  0  0  0  0  0  0\\n    4.8820    2.3918   -0.3818 H   0  0  0  0  0  0  0  0  0  0  0  0\\n    0.6151    2.8756    0.6397 H   0  0  0  0  0  0  0  0  0  0  0  0\\n   -1.1557    1.9510   -0.4742 H   0  0  0  0  0  0  0  0  0  0  0  0\\n   -1.1967    2.2313   -2.8772 H   0  0  0  0  0  0  0  0  0  0  0  0\\n    0.5262    2.5892   -2.8553 H   0  0  0  0  0  0  0  0  0  0  0  0\\n   -2.7641    3.8104   -1.7203 H   0  0  0  0  0  0  0  0  0  0  0  0\\n   -3.2336    6.1355   -1.2035 H   0  0  0  0  0  0  0  0  0  0  0  0\\n   -1.4342    7.7668   -1.1869 H   0  0  0  0  0  0  0  0  0  0  0  0\\n    0.8396    7.0735   -1.6847 H   0  0  0  0  0  0  0  0  0  0  0  0\\n    1.3182    4.7506   -2.2037 H   0  0  0  0  0  0  0  0  0  0  0  0\\n    0.3889   -0.0931   -0.3386 H   0  0  0  0  0  0  0  0  0  0  0  0\\n    0.4340    0.4401   -3.1235 H   0  0  0  0  0  0  0  0  0  0  0  0\\n   -1.8324   -0.0024   -2.3684 H   0  0  0  0  0  0  0  0  0  0  0  0\\n   -2.0211   -0.2286   -0.6327 H   0  0  0  0  0  0  0  0  0  0  0  0\\n   -1.8808   -3.4663   -2.7704 H   0  0  0  0  0  0  0  0  0  0  0  0\\n   -2.3565   -1.8465   -3.3478 H   0  0  0  0  0  0  0  0  0  0  0  0\\n   -4.0845   -0.5761   -1.9176 H   0  0  0  0  0  0  0  0  0  0  0  0\\n   -5.6915   -4.9960   -0.7030 H   0  0  0  0  0  0  0  0  0  0  0  0\\n   -3.5142   -4.7448   -1.7363 H   0  0  0  0  0  0  0  0  0  0  0  0\\n   -3.2887   -3.8726    1.0902 H   0  0  0  0  0  0  0  0  0  0  0  0\\n   -4.8010   -3.1109    2.8281 H   0  0  0  0  0  0  0  0  0  0  0  0\\n   -2.4469    0.3326    3.3727 H   0  0  0  0  0  0  0  0  0  0  0  0\\n   -0.9377   -0.4199    1.6274 H   0  0  0  0  0  0  0  0  0  0  0  0\\n    4.1288   -3.2951    1.2351 H   0  0  0  0  0  0  0  0  0  0  0  0\\n    2.7699   -2.7203    2.2009 H   0  0  0  0  0  0  0  0  0  0  0  0\\n    5.5097   -3.3614    3.2506 H   0  0  0  0  0  0  0  0  0  0  0  0\\n    4.0835   -4.3512    3.4489 H   0  0  0  0  0  0  0  0  0  0  0  0\\n    4.1646   -2.7754    4.1995 H   0  0  0  0  0  0  0  0  0  0  0  0\\n  1  2  1  0  0  0  0\\n  1 46  1  0  0  0  0\\n  1 47  1  0  0  0  0\\n  2  3  1  0  0  0  0\\n  3  4  1  0  0  0  0\\n  3 48  1  6  0  0  0\\n  4  5  1  0  0  0  0\\n  5  6  1  0  0  0  0\\n  5 44  1  0  0  0  0\\n  5 49  1  1  0  0  0\\n  6  7  1  0  0  0  0\\n  6 50  1  0  0  0  0\\n  6 51  1  0  0  0  0\\n  7  8  1  0  0  0  0\\n  7  3  1  0  0  0  0\\n  7 52  1  6  0  0  0\\n  8  9  1  0  0  0  0\\n  8  1  1  0  0  0  0\\n  8 53  1  6  0  0  0\\n  9 10  1  0  0  0  0\\n 10 11  2  0  0  0  0\\n 10 12  1  0  0  0  0\\n 12 13  1  0  0  0  0\\n 12 54  1  0  0  0  0\\n 13 14  1  0  0  0  0\\n 13 21  1  0  0  0  0\\n 13 55  1  1  0  0  0\\n 14 15  1  0  0  0  0\\n 14 56  1  0  0  0  0\\n 14 57  1  0  0  0  0\\n 15 16  2  0  0  0  0\\n 16 17  1  0  0  0  0\\n 16 58  1  0  0  0  0\\n 17 18  2  0  0  0  0\\n 17 59  1  0  0  0  0\\n 18 19  1  0  0  0  0\\n 18 60  1  0  0  0  0\\n 19 20  2  0  0  0  0\\n 19 61  1  0  0  0  0\\n 20 15  1  0  0  0  0\\n 20 62  1  0  0  0  0\\n 21 22  1  0  0  0  0\\n 21 23  1  0  0  0  0\\n 21 63  1  1  0  0  0\\n 22 64  1  0  0  0  0\\n 23 24  1  0  0  0  0\\n 23 65  1  0  0  0  0\\n 23 66  1  0  0  0  0\\n 24 25  1  0  0  0  0\\n 24 34  1  0  0  0  0\\n 25 26  1  0  0  0  0\\n 25 67  1  0  0  0  0\\n 25 68  1  0  0  0  0\\n 26 27  2  0  0  0  0\\n 27 28  1  0  0  0  0\\n 27 69  1  0  0  0  0\\n 28 29  2  0  0  0  0\\n 28 33  1  0  0  0  0\\n 29 30  1  0  0  0  0\\n 29 32  1  0  0  0  0\\n 30 31  2  0  0  0  0\\n 30 70  1  0  0  0  0\\n 31 26  1  0  0  0  0\\n 31 71  1  0  0  0  0\\n 34 35  2  0  0  0  0\\n 34 36  2  0  0  0  0\\n 34 37  1  0  0  0  0\\n 37 38  2  0  0  0  0\\n 38 39  1  0  0  0  0\\n 38 72  1  0  0  0  0\\n 39 40  2  0  0  0  0\\n 39 73  1  0  0  0  0\\n 40 41  1  0  0  0  0\\n 40 43  1  0  0  0  0\\n 41 42  2  0  0  0  0\\n 41 74  1  0  0  0  0\\n 42 37  1  0  0  0  0\\n 42 75  1  0  0  0  0\\n 44 45  1  0  0  0  0\\n 44 76  1  0  0  0  0\\n 44 77  1  0  0  0  0\\n 45 78  1  0  0  0  0\\n 45 79  1  0  0  0  0\\n 45 80  1  0  0  0  0\\nM  END\\n>  <_Library>\\n1061\\n\\n>  <_SourceID>\\n0-2-8-11\\n\\n>  <_SMILES>\\nC1O[C@H]2O[C@@H](C[C@H]2[C@H]1OC(=O)N[C@@H](Cc1ccccc1)[C@H](O)CN(Cc1cc(c(cc1)Cl)Cl)S(=O)(=O)c1ccc(cc1)F)CC\\n\\n$$$$\\n0-2-8-12\\n OpenBabel03132310043D\\n\\n 80 84  0  0  0  0  0  0  0  0999 V2000\\n    2.9166    0.9238    4.5070 C   0  0  0  0  0  0  0  0  0  0  0  0\\n    4.2515    0.4813    4.5183 O   0  0  0  0  0  0  0  0  0  0  0  0\\n    4.9392    1.2219    3.5339 C   0  0  1  0  0  0  0  0  0  0  0  0\\n    5.6886    0.3429    2.7189 O   0  0  0  0  0  0  0  0  0  0  0  0\\n    5.1473    0.3949    1.4176 C   0  0  1  0  0  0  0  0  0  0  0  0\\n    4.3968    1.7101    1.2741 C   0  0  0  0  0  0  0  0  0  0  0  0\\n    3.9457    1.9899    2.6845 C   0  0  1  0  0  0  0  0  0  0  0  0\\n    2.5972    1.4290    3.1169 C   0  0  1  0  0  0  0  0  0  0  0  0\\n    2.1663    0.3234    2.3174 O   0  0  0  0  0  0  0  0  0  0  0  0\\n    1.3593    0.4507    1.1828 C   0  0  0  0  0  0  0  0  0  0  0  0\\n    0.8687    1.5699    0.8675 O   0  0  0  0  0  0  0  0  0  0  0  0\\n    1.1274   -0.6998    0.3627 N   0  0  0  0  0  0  0  0  0  0  0  0\\n    0.6192   -0.5935   -1.0087 C   0  0  1  0  0  0  0  0  0  0  0  0\\n    1.8154   -0.3542   -1.9597 C   0  0  0  0  0  0  0  0  0  0  0  0\\n    1.3945    0.2466   -3.2785 C   0  0  0  0  0  0  0  0  0  0  0  0\\n    0.9156    1.5675   -3.3316 C   0  0  0  0  0  0  0  0  0  0  0  0\\n    0.5087    2.1217   -4.5487 C   0  0  0  0  0  0  0  0  0  0  0  0\\n    0.5829    1.3660   -5.7217 C   0  0  0  0  0  0  0  0  0  0  0  0\\n    1.0665    0.0555   -5.6798 C   0  0  0  0  0  0  0  0  0  0  0  0\\n    1.4735   -0.5035   -4.4643 C   0  0  0  0  0  0  0  0  0  0  0  0\\n   -0.1830   -1.8696   -1.3741 C   0  0  2  0  0  0  0  0  0  0  0  0\\n   -0.6122   -1.8042   -2.7101 O   0  0  0  0  0  0  0  0  0  0  0  0\\n   -1.4094   -2.0694   -0.4599 C   0  0  0  0  0  0  0  0  0  0  0  0\\n   -2.4339   -1.0371   -0.7427 N   0  0  0  0  0  0  0  0  0  0  0  0\\n   -2.5828   -0.0840    0.3755 C   0  0  0  0  0  0  0  0  0  0  0  0\\n   -3.2388    1.1928   -0.0846 C   0  0  0  0  0  0  0  0  0  0  0  0\\n   -2.7772    1.8552   -1.2349 C   0  0  0  0  0  0  0  0  0  0  0  0\\n   -3.3677    3.0533   -1.6507 C   0  0  0  0  0  0  0  0  0  0  0  0\\n   -4.4248    3.6056   -0.9083 C   0  0  0  0  0  0  0  0  0  0  0  0\\n   -4.8768    2.9557    0.2453 C   0  0  0  0  0  0  0  0  0  0  0  0\\n   -4.2846    1.7599    0.6596 C   0  0  0  0  0  0  0  0  0  0  0  0\\n   -5.1946    5.1089   -1.3970 Cl  0  0  0  0  0  0  0  0  0  0  0  0\\n   -2.7621    3.8392   -3.1025 Cl  0  0  0  0  0  0  0  0  0  0  0  0\\n   -3.9744   -1.7635   -1.1609 S   0  0  0  0  0  0  0  0  0  0  0  0\\n   -4.9129   -0.7014   -1.6627 O   0  0  0  0  0  0  0  0  0  0  0  0\\n   -3.7763   -2.7598   -2.2698 O   0  0  0  0  0  0  0  0  0  0  0  0\\n   -4.7068   -2.5775    0.2240 C   0  0  0  0  0  0  0  0  0  0  0  0\\n   -5.6181   -1.8939    1.0428 C   0  0  0  0  0  0  0  0  0  0  0  0\\n   -6.1898   -2.5332    2.1467 C   0  0  0  0  0  0  0  0  0  0  0  0\\n   -5.8591   -3.8608    2.4367 C   0  0  0  0  0  0  0  0  0  0  0  0\\n   -4.9572   -4.5492    1.6190 C   0  0  0  0  0  0  0  0  0  0  0  0\\n   -4.3837   -3.9111    0.5149 C   0  0  0  0  0  0  0  0  0  0  0  0\\n   -6.6402   -4.7331    3.9453 Br  0  0  0  0  0  0  0  0  0  0  0  0\\n    6.2697    0.2339    0.3801 C   0  0  0  0  0  0  0  0  0  0  0  0\\n    5.7258    0.1099   -1.0434 C   0  0  0  0  0  0  0  0  0  0  0  0\\n    2.7911    1.7142    5.2173 H   0  0  0  0  0  0  0  0  0  0  0  0\\n    2.2591    0.1211    4.7684 H   0  0  0  0  0  0  0  0  0  0  0  0\\n    5.6021    1.9145    4.0090 H   0  0  0  0  0  0  0  0  0  0  0  0\\n    4.4592   -0.4067    1.2477 H   0  0  0  0  0  0  0  0  0  0  0  0\\n    3.5604    1.6071    0.6148 H   0  0  0  0  0  0  0  0  0  0  0  0\\n    4.9915    2.4947    0.8550 H   0  0  0  0  0  0  0  0  0  0  0  0\\n    3.8761    3.0537    2.7765 H   0  0  0  0  0  0  0  0  0  0  0  0\\n    1.8150    2.1552    3.0421 H   0  0  0  0  0  0  0  0  0  0  0  0\\n    1.3156   -1.5927    0.7321 H   0  0  0  0  0  0  0  0  0  0  0  0\\n   -0.0535    0.2332   -1.1034 H   0  0  0  0  0  0  0  0  0  0  0  0\\n    2.2970   -1.2910   -2.1476 H   0  0  0  0  0  0  0  0  0  0  0  0\\n    2.4760    0.3393   -1.4828 H   0  0  0  0  0  0  0  0  0  0  0  0\\n    0.8643    2.1304   -2.4682 H   0  0  0  0  0  0  0  0  0  0  0  0\\n    0.1531    3.0900   -4.5810 H   0  0  0  0  0  0  0  0  0  0  0  0\\n    0.2805    1.7758   -6.6193 H   0  0  0  0  0  0  0  0  0  0  0  0\\n    1.1234   -0.5006   -6.5473 H   0  0  0  0  0  0  0  0  0  0  0  0\\n    1.8332   -1.4704   -4.4380 H   0  0  0  0  0  0  0  0  0  0  0  0\\n    0.4739   -2.7028   -1.2358 H   0  0  0  0  0  0  0  0  0  0  0  0\\n   -1.2063   -1.0456   -2.8221 H   0  0  0  0  0  0  0  0  0  0  0  0\\n   -1.1038   -1.9929    0.5627 H   0  0  0  0  0  0  0  0  0  0  0  0\\n   -1.8285   -3.0363   -0.6454 H   0  0  0  0  0  0  0  0  0  0  0  0\\n   -1.6155    0.1433    0.7724 H   0  0  0  0  0  0  0  0  0  0  0  0\\n   -3.2004   -0.5328    1.1252 H   0  0  0  0  0  0  0  0  0  0  0  0\\n   -1.9961    1.4544   -1.7774 H   0  0  0  0  0  0  0  0  0  0  0  0\\n   -5.6516    3.3616    0.7930 H   0  0  0  0  0  0  0  0  0  0  0  0\\n   -4.6178    1.2916    1.5168 H   0  0  0  0  0  0  0  0  0  0  0  0\\n   -5.8673   -0.9155    0.8294 H   0  0  0  0  0  0  0  0  0  0  0  0\\n   -6.8567   -2.0249    2.7484 H   0  0  0  0  0  0  0  0  0  0  0  0\\n   -4.7146   -5.5297    1.8308 H   0  0  0  0  0  0  0  0  0  0  0  0\\n   -3.7206   -4.4229   -0.0879 H   0  0  0  0  0  0  0  0  0  0  0  0\\n    6.8305   -0.6472    0.6128 H   0  0  0  0  0  0  0  0  0  0  0  0\\n    6.8844    1.1087    0.4222 H   0  0  0  0  0  0  0  0  0  0  0  0\\n    5.1058   -0.7593   -1.1139 H   0  0  0  0  0  0  0  0  0  0  0  0\\n    6.5414    0.0229   -1.7305 H   0  0  0  0  0  0  0  0  0  0  0  0\\n    5.1495    0.9793   -1.2820 H   0  0  0  0  0  0  0  0  0  0  0  0\\n  1  2  1  0  0  0  0\\n  1 46  1  0  0  0  0\\n  1 47  1  0  0  0  0\\n  2  3  1  0  0  0  0\\n  3  4  1  0  0  0  0\\n  3 48  1  1  0  0  0\\n  4  5  1  0  0  0  0\\n  5  6  1  0  0  0  0\\n  5 44  1  0  0  0  0\\n  5 49  1  6  0  0  0\\n  6  7  1  0  0  0  0\\n  6 50  1  0  0  0  0\\n  6 51  1  0  0  0  0\\n  7  8  1  0  0  0  0\\n  7  3  1  0  0  0  0\\n  7 52  1  1  0  0  0\\n  8  9  1  0  0  0  0\\n  8  1  1  0  0  0  0\\n  8 53  1  1  0  0  0\\n  9 10  1  0  0  0  0\\n 10 11  2  0  0  0  0\\n 10 12  1  0  0  0  0\\n 12 13  1  0  0  0  0\\n 12 54  1  0  0  0  0\\n 13 14  1  0  0  0  0\\n 13 21  1  0  0  0  0\\n 13 55  1  6  0  0  0\\n 14 15  1  0  0  0  0\\n 14 56  1  0  0  0  0\\n 14 57  1  0  0  0  0\\n 15 16  2  0  0  0  0\\n 16 17  1  0  0  0  0\\n 16 58  1  0  0  0  0\\n 17 18  2  0  0  0  0\\n 17 59  1  0  0  0  0\\n 18 19  1  0  0  0  0\\n 18 60  1  0  0  0  0\\n 19 20  2  0  0  0  0\\n 19 61  1  0  0  0  0\\n 20 15  1  0  0  0  0\\n 20 62  1  0  0  0  0\\n 21 22  1  0  0  0  0\\n 21 23  1  0  0  0  0\\n 21 63  1  1  0  0  0\\n 22 64  1  0  0  0  0\\n 23 24  1  0  0  0  0\\n 23 65  1  0  0  0  0\\n 23 66  1  0  0  0  0\\n 24 25  1  0  0  0  0\\n 24 34  1  0  0  0  0\\n 25 26  1  0  0  0  0\\n 25 67  1  0  0  0  0\\n 25 68  1  0  0  0  0\\n 26 27  2  0  0  0  0\\n 27 28  1  0  0  0  0\\n 27 69  1  0  0  0  0\\n 28 29  2  0  0  0  0\\n 28 33  1  0  0  0  0\\n 29 30  1  0  0  0  0\\n 29 32  1  0  0  0  0\\n 30 31  2  0  0  0  0\\n 30 70  1  0  0  0  0\\n 31 26  1  0  0  0  0\\n 31 71  1  0  0  0  0\\n 34 35  2  0  0  0  0\\n 34 36  2  0  0  0  0\\n 34 37  1  0  0  0  0\\n 37 38  2  0  0  0  0\\n 38 39  1  0  0  0  0\\n 38 72  1  0  0  0  0\\n 39 40  2  0  0  0  0\\n 39 73  1  0  0  0  0\\n 40 41  1  0  0  0  0\\n 40 43  1  0  0  0  0\\n 41 42  2  0  0  0  0\\n 41 74  1  0  0  0  0\\n 42 37  1  0  0  0  0\\n 42 75  1  0  0  0  0\\n 44 45  1  0  0  0  0\\n 44 76  1  0  0  0  0\\n 44 77  1  0  0  0  0\\n 45 78  1  0  0  0  0\\n 45 79  1  0  0  0  0\\n 45 80  1  0  0  0  0\\nM  END\\n>  <_Library>\\n1062\\n\\n>  <_SourceID>\\n0-2-8-12\\n\\n>  <_SMILES>\\nC1O[C@H]2O[C@@H](C[C@H]2[C@H]1OC(=O)N[C@@H](Cc1ccccc1)[C@H](O)CN(Cc1cc(c(cc1)Cl)Cl)S(=O)(=O)c1ccc(cc1)Br)CC\\n\\n$$$$\\n0-2-8-13\\n OpenBabel03132310043D\\n\\n 80 84  0  0  0  0  0  0  0  0999 V2000\\n    5.6397    1.3860    0.1590 C   0  0  0  0  0  0  0  0  0  0  0  0\\n    6.3544    0.4332    0.9096 O   0  0  0  0  0  0  0  0  0  0  0  0\\n    5.5671   -0.7396    0.9729 C   0  0  1  0  0  0  0  0  0  0  0  0\\n    5.1547   -0.9620    2.3016 O   0  0  0  0  0  0  0  0  0  0  0  0\\n    3.8604   -0.4229    2.4195 C   0  0  1  0  0  0  0  0  0  0  0  0\\n    3.1882   -0.5147    1.0580 C   0  0  0  0  0  0  0  0  0  0  0  0\\n    4.3492   -0.5985    0.0795 C   0  0  1  0  0  0  0  0  0  0  0  0\\n    4.6530    0.6545   -0.7220 C   0  0  1  0  0  0  0  0  0  0  0  0\\n    3.5064    1.4607   -0.9951 O   0  0  0  0  0  0  0  0  0  0  0  0\\n    2.4523    1.0332   -1.8079 C   0  0  0  0  0  0  0  0  0  0  0  0\\n    2.5538   -0.0316   -2.4756 O   0  0  0  0  0  0  0  0  0  0  0  0\\n    1.2453    1.8043   -1.8426 N   0  0  0  0  0  0  0  0  0  0  0  0\\n   -0.0948    1.2330   -2.0429 C   0  0  1  0  0  0  0  0  0  0  0  0\\n   -0.3010    0.7820   -3.5066 C   0  0  0  0  0  0  0  0  0  0  0  0\\n   -0.1469    1.9392   -4.4598 C   0  0  0  0  0  0  0  0  0  0  0  0\\n    1.0837    2.1808   -5.0939 C   0  0  0  0  0  0  0  0  0  0  0  0\\n    1.2310    3.2752   -5.9517 C   0  0  0  0  0  0  0  0  0  0  0  0\\n    0.1553    4.1385   -6.1771 C   0  0  0  0  0  0  0  0  0  0  0  0\\n   -1.0690    3.9105   -5.5427 C   0  0  0  0  0  0  0  0  0  0  0  0\\n   -1.2205    2.8176   -4.6838 C   0  0  0  0  0  0  0  0  0  0  0  0\\n   -0.3768    0.1228   -0.9890 C   0  0  2  0  0  0  0  0  0  0  0  0\\n    0.2552   -1.0906   -1.3206 O   0  0  0  0  0  0  0  0  0  0  0  0\\n   -1.8869   -0.0875   -0.7334 C   0  0  0  0  0  0  0  0  0  0  0  0\\n   -2.0906   -1.1274    0.2955 N   0  0  0  0  0  0  0  0  0  0  0  0\\n   -2.0291   -0.5643    1.6610 C   0  0  0  0  0  0  0  0  0  0  0  0\\n   -1.6077   -1.6226    2.6438 C   0  0  0  0  0  0  0  0  0  0  0  0\\n   -2.4043   -1.9208    3.7607 C   0  0  0  0  0  0  0  0  0  0  0  0\\n   -1.9982   -2.8946    4.6811 C   0  0  0  0  0  0  0  0  0  0  0  0\\n   -0.7835   -3.5748    4.4895 C   0  0  0  0  0  0  0  0  0  0  0  0\\n    0.0126   -3.2753    3.3790 C   0  0  0  0  0  0  0  0  0  0  0  0\\n   -0.3937   -2.3025    2.4629 C   0  0  0  0  0  0  0  0  0  0  0  0\\n   -0.2349   -4.8009    5.6239 Cl  0  0  0  0  0  0  0  0  0  0  0  0\\n   -3.0282   -3.2405    6.0636 Cl  0  0  0  0  0  0  0  0  0  0  0  0\\n   -3.6179   -1.9458    0.0392 S   0  0  0  0  0  0  0  0  0  0  0  0\\n   -3.8028   -3.0141    1.0809 O   0  0  0  0  0  0  0  0  0  0  0  0\\n   -3.6077   -2.6140   -1.3078 O   0  0  0  0  0  0  0  0  0  0  0  0\\n   -4.9720   -0.8158    0.1129 C   0  0  0  0  0  0  0  0  0  0  0  0\\n   -5.6813   -0.6378    1.3105 C   0  0  0  0  0  0  0  0  0  0  0  0\\n   -6.7462    0.2665    1.3692 C   0  0  0  0  0  0  0  0  0  0  0  0\\n   -7.1095    0.9952    0.2332 C   0  0  0  0  0  0  0  0  0  0  0  0\\n   -6.4087    0.8194   -0.9633 C   0  0  0  0  0  0  0  0  0  0  0  0\\n   -5.3434   -0.0841   -1.0251 C   0  0  0  0  0  0  0  0  0  0  0  0\\n    3.0633   -1.1737    3.4971 C   0  0  0  0  0  0  0  0  0  0  0  0\\n    3.6700   -0.9848    4.8851 C   0  0  0  0  0  0  0  0  0  0  0  0\\n    6.3168    1.9504   -0.4475 H   0  0  0  0  0  0  0  0  0  0  0  0\\n    5.1227    2.0572    0.8125 H   0  0  0  0  0  0  0  0  0  0  0  0\\n    6.1522   -1.5700    0.6369 H   0  0  0  0  0  0  0  0  0  0  0  0\\n    3.9053    0.6017    2.7244 H   0  0  0  0  0  0  0  0  0  0  0  0\\n    2.5929    0.3540    0.8684 H   0  0  0  0  0  0  0  0  0  0  0  0\\n    2.5244   -1.3504    0.9820 H   0  0  0  0  0  0  0  0  0  0  0  0\\n    4.1127   -1.3763   -0.6163 H   0  0  0  0  0  0  0  0  0  0  0  0\\n    5.0245    0.4179   -1.6972 H   0  0  0  0  0  0  0  0  0  0  0  0\\n    1.3177    2.7790   -1.7248 H   0  0  0  0  0  0  0  0  0  0  0  0\\n   -0.8300    1.9927   -1.8780 H   0  0  0  0  0  0  0  0  0  0  0  0\\n   -1.2841    0.3726   -3.6106 H   0  0  0  0  0  0  0  0  0  0  0  0\\n    0.4403    0.0473   -3.7426 H   0  0  0  0  0  0  0  0  0  0  0  0\\n    1.8816    1.5482   -4.9259 H   0  0  0  0  0  0  0  0  0  0  0  0\\n    2.1352    3.4457   -6.4190 H   0  0  0  0  0  0  0  0  0  0  0  0\\n    0.2650    4.9445   -6.8121 H   0  0  0  0  0  0  0  0  0  0  0  0\\n   -1.8622    4.5496   -5.7084 H   0  0  0  0  0  0  0  0  0  0  0  0\\n   -2.1242    2.6555   -4.2126 H   0  0  0  0  0  0  0  0  0  0  0  0\\n    0.0488    0.4723   -0.0716 H   0  0  0  0  0  0  0  0  0  0  0  0\\n   -0.1131   -1.4306   -2.1511 H   0  0  0  0  0  0  0  0  0  0  0  0\\n   -2.3601   -0.3931   -1.6431 H   0  0  0  0  0  0  0  0  0  0  0  0\\n   -2.3140    0.8315   -0.3900 H   0  0  0  0  0  0  0  0  0  0  0  0\\n   -2.9951   -0.1938    1.9338 H   0  0  0  0  0  0  0  0  0  0  0  0\\n   -1.3134    0.2309    1.6776 H   0  0  0  0  0  0  0  0  0  0  0  0\\n   -3.2947   -1.4191    3.9042 H   0  0  0  0  0  0  0  0  0  0  0  0\\n    0.9040   -3.7753    3.2360 H   0  0  0  0  0  0  0  0  0  0  0  0\\n    0.2017   -2.0827    1.6492 H   0  0  0  0  0  0  0  0  0  0  0  0\\n   -5.4163   -1.1758    2.1503 H   0  0  0  0  0  0  0  0  0  0  0  0\\n   -7.2644    0.3960    2.2522 H   0  0  0  0  0  0  0  0  0  0  0  0\\n   -7.8951    1.6630    0.2778 H   0  0  0  0  0  0  0  0  0  0  0  0\\n   -6.6779    1.3571   -1.8020 H   0  0  0  0  0  0  0  0  0  0  0  0\\n   -4.8288   -0.2131   -1.9103 H   0  0  0  0  0  0  0  0  0  0  0  0\\n    3.0583   -2.2172    3.2603 H   0  0  0  0  0  0  0  0  0  0  0  0\\n    2.0692   -0.7781    3.5118 H   0  0  0  0  0  0  0  0  0  0  0  0\\n    4.6667   -1.3739    4.8947 H   0  0  0  0  0  0  0  0  0  0  0  0\\n    3.0769   -1.5056    5.6075 H   0  0  0  0  0  0  0  0  0  0  0  0\\n    3.6917    0.0575    5.1260 H   0  0  0  0  0  0  0  0  0  0  0  0\\n  1  2  1  0  0  0  0\\n  1 45  1  0  0  0  0\\n  1 46  1  0  0  0  0\\n  2  3  1  0  0  0  0\\n  3  4  1  0  0  0  0\\n  3 47  1  6  0  0  0\\n  4  5  1  0  0  0  0\\n  5  6  1  0  0  0  0\\n  5 43  1  0  0  0  0\\n  5 48  1  1  0  0  0\\n  6  7  1  0  0  0  0\\n  6 49  1  0  0  0  0\\n  6 50  1  0  0  0  0\\n  7  8  1  0  0  0  0\\n  7  3  1  0  0  0  0\\n  7 51  1  6  0  0  0\\n  8  9  1  0  0  0  0\\n  8  1  1  0  0  0  0\\n  8 52  1  6  0  0  0\\n  9 10  1  0  0  0  0\\n 10 11  2  0  0  0  0\\n 10 12  1  0  0  0  0\\n 12 13  1  0  0  0  0\\n 12 53  1  0  0  0  0\\n 13 14  1  0  0  0  0\\n 13 21  1  0  0  0  0\\n 13 54  1  1  0  0  0\\n 14 15  1  0  0  0  0\\n 14 55  1  0  0  0  0\\n 14 56  1  0  0  0  0\\n 15 16  2  0  0  0  0\\n 16 17  1  0  0  0  0\\n 16 57  1  0  0  0  0\\n 17 18  2  0  0  0  0\\n 17 58  1  0  0  0  0\\n 18 19  1  0  0  0  0\\n 18 59  1  0  0  0  0\\n 19 20  2  0  0  0  0\\n 19 60  1  0  0  0  0\\n 20 15  1  0  0  0  0\\n 20 61  1  0  0  0  0\\n 21 22  1  0  0  0  0\\n 21 23  1  0  0  0  0\\n 21 62  1  1  0  0  0\\n 22 63  1  0  0  0  0\\n 23 24  1  0  0  0  0\\n 23 64  1  0  0  0  0\\n 23 65  1  0  0  0  0\\n 24 25  1  0  0  0  0\\n 24 34  1  0  0  0  0\\n 25 26  1  0  0  0  0\\n 25 66  1  0  0  0  0\\n 25 67  1  0  0  0  0\\n 26 27  2  0  0  0  0\\n 27 28  1  0  0  0  0\\n 27 68  1  0  0  0  0\\n 28 29  2  0  0  0  0\\n 28 33  1  0  0  0  0\\n 29 30  1  0  0  0  0\\n 29 32  1  0  0  0  0\\n 30 31  2  0  0  0  0\\n 30 69  1  0  0  0  0\\n 31 26  1  0  0  0  0\\n 31 70  1  0  0  0  0\\n 34 35  2  0  0  0  0\\n 34 36  2  0  0  0  0\\n 34 37  1  0  0  0  0\\n 37 38  2  0  0  0  0\\n 38 39  1  0  0  0  0\\n 38 71  1  0  0  0  0\\n 39 40  2  0  0  0  0\\n 39 72  1  0  0  0  0\\n 40 41  1  0  0  0  0\\n 40 73  1  0  0  0  0\\n 41 42  2  0  0  0  0\\n 41 74  1  0  0  0  0\\n 42 37  1  0  0  0  0\\n 42 75  1  0  0  0  0\\n 43 44  1  0  0  0  0\\n 43 76  1  0  0  0  0\\n 43 77  1  0  0  0  0\\n 44 78  1  0  0  0  0\\n 44 79  1  0  0  0  0\\n 44 80  1  0  0  0  0\\nM  END\\n>  <_Library>\\n1063\\n\\n>  <_SourceID>\\n0-2-8-13\\n\\n>  <_SMILES>\\nC1O[C@H]2O[C@@H](C[C@H]2[C@H]1OC(=O)N[C@@H](Cc1ccccc1)[C@H](O)CN(Cc1cc(c(cc1)Cl)Cl)S(=O)(=O)c1ccccc1)CC\\n\\n$$$$\\n0-2-8-14\\n OpenBabel03132310043D\\n\\n 82 86  0  0  0  0  0  0  0  0999 V2000\\n    3.7945   -4.2762    2.2250 C   0  0  0  0  0  0  0  0  0  0  0  0\\n    4.9748   -4.4271    1.4770 O   0  0  0  0  0  0  0  0  0  0  0  0\\n    5.7388   -3.2585    1.6762 C   0  0  1  0  0  0  0  0  0  0  0  0\\n    6.2213   -2.7949    0.4325 O   0  0  0  0  0  0  0  0  0  0  0  0\\n    5.5608   -1.5831    0.1447 C   0  0  1  0  0  0  0  0  0  0  0  0\\n    5.1022   -0.9754    1.4594 C   0  0  0  0  0  0  0  0  0  0  0  0\\n    4.8810   -2.1893    2.3270 C   0  0  1  0  0  0  0  0  0  0  0  0\\n    3.4857   -2.7983    2.3328 C   0  0  1  0  0  0  0  0  0  0  0  0\\n    2.6965   -2.4077    1.2043 O   0  0  0  0  0  0  0  0  0  0  0  0\\n    1.7651   -1.3640    1.2327 C   0  0  0  0  0  0  0  0  0  0  0  0\\n    1.5778   -0.7011    2.2901 O   0  0  0  0  0  0  0  0  0  0  0  0\\n    1.0294   -1.0533    0.0437 N   0  0  0  0  0  0  0  0  0  0  0  0\\n    0.0551    0.0423   -0.0181 C   0  0  1  0  0  0  0  0  0  0  0  0\\n    0.7758    1.4059   -0.1800 C   0  0  0  0  0  0  0  0  0  0  0  0\\n    1.5484    1.5510   -1.4705 C   0  0  0  0  0  0  0  0  0  0  0  0\\n    2.7936    0.9188   -1.6308 C   0  0  0  0  0  0  0  0  0  0  0  0\\n    3.5033    1.0496   -2.8281 C   0  0  0  0  0  0  0  0  0  0  0  0\\n    2.9808    1.8161   -3.8723 C   0  0  0  0  0  0  0  0  0  0  0  0\\n    1.7500    2.4587   -3.7188 C   0  0  0  0  0  0  0  0  0  0  0  0\\n    1.0373    2.3319   -2.5227 C   0  0  0  0  0  0  0  0  0  0  0  0\\n   -1.0295   -0.2634   -1.0859 C   0  0  2  0  0  0  0  0  0  0  0  0\\n   -0.4607   -0.3217   -2.3691 O   0  0  0  0  0  0  0  0  0  0  0  0\\n   -2.1772    0.7668   -1.0559 C   0  0  0  0  0  0  0  0  0  0  0  0\\n   -3.3355    0.3065   -1.8492 N   0  0  0  0  0  0  0  0  0  0  0  0\\n   -4.1212    1.4131   -2.4437 C   0  0  0  0  0  0  0  0  0  0  0  0\\n   -4.9697    2.1858   -1.4512 C   0  0  0  0  0  0  0  0  0  0  0  0\\n   -4.3822    3.0426   -0.5040 C   0  0  0  0  0  0  0  0  0  0  0  0\\n   -5.1740    3.7375    0.4173 C   0  0  0  0  0  0  0  0  0  0  0  0\\n   -6.5718    3.6144    0.3713 C   0  0  0  0  0  0  0  0  0  0  0  0\\n   -7.1645    2.8087   -0.6051 C   0  0  0  0  0  0  0  0  0  0  0  0\\n   -6.3714    2.1016   -1.5123 C   0  0  0  0  0  0  0  0  0  0  0  0\\n   -7.6012    4.4626    1.5166 Cl  0  0  0  0  0  0  0  0  0  0  0  0\\n   -4.3883    4.7571    1.6149 Cl  0  0  0  0  0  0  0  0  0  0  0  0\\n   -4.3301   -0.8830   -1.0162 S   0  0  0  0  0  0  0  0  0  0  0  0\\n   -3.7016   -2.2398   -1.1657 O   0  0  0  0  0  0  0  0  0  0  0  0\\n   -5.6894   -0.9485   -1.6561 O   0  0  0  0  0  0  0  0  0  0  0  0\\n   -4.5188   -0.5421    0.7105 C   0  0  0  0  0  0  0  0  0  0  0  0\\n   -5.6870    0.0582    1.1949 C   0  0  0  0  0  0  0  0  0  0  0  0\\n   -5.8096    0.3716    2.5495 C   0  0  0  0  0  0  0  0  0  0  0  0\\n   -4.7754    0.0705    3.4423 C   0  0  0  0  0  0  0  0  0  0  0  0\\n   -3.6101   -0.5694    2.9735 C   0  0  0  0  0  0  0  0  0  0  0  0\\n   -3.4989   -0.8827    1.6107 C   0  0  0  0  0  0  0  0  0  0  0  0\\n   -2.5332   -0.9008    3.8591 N   0  0  0  0  0  0  0  0  0  0  0  0\\n   -4.9803    0.5009    5.1356 Cl  0  0  0  0  0  0  0  0  0  0  0  0\\n    6.4916   -0.6348   -0.6253 C   0  0  0  0  0  0  0  0  0  0  0  0\\n    6.8792   -1.2090   -1.9864 C   0  0  0  0  0  0  0  0  0  0  0  0\\n    3.9303   -4.6897    3.2025 H   0  0  0  0  0  0  0  0  0  0  0  0\\n    2.9862   -4.7876    1.7454 H   0  0  0  0  0  0  0  0  0  0  0  0\\n    6.5664   -3.4794    2.3174 H   0  0  0  0  0  0  0  0  0  0  0  0\\n    4.7102   -1.7570   -0.4807 H   0  0  0  0  0  0  0  0  0  0  0  0\\n    4.1956   -0.4213    1.3328 H   0  0  0  0  0  0  0  0  0  0  0  0\\n    5.8026   -0.2801    1.8728 H   0  0  0  0  0  0  0  0  0  0  0  0\\n    5.0867   -1.8878    3.3328 H   0  0  0  0  0  0  0  0  0  0  0  0\\n    2.9206   -2.4970    3.1900 H   0  0  0  0  0  0  0  0  0  0  0  0\\n    1.1833   -1.5958   -0.7633 H   0  0  0  0  0  0  0  0  0  0  0  0\\n   -0.4756    0.1216    0.9076 H   0  0  0  0  0  0  0  0  0  0  0  0\\n    1.4594    1.5226    0.6349 H   0  0  0  0  0  0  0  0  0  0  0  0\\n    0.0130    2.1562   -0.1933 H   0  0  0  0  0  0  0  0  0  0  0  0\\n    3.1860    0.3551   -0.8605 H   0  0  0  0  0  0  0  0  0  0  0  0\\n    4.4148    0.5790   -2.9406 H   0  0  0  0  0  0  0  0  0  0  0  0\\n    3.5040    1.9077   -4.7571 H   0  0  0  0  0  0  0  0  0  0  0  0\\n    1.3662    3.0278   -4.4894 H   0  0  0  0  0  0  0  0  0  0  0  0\\n    0.1315    2.8138   -2.4113 H   0  0  0  0  0  0  0  0  0  0  0  0\\n   -1.4469   -1.2191   -0.8466 H   0  0  0  0  0  0  0  0  0  0  0  0\\n   -0.0799    0.5417   -2.5935 H   0  0  0  0  0  0  0  0  0  0  0  0\\n   -1.8245    1.6928   -1.4597 H   0  0  0  0  0  0  0  0  0  0  0  0\\n   -2.4921    0.8907   -0.0408 H   0  0  0  0  0  0  0  0  0  0  0  0\\n   -4.7698    1.0003   -3.1879 H   0  0  0  0  0  0  0  0  0  0  0  0\\n   -3.4132    2.1079   -2.8448 H   0  0  0  0  0  0  0  0  0  0  0  0\\n   -3.3571    3.1603   -0.4879 H   0  0  0  0  0  0  0  0  0  0  0  0\\n   -8.1927    2.7358   -0.6561 H   0  0  0  0  0  0  0  0  0  0  0  0\\n   -6.8181    1.5130   -2.2327 H   0  0  0  0  0  0  0  0  0  0  0  0\\n   -6.4617    0.2702    0.5469 H   0  0  0  0  0  0  0  0  0  0  0  0\\n   -6.6684    0.8282    2.8946 H   0  0  0  0  0  0  0  0  0  0  0  0\\n   -2.6566   -1.3696    1.2665 H   0  0  0  0  0  0  0  0  0  0  0  0\\n   -2.6001   -0.6857    4.8175 H   0  0  0  0  0  0  0  0  0  0  0  0\\n   -1.7265   -1.3435    3.5091 H   0  0  0  0  0  0  0  0  0  0  0  0\\n    7.3796   -0.4767   -0.0496 H   0  0  0  0  0  0  0  0  0  0  0  0\\n    5.9715    0.2862   -0.7867 H   0  0  0  0  0  0  0  0  0  0  0  0\\n    7.4017   -2.1325   -1.8482 H   0  0  0  0  0  0  0  0  0  0  0  0\\n    7.5114   -0.5148   -2.4994 H   0  0  0  0  0  0  0  0  0  0  0  0\\n    5.9960   -1.3820   -2.5651 H   0  0  0  0  0  0  0  0  0  0  0  0\\n  1  2  1  0  0  0  0\\n  1 47  1  0  0  0  0\\n  1 48  1  0  0  0  0\\n  2  3  1  0  0  0  0\\n  3  4  1  0  0  0  0\\n  3 49  1  1  0  0  0\\n  4  5  1  0  0  0  0\\n  5  6  1  0  0  0  0\\n  5 45  1  0  0  0  0\\n  5 50  1  6  0  0  0\\n  6  7  1  0  0  0  0\\n  6 51  1  0  0  0  0\\n  6 52  1  0  0  0  0\\n  7  8  1  0  0  0  0\\n  7  3  1  0  0  0  0\\n  7 53  1  1  0  0  0\\n  8  9  1  0  0  0  0\\n  8  1  1  0  0  0  0\\n  8 54  1  1  0  0  0\\n  9 10  1  0  0  0  0\\n 10 11  2  0  0  0  0\\n 10 12  1  0  0  0  0\\n 12 13  1  0  0  0  0\\n 12 55  1  0  0  0  0\\n 13 14  1  0  0  0  0\\n 13 21  1  0  0  0  0\\n 13 56  1  1  0  0  0\\n 14 15  1  0  0  0  0\\n 14 57  1  0  0  0  0\\n 14 58  1  0  0  0  0\\n 15 16  2  0  0  0  0\\n 16 17  1  0  0  0  0\\n 16 59  1  0  0  0  0\\n 17 18  2  0  0  0  0\\n 17 60  1  0  0  0  0\\n 18 19  1  0  0  0  0\\n 18 61  1  0  0  0  0\\n 19 20  2  0  0  0  0\\n 19 62  1  0  0  0  0\\n 20 15  1  0  0  0  0\\n 20 63  1  0  0  0  0\\n 21 22  1  0  0  0  0\\n 21 23  1  0  0  0  0\\n 21 64  1  1  0  0  0\\n 22 65  1  0  0  0  0\\n 23 24  1  0  0  0  0\\n 23 66  1  0  0  0  0\\n 23 67  1  0  0  0  0\\n 24 25  1  0  0  0  0\\n 24 34  1  0  0  0  0\\n 25 26  1  0  0  0  0\\n 25 68  1  0  0  0  0\\n 25 69  1  0  0  0  0\\n 26 27  2  0  0  0  0\\n 27 28  1  0  0  0  0\\n 27 70  1  0  0  0  0\\n 28 29  2  0  0  0  0\\n 28 33  1  0  0  0  0\\n 29 30  1  0  0  0  0\\n 29 32  1  0  0  0  0\\n 30 31  2  0  0  0  0\\n 30 71  1  0  0  0  0\\n 31 26  1  0  0  0  0\\n 31 72  1  0  0  0  0\\n 34 35  2  0  0  0  0\\n 34 36  2  0  0  0  0\\n 34 37  1  0  0  0  0\\n 37 38  2  0  0  0  0\\n 38 39  1  0  0  0  0\\n 38 73  1  0  0  0  0\\n 39 40  2  0  0  0  0\\n 39 74  1  0  0  0  0\\n 40 41  1  0  0  0  0\\n 40 44  1  0  0  0  0\\n 41 42  2  0  0  0  0\\n 41 43  1  0  0  0  0\\n 42 37  1  0  0  0  0\\n 42 75  1  0  0  0  0\\n 43 76  1  0  0  0  0\\n 43 77  1  0  0  0  0\\n 45 46  1  0  0  0  0\\n 45 78  1  0  0  0  0\\n 45 79  1  0  0  0  0\\n 46 80  1  0  0  0  0\\n 46 81  1  0  0  0  0\\n 46 82  1  0  0  0  0\\nM  END\\n>  <_Library>\\n1064\\n\\n>  <_SourceID>\\n0-2-8-14\\n\\n>  <_SMILES>\\nC1O[C@H]2O[C@@H](C[C@H]2[C@H]1OC(=O)N[C@@H](Cc1ccccc1)[C@H](O)CN(Cc1cc(c(cc1)Cl)Cl)S(=O)(=O)c1ccc(c(c1)N)Cl)CC\\n\\n$$$$\\n\");\n",
              "\tviewer_1678701844326669.setStyle({\"stick\": {\"colorscheme\": \"greenCarbon\"}});\n",
              "\tviewer_1678701844326669.zoomTo();\n",
              "viewer_1678701844326669.render();\n",
              "});\n",
              "</script>"
            ]
          },
          "metadata": {}
        },
        {
          "output_type": "execute_result",
          "data": {
            "text/plain": [
              "<py3Dmol.view at 0x7f63c4674d60>"
            ]
          },
          "metadata": {},
          "execution_count": 46
        }
      ]
    }
  ]
}